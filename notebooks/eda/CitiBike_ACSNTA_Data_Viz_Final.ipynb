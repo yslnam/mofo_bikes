{
 "cells": [
  {
   "cell_type": "markdown",
   "metadata": {},
   "source": [
    "# Mapping CitiBike Data + ACS by NTA Data"
   ]
  },
  {
   "cell_type": "code",
   "execution_count": 340,
   "metadata": {},
   "outputs": [],
   "source": [
    "import numpy as np\n",
    "import pandas as pd\n",
    "import datetime as dt\n",
    "from pandas.api.types import CategoricalDtype\n",
    "\n",
    "import folium\n",
    "import branca\n",
    "import fiona\n",
    "import geopandas as gpd\n",
    "from shapely.geometry import Point\n",
    "from matplotlib.colors import Normalize, rgb2hex\n",
    "import matplotlib.cm as cm\n",
    "\n",
    "import seaborn as sns\n",
    "import matplotlib.pyplot as plt\n",
    "import matplotlib.ticker as tkr\n",
    "import matplotlib.dates as mdates\n",
    "import plotly.graph_objects as go"
   ]
  },
  {
   "cell_type": "markdown",
   "metadata": {},
   "source": [
    "## Define helper functions"
   ]
  },
  {
   "cell_type": "code",
   "execution_count": 2,
   "metadata": {},
   "outputs": [],
   "source": [
    "def colpercent(df):\n",
    "    print(\"Total NaN in Dataframe: \" , df.isnull().sum().sum())\n",
    "    print(\"Percent Missingness in Dataframe: \", 100*df.isnull().sum().sum()/(len(df.index)*len(df.columns)))\n",
    "    print('-'*55)\n",
    "    percentnulldf = df.isnull().sum()/(df.isnull().sum()+df.notna().sum())\n",
    "    print(\"Percent Missingness by Columns:\")\n",
    "    print(100*percentnulldf[percentnulldf>0].sort_values(ascending=False))\n",
    "    \n",
    "def data_eval(df):\n",
    "    for i in range(len(df.columns)):\n",
    "        print('-'*50)\n",
    "        print('Column Name: ', df.columns[i])\n",
    "        if (df[df.columns[i]].dtypes == 'float64' or df[df.columns[i]].dtypes == 'int64') and df[df.columns[i]][df[df.columns[i]]<0].count()>0:\n",
    "            print('Number of negatives: ', df[df.columns[i]][df[df.columns[i]]<0].count())\n",
    "        if df[df.columns[i]][df[df.columns[i]]=='None'].count() > 0:\n",
    "            print('Number of None strings: ', df[df.columns[i]][df[df.columns[i]]=='None'].count())\n",
    "        if df[df.columns[i]][df[df.columns[i]]==''].count() > 0:\n",
    "            print('Number of empty strings: ', df[df.columns[i]][df[df.columns[i]]==''].count())\n",
    "        else:\n",
    "            print('Column ' + str(i) + ' has no negatives, empty strings or Nones')"
   ]
  },
  {
   "cell_type": "code",
   "execution_count": 3,
   "metadata": {},
   "outputs": [],
   "source": [
    "def show_all(df):\n",
    "    pd.set_option('display.max_columns', None)\n",
    "    pd.set_option('display.max_rows', len(df))\n",
    "    print(df)\n",
    "    pd.reset_option('display.max_columns')\n",
    "    pd.reset_option('display.max_rows')"
   ]
  },
  {
   "cell_type": "markdown",
   "metadata": {},
   "source": [
    "## Import and load data"
   ]
  },
  {
   "cell_type": "code",
   "execution_count": 4,
   "metadata": {},
   "outputs": [
    {
     "name": "stderr",
     "output_type": "stream",
     "text": [
      "C:\\Users\\Ivan Passoni\\anaconda3\\lib\\site-packages\\IPython\\core\\interactiveshell.py:3063: DtypeWarning: Columns (34) have mixed types.Specify dtype option on import or set low_memory=False.\n",
      "  interactivity=interactivity, compiler=compiler, result=result)\n"
     ]
    }
   ],
   "source": [
    "cbacs_path = '../../data/02_processed/sample_citibike_with_acsnta.csv'\n",
    "\n",
    "# cbacs_path = '../../data/02_processed/citibike_with_acsnta.csv'\n",
    "\n",
    "cbacs_raw = pd.read_csv(cbacs_path,\n",
    "                        parse_dates=['starttime', 'stoptime','birthyear'])"
   ]
  },
  {
   "cell_type": "code",
   "execution_count": 5,
   "metadata": {},
   "outputs": [],
   "source": [
    "cbacs = cbacs_raw.copy()"
   ]
  },
  {
   "cell_type": "markdown",
   "metadata": {},
   "source": [
    "## Inspect data frame\n",
    "\n",
    "Get dimensions of data frame and datatypes of each feature:"
   ]
  },
  {
   "cell_type": "code",
   "execution_count": 6,
   "metadata": {},
   "outputs": [
    {
     "name": "stdout",
     "output_type": "stream",
     "text": [
      "<class 'pandas.core.frame.DataFrame'>\n",
      "RangeIndex: 4015006 entries, 0 to 4015005\n",
      "Columns: 133 entries, bikeid to end_pop_below_poverty\n",
      "dtypes: datetime64[ns](3), float64(18), int64(90), object(22)\n",
      "memory usage: 4.0+ GB\n"
     ]
    }
   ],
   "source": [
    "cbacs.info()"
   ]
  },
  {
   "cell_type": "code",
   "execution_count": 7,
   "metadata": {},
   "outputs": [
    {
     "data": {
      "text/plain": [
       "['bikeid',\n",
       " 'birthyear',\n",
       " 'endstationid',\n",
       " 'endstationlatitude',\n",
       " 'endstationlongitude',\n",
       " 'endstationname',\n",
       " 'gender',\n",
       " 'startstationid',\n",
       " 'startstationlatitude',\n",
       " 'startstationlongitude',\n",
       " 'startstationname',\n",
       " 'starttime',\n",
       " 'stoptime',\n",
       " 'tripduration',\n",
       " 'usertype',\n",
       " 'vicentydistance',\n",
       " 'manhdistance',\n",
       " 'startmonth',\n",
       " 'stopmonth',\n",
       " 'startdayname',\n",
       " 'startday',\n",
       " 'stopdayname',\n",
       " 'stopday',\n",
       " 'startdaytype',\n",
       " 'enddaytype',\n",
       " 'starthour',\n",
       " 'endhour',\n",
       " 'startrushhour',\n",
       " 'endrushhour',\n",
       " 'starttimeofday',\n",
       " 'endtimeofday',\n",
       " 'age_at_ride',\n",
       " 'age_group',\n",
       " 'startneighborhood',\n",
       " 'endneighborhood',\n",
       " 'startboro',\n",
       " 'endboro',\n",
       " 'start_nta_name',\n",
       " 'start_nta_code',\n",
       " 'start_borough',\n",
       " 'start_in_labor_force',\n",
       " 'start_civilian_labor_force',\n",
       " 'start_employed',\n",
       " 'start_unemployed',\n",
       " 'start_armed_forces',\n",
       " 'start_not_in_labor_force',\n",
       " 'start_workers_16+',\n",
       " 'start_vehicle',\n",
       " 'start_carpool',\n",
       " 'start_public_transit',\n",
       " 'start_walking',\n",
       " 'start_other_commuting_means',\n",
       " 'start_work_at_home',\n",
       " 'start_mean_commuting_time_(min)',\n",
       " 'start_occ_civilian_employed_16+',\n",
       " 'start_mng_biz_sci_arts',\n",
       " 'start_service',\n",
       " 'start_sales_office',\n",
       " 'start_natres_construct_maint',\n",
       " 'start_prod_transport_moving',\n",
       " 'start_class_civilian_employed_16+',\n",
       " 'start_salary_workers',\n",
       " 'start_govt_workers',\n",
       " 'start_self-employed',\n",
       " 'start_unpaid_family_workers',\n",
       " 'start_total_households',\n",
       " 'start_hincome_10K_under',\n",
       " 'start_hincome_10K_15K',\n",
       " 'start_hincome_15K_25K',\n",
       " 'start_hincome_25K_35K',\n",
       " 'start_hincome_35K_50K',\n",
       " 'start_hincome_50K_75K',\n",
       " 'start_hincome_75K_100K',\n",
       " 'start_hincome_100K_150K',\n",
       " 'start_hincome_150K_200K',\n",
       " 'start_hincome_200K_more',\n",
       " 'start_median_hincome',\n",
       " 'start_mean_hincome',\n",
       " 'start_median_earnings',\n",
       " 'start_median_earnings_male',\n",
       " 'start_median_earnings_female',\n",
       " 'start_all_families',\n",
       " 'start_all_families_below_poverty',\n",
       " 'start_pop_poverty_status_determ',\n",
       " 'start_pop_below_poverty',\n",
       " 'end_nta_name',\n",
       " 'end_nta_code',\n",
       " 'end_borough',\n",
       " 'end_in_labor_force',\n",
       " 'end_civilian_labor_force',\n",
       " 'end_employed',\n",
       " 'end_unemployed',\n",
       " 'end_armed_forces',\n",
       " 'end_not_in_labor_force',\n",
       " 'end_workers_16+',\n",
       " 'end_vehicle',\n",
       " 'end_carpool',\n",
       " 'end_public_transit',\n",
       " 'end_walking',\n",
       " 'end_other_commuting_means',\n",
       " 'end_work_at_home',\n",
       " 'end_mean_commuting_time_(min)',\n",
       " 'end_occ_civilian_employed_16+',\n",
       " 'end_mng_biz_sci_arts',\n",
       " 'end_service',\n",
       " 'end_sales_office',\n",
       " 'end_natres_construct_maint',\n",
       " 'end_prod_transport_moving',\n",
       " 'end_class_civilian_employed_16+',\n",
       " 'end_salary_workers',\n",
       " 'end_govt_workers',\n",
       " 'end_self-employed',\n",
       " 'end_unpaid_family_workers',\n",
       " 'end_total_households',\n",
       " 'end_hincome_10K_under',\n",
       " 'end_hincome_10K_15K',\n",
       " 'end_hincome_15K_25K',\n",
       " 'end_hincome_25K_35K',\n",
       " 'end_hincome_35K_50K',\n",
       " 'end_hincome_50K_75K',\n",
       " 'end_hincome_75K_100K',\n",
       " 'end_hincome_100K_150K',\n",
       " 'end_hincome_150K_200K',\n",
       " 'end_hincome_200K_more',\n",
       " 'end_median_hincome',\n",
       " 'end_mean_hincome',\n",
       " 'end_median_earnings',\n",
       " 'end_median_earnings_male',\n",
       " 'end_median_earnings_female',\n",
       " 'end_all_families',\n",
       " 'end_all_families_below_poverty',\n",
       " 'end_pop_poverty_status_determ',\n",
       " 'end_pop_below_poverty']"
      ]
     },
     "execution_count": 7,
     "metadata": {},
     "output_type": "execute_result"
    }
   ],
   "source": [
    "cbacs.columns.values.tolist()"
   ]
  },
  {
   "cell_type": "code",
   "execution_count": 8,
   "metadata": {},
   "outputs": [],
   "source": [
    "cbacs.rename(columns={'end_mean_commuting_time_(min)':'end_mean_commuting_time_in_min',\n",
    "                     'start_mean_commuting_time_(min)':'start_mean_commuting_time_in_min'}, inplace=True)"
   ]
  },
  {
   "cell_type": "markdown",
   "metadata": {},
   "source": [
    "Randomly sample five observations:"
   ]
  },
  {
   "cell_type": "code",
   "execution_count": 9,
   "metadata": {},
   "outputs": [
    {
     "data": {
      "text/html": [
       "<div>\n",
       "<style scoped>\n",
       "    .dataframe tbody tr th:only-of-type {\n",
       "        vertical-align: middle;\n",
       "    }\n",
       "\n",
       "    .dataframe tbody tr th {\n",
       "        vertical-align: top;\n",
       "    }\n",
       "\n",
       "    .dataframe thead th {\n",
       "        text-align: right;\n",
       "    }\n",
       "</style>\n",
       "<table border=\"1\" class=\"dataframe\">\n",
       "  <thead>\n",
       "    <tr style=\"text-align: right;\">\n",
       "      <th></th>\n",
       "      <th>bikeid</th>\n",
       "      <th>birthyear</th>\n",
       "      <th>endstationid</th>\n",
       "      <th>endstationlatitude</th>\n",
       "      <th>endstationlongitude</th>\n",
       "      <th>endstationname</th>\n",
       "      <th>gender</th>\n",
       "      <th>startstationid</th>\n",
       "      <th>startstationlatitude</th>\n",
       "      <th>startstationlongitude</th>\n",
       "      <th>...</th>\n",
       "      <th>end_hincome_200K_more</th>\n",
       "      <th>end_median_hincome</th>\n",
       "      <th>end_mean_hincome</th>\n",
       "      <th>end_median_earnings</th>\n",
       "      <th>end_median_earnings_male</th>\n",
       "      <th>end_median_earnings_female</th>\n",
       "      <th>end_all_families</th>\n",
       "      <th>end_all_families_below_poverty</th>\n",
       "      <th>end_pop_poverty_status_determ</th>\n",
       "      <th>end_pop_below_poverty</th>\n",
       "    </tr>\n",
       "  </thead>\n",
       "  <tbody>\n",
       "    <tr>\n",
       "      <th>3183004</th>\n",
       "      <td>16103</td>\n",
       "      <td>1986-01-01</td>\n",
       "      <td>3158</td>\n",
       "      <td>40.771639</td>\n",
       "      <td>-73.982614</td>\n",
       "      <td>W 63 St &amp; Broadway</td>\n",
       "      <td>1</td>\n",
       "      <td>305</td>\n",
       "      <td>40.760958</td>\n",
       "      <td>-73.967245</td>\n",
       "      <td>...</td>\n",
       "      <td>11368</td>\n",
       "      <td>130237.0</td>\n",
       "      <td>218554.0</td>\n",
       "      <td>100000.0</td>\n",
       "      <td>100000.0</td>\n",
       "      <td>100000.0</td>\n",
       "      <td>13744</td>\n",
       "      <td>709</td>\n",
       "      <td>61197</td>\n",
       "      <td>5101</td>\n",
       "    </tr>\n",
       "    <tr>\n",
       "      <th>2448533</th>\n",
       "      <td>22614</td>\n",
       "      <td>1900-01-01</td>\n",
       "      <td>164</td>\n",
       "      <td>40.753231</td>\n",
       "      <td>-73.970325</td>\n",
       "      <td>E 47 St &amp; 2 Ave</td>\n",
       "      <td>0</td>\n",
       "      <td>225</td>\n",
       "      <td>40.741951</td>\n",
       "      <td>-74.008030</td>\n",
       "      <td>...</td>\n",
       "      <td>9734</td>\n",
       "      <td>136326.0</td>\n",
       "      <td>223563.0</td>\n",
       "      <td>97935.0</td>\n",
       "      <td>100000.0</td>\n",
       "      <td>97271.0</td>\n",
       "      <td>10389</td>\n",
       "      <td>129</td>\n",
       "      <td>49671</td>\n",
       "      <td>2246</td>\n",
       "    </tr>\n",
       "    <tr>\n",
       "      <th>2266897</th>\n",
       "      <td>29113</td>\n",
       "      <td>1987-01-01</td>\n",
       "      <td>439</td>\n",
       "      <td>40.726281</td>\n",
       "      <td>-73.989780</td>\n",
       "      <td>E 4 St &amp; 2 Ave</td>\n",
       "      <td>1</td>\n",
       "      <td>504</td>\n",
       "      <td>40.732219</td>\n",
       "      <td>-73.981656</td>\n",
       "      <td>...</td>\n",
       "      <td>3676</td>\n",
       "      <td>77691.0</td>\n",
       "      <td>118140.0</td>\n",
       "      <td>62054.0</td>\n",
       "      <td>93912.0</td>\n",
       "      <td>73252.0</td>\n",
       "      <td>5589</td>\n",
       "      <td>543</td>\n",
       "      <td>37633</td>\n",
       "      <td>6485</td>\n",
       "    </tr>\n",
       "    <tr>\n",
       "      <th>3107080</th>\n",
       "      <td>19756</td>\n",
       "      <td>1982-01-01</td>\n",
       "      <td>521</td>\n",
       "      <td>40.750450</td>\n",
       "      <td>-73.994811</td>\n",
       "      <td>8 Ave &amp; W 31 St</td>\n",
       "      <td>1</td>\n",
       "      <td>474</td>\n",
       "      <td>40.745168</td>\n",
       "      <td>-73.986831</td>\n",
       "      <td>...</td>\n",
       "      <td>12898</td>\n",
       "      <td>114710.0</td>\n",
       "      <td>189927.0</td>\n",
       "      <td>90085.0</td>\n",
       "      <td>100000.0</td>\n",
       "      <td>95378.0</td>\n",
       "      <td>13409</td>\n",
       "      <td>919</td>\n",
       "      <td>75475</td>\n",
       "      <td>9129</td>\n",
       "    </tr>\n",
       "    <tr>\n",
       "      <th>1903930</th>\n",
       "      <td>20028</td>\n",
       "      <td>1949-01-01</td>\n",
       "      <td>259</td>\n",
       "      <td>40.701221</td>\n",
       "      <td>-74.012342</td>\n",
       "      <td>South St &amp; Whitehall St</td>\n",
       "      <td>2</td>\n",
       "      <td>3701</td>\n",
       "      <td>40.708318</td>\n",
       "      <td>-74.005041</td>\n",
       "      <td>...</td>\n",
       "      <td>8757</td>\n",
       "      <td>162555.0</td>\n",
       "      <td>214165.0</td>\n",
       "      <td>98642.0</td>\n",
       "      <td>100000.0</td>\n",
       "      <td>93897.0</td>\n",
       "      <td>9373</td>\n",
       "      <td>338</td>\n",
       "      <td>44606</td>\n",
       "      <td>3044</td>\n",
       "    </tr>\n",
       "  </tbody>\n",
       "</table>\n",
       "<p>5 rows × 133 columns</p>\n",
       "</div>"
      ],
      "text/plain": [
       "         bikeid  birthyear  endstationid  endstationlatitude  \\\n",
       "3183004   16103 1986-01-01          3158           40.771639   \n",
       "2448533   22614 1900-01-01           164           40.753231   \n",
       "2266897   29113 1987-01-01           439           40.726281   \n",
       "3107080   19756 1982-01-01           521           40.750450   \n",
       "1903930   20028 1949-01-01           259           40.701221   \n",
       "\n",
       "         endstationlongitude           endstationname  gender  startstationid  \\\n",
       "3183004           -73.982614       W 63 St & Broadway       1             305   \n",
       "2448533           -73.970325          E 47 St & 2 Ave       0             225   \n",
       "2266897           -73.989780           E 4 St & 2 Ave       1             504   \n",
       "3107080           -73.994811          8 Ave & W 31 St       1             474   \n",
       "1903930           -74.012342  South St & Whitehall St       2            3701   \n",
       "\n",
       "         startstationlatitude  startstationlongitude  ...  \\\n",
       "3183004             40.760958             -73.967245  ...   \n",
       "2448533             40.741951             -74.008030  ...   \n",
       "2266897             40.732219             -73.981656  ...   \n",
       "3107080             40.745168             -73.986831  ...   \n",
       "1903930             40.708318             -74.005041  ...   \n",
       "\n",
       "        end_hincome_200K_more end_median_hincome end_mean_hincome  \\\n",
       "3183004                 11368           130237.0         218554.0   \n",
       "2448533                  9734           136326.0         223563.0   \n",
       "2266897                  3676            77691.0         118140.0   \n",
       "3107080                 12898           114710.0         189927.0   \n",
       "1903930                  8757           162555.0         214165.0   \n",
       "\n",
       "         end_median_earnings end_median_earnings_male  \\\n",
       "3183004             100000.0                 100000.0   \n",
       "2448533              97935.0                 100000.0   \n",
       "2266897              62054.0                  93912.0   \n",
       "3107080              90085.0                 100000.0   \n",
       "1903930              98642.0                 100000.0   \n",
       "\n",
       "         end_median_earnings_female  end_all_families  \\\n",
       "3183004                    100000.0             13744   \n",
       "2448533                     97271.0             10389   \n",
       "2266897                     73252.0              5589   \n",
       "3107080                     95378.0             13409   \n",
       "1903930                     93897.0              9373   \n",
       "\n",
       "         end_all_families_below_poverty  end_pop_poverty_status_determ  \\\n",
       "3183004                             709                          61197   \n",
       "2448533                             129                          49671   \n",
       "2266897                             543                          37633   \n",
       "3107080                             919                          75475   \n",
       "1903930                             338                          44606   \n",
       "\n",
       "        end_pop_below_poverty  \n",
       "3183004                  5101  \n",
       "2448533                  2246  \n",
       "2266897                  6485  \n",
       "3107080                  9129  \n",
       "1903930                  3044  \n",
       "\n",
       "[5 rows x 133 columns]"
      ]
     },
     "execution_count": 9,
     "metadata": {},
     "output_type": "execute_result"
    }
   ],
   "source": [
    "cbacs.sample(n=5)"
   ]
  },
  {
   "cell_type": "markdown",
   "metadata": {},
   "source": [
    "Check for missing values:"
   ]
  },
  {
   "cell_type": "code",
   "execution_count": 10,
   "metadata": {
    "scrolled": true
   },
   "outputs": [
    {
     "name": "stdout",
     "output_type": "stream",
     "text": [
      "Total NaN in Dataframe:  828552\n",
      "Percent Missingness in Dataframe:  0.15516077150854285\n",
      "-------------------------------------------------------\n",
      "Percent Missingness by Columns:\n",
      "endneighborhood      6.918944\n",
      "startboro            6.858720\n",
      "startneighborhood    6.858720\n",
      "dtype: float64\n"
     ]
    }
   ],
   "source": [
    "colpercent(cbacs)"
   ]
  },
  {
   "cell_type": "code",
   "execution_count": 11,
   "metadata": {},
   "outputs": [],
   "source": [
    "null_df = cbacs[cbacs.isnull().any(axis=1)]"
   ]
  },
  {
   "cell_type": "markdown",
   "metadata": {},
   "source": [
    "Examine missing values for `endneighborhood`, `startboro`, and `startneighborhood`:"
   ]
  },
  {
   "cell_type": "code",
   "execution_count": 12,
   "metadata": {},
   "outputs": [
    {
     "data": {
      "text/html": [
       "<div>\n",
       "<style scoped>\n",
       "    .dataframe tbody tr th:only-of-type {\n",
       "        vertical-align: middle;\n",
       "    }\n",
       "\n",
       "    .dataframe tbody tr th {\n",
       "        vertical-align: top;\n",
       "    }\n",
       "\n",
       "    .dataframe thead th {\n",
       "        text-align: right;\n",
       "    }\n",
       "</style>\n",
       "<table border=\"1\" class=\"dataframe\">\n",
       "  <thead>\n",
       "    <tr style=\"text-align: right;\">\n",
       "      <th></th>\n",
       "      <th>endstationname</th>\n",
       "      <th>endboro</th>\n",
       "      <th>end_nta_name</th>\n",
       "      <th>endneighborhood</th>\n",
       "      <th>endstationid</th>\n",
       "      <th>startstationname</th>\n",
       "      <th>startboro</th>\n",
       "      <th>start_nta_name</th>\n",
       "      <th>startneighborhood</th>\n",
       "      <th>startstationid</th>\n",
       "    </tr>\n",
       "  </thead>\n",
       "  <tbody>\n",
       "    <tr>\n",
       "      <th>332</th>\n",
       "      <td>MacDougal St &amp; Washington Sq</td>\n",
       "      <td>Manhattan</td>\n",
       "      <td>West Village</td>\n",
       "      <td>Greenwich Village</td>\n",
       "      <td>252</td>\n",
       "      <td>W 33 St &amp; 7 Ave</td>\n",
       "      <td>NaN</td>\n",
       "      <td>Midtown-Midtown South</td>\n",
       "      <td>NaN</td>\n",
       "      <td>492</td>\n",
       "    </tr>\n",
       "    <tr>\n",
       "      <th>333</th>\n",
       "      <td>MacDougal St &amp; Washington Sq</td>\n",
       "      <td>Manhattan</td>\n",
       "      <td>West Village</td>\n",
       "      <td>Greenwich Village</td>\n",
       "      <td>252</td>\n",
       "      <td>W 33 St &amp; 7 Ave</td>\n",
       "      <td>NaN</td>\n",
       "      <td>Midtown-Midtown South</td>\n",
       "      <td>NaN</td>\n",
       "      <td>492</td>\n",
       "    </tr>\n",
       "    <tr>\n",
       "      <th>334</th>\n",
       "      <td>MacDougal St &amp; Washington Sq</td>\n",
       "      <td>Manhattan</td>\n",
       "      <td>West Village</td>\n",
       "      <td>Greenwich Village</td>\n",
       "      <td>252</td>\n",
       "      <td>W 33 St &amp; 7 Ave</td>\n",
       "      <td>NaN</td>\n",
       "      <td>Midtown-Midtown South</td>\n",
       "      <td>NaN</td>\n",
       "      <td>492</td>\n",
       "    </tr>\n",
       "    <tr>\n",
       "      <th>335</th>\n",
       "      <td>MacDougal St &amp; Washington Sq</td>\n",
       "      <td>Manhattan</td>\n",
       "      <td>West Village</td>\n",
       "      <td>Greenwich Village</td>\n",
       "      <td>252</td>\n",
       "      <td>W 33 St &amp; 7 Ave</td>\n",
       "      <td>NaN</td>\n",
       "      <td>Midtown-Midtown South</td>\n",
       "      <td>NaN</td>\n",
       "      <td>492</td>\n",
       "    </tr>\n",
       "    <tr>\n",
       "      <th>336</th>\n",
       "      <td>MacDougal St &amp; Washington Sq</td>\n",
       "      <td>Manhattan</td>\n",
       "      <td>West Village</td>\n",
       "      <td>Greenwich Village</td>\n",
       "      <td>252</td>\n",
       "      <td>W 33 St &amp; 7 Ave</td>\n",
       "      <td>NaN</td>\n",
       "      <td>Midtown-Midtown South</td>\n",
       "      <td>NaN</td>\n",
       "      <td>492</td>\n",
       "    </tr>\n",
       "    <tr>\n",
       "      <th>...</th>\n",
       "      <td>...</td>\n",
       "      <td>...</td>\n",
       "      <td>...</td>\n",
       "      <td>...</td>\n",
       "      <td>...</td>\n",
       "      <td>...</td>\n",
       "      <td>...</td>\n",
       "      <td>...</td>\n",
       "      <td>...</td>\n",
       "      <td>...</td>\n",
       "    </tr>\n",
       "    <tr>\n",
       "      <th>4012744</th>\n",
       "      <td>NYCBS Depot - GOW</td>\n",
       "      <td>Manhattan</td>\n",
       "      <td>Park Slope-Gowanus</td>\n",
       "      <td>Kings County</td>\n",
       "      <td>3432</td>\n",
       "      <td>5 Ave &amp; E 88 St</td>\n",
       "      <td>NaN</td>\n",
       "      <td>park-cemetery-etc-Manhattan</td>\n",
       "      <td>NaN</td>\n",
       "      <td>3282</td>\n",
       "    </tr>\n",
       "    <tr>\n",
       "      <th>4013290</th>\n",
       "      <td>Steinway St &amp; 28 Ave</td>\n",
       "      <td>Manhattan</td>\n",
       "      <td>Astoria</td>\n",
       "      <td>Steinway</td>\n",
       "      <td>3616</td>\n",
       "      <td>W 34 St &amp; 11 Ave</td>\n",
       "      <td>NaN</td>\n",
       "      <td>Hudson Yards-Chelsea-Flat Iron-Union Square</td>\n",
       "      <td>NaN</td>\n",
       "      <td>525</td>\n",
       "    </tr>\n",
       "    <tr>\n",
       "      <th>4014645</th>\n",
       "      <td>Smart Cities Conference</td>\n",
       "      <td>Manhattan</td>\n",
       "      <td>Lower East Side</td>\n",
       "      <td>Stuy Town</td>\n",
       "      <td>3683</td>\n",
       "      <td>St James Pl &amp; Oliver St</td>\n",
       "      <td>NaN</td>\n",
       "      <td>Chinatown</td>\n",
       "      <td>NaN</td>\n",
       "      <td>308</td>\n",
       "    </tr>\n",
       "    <tr>\n",
       "      <th>4014708</th>\n",
       "      <td>Evergreen Ave &amp; Noll St</td>\n",
       "      <td>Manhattan</td>\n",
       "      <td>Bushwick South</td>\n",
       "      <td>Bushwick</td>\n",
       "      <td>3821</td>\n",
       "      <td>E 30 St &amp; Park Ave S</td>\n",
       "      <td>NaN</td>\n",
       "      <td>Murray Hill-Kips Bay</td>\n",
       "      <td>NaN</td>\n",
       "      <td>546</td>\n",
       "    </tr>\n",
       "    <tr>\n",
       "      <th>4014818</th>\n",
       "      <td>NYCBS Depot - RIS</td>\n",
       "      <td>Manhattan</td>\n",
       "      <td>Lower East Side</td>\n",
       "      <td>East Village</td>\n",
       "      <td>3485</td>\n",
       "      <td>E 20 St &amp; Park Ave</td>\n",
       "      <td>NaN</td>\n",
       "      <td>Gramercy</td>\n",
       "      <td>NaN</td>\n",
       "      <td>503</td>\n",
       "    </tr>\n",
       "  </tbody>\n",
       "</table>\n",
       "<p>531338 rows × 10 columns</p>\n",
       "</div>"
      ],
      "text/plain": [
       "                       endstationname    endboro        end_nta_name  \\\n",
       "332      MacDougal St & Washington Sq  Manhattan        West Village   \n",
       "333      MacDougal St & Washington Sq  Manhattan        West Village   \n",
       "334      MacDougal St & Washington Sq  Manhattan        West Village   \n",
       "335      MacDougal St & Washington Sq  Manhattan        West Village   \n",
       "336      MacDougal St & Washington Sq  Manhattan        West Village   \n",
       "...                               ...        ...                 ...   \n",
       "4012744             NYCBS Depot - GOW  Manhattan  Park Slope-Gowanus   \n",
       "4013290          Steinway St & 28 Ave  Manhattan             Astoria   \n",
       "4014645       Smart Cities Conference  Manhattan     Lower East Side   \n",
       "4014708       Evergreen Ave & Noll St  Manhattan      Bushwick South   \n",
       "4014818             NYCBS Depot - RIS  Manhattan     Lower East Side   \n",
       "\n",
       "           endneighborhood  endstationid         startstationname startboro  \\\n",
       "332      Greenwich Village           252          W 33 St & 7 Ave       NaN   \n",
       "333      Greenwich Village           252          W 33 St & 7 Ave       NaN   \n",
       "334      Greenwich Village           252          W 33 St & 7 Ave       NaN   \n",
       "335      Greenwich Village           252          W 33 St & 7 Ave       NaN   \n",
       "336      Greenwich Village           252          W 33 St & 7 Ave       NaN   \n",
       "...                    ...           ...                      ...       ...   \n",
       "4012744       Kings County          3432          5 Ave & E 88 St       NaN   \n",
       "4013290           Steinway          3616         W 34 St & 11 Ave       NaN   \n",
       "4014645          Stuy Town          3683  St James Pl & Oliver St       NaN   \n",
       "4014708           Bushwick          3821     E 30 St & Park Ave S       NaN   \n",
       "4014818       East Village          3485       E 20 St & Park Ave       NaN   \n",
       "\n",
       "                                      start_nta_name startneighborhood  \\\n",
       "332                            Midtown-Midtown South               NaN   \n",
       "333                            Midtown-Midtown South               NaN   \n",
       "334                            Midtown-Midtown South               NaN   \n",
       "335                            Midtown-Midtown South               NaN   \n",
       "336                            Midtown-Midtown South               NaN   \n",
       "...                                              ...               ...   \n",
       "4012744                  park-cemetery-etc-Manhattan               NaN   \n",
       "4013290  Hudson Yards-Chelsea-Flat Iron-Union Square               NaN   \n",
       "4014645                                    Chinatown               NaN   \n",
       "4014708                         Murray Hill-Kips Bay               NaN   \n",
       "4014818                                     Gramercy               NaN   \n",
       "\n",
       "         startstationid  \n",
       "332                 492  \n",
       "333                 492  \n",
       "334                 492  \n",
       "335                 492  \n",
       "336                 492  \n",
       "...                 ...  \n",
       "4012744            3282  \n",
       "4013290             525  \n",
       "4014645             308  \n",
       "4014708             546  \n",
       "4014818             503  \n",
       "\n",
       "[531338 rows x 10 columns]"
      ]
     },
     "execution_count": 12,
     "metadata": {},
     "output_type": "execute_result"
    }
   ],
   "source": [
    "null_df[['endstationname','endboro','end_nta_name','endneighborhood','endstationid',\n",
    "         'startstationname','startboro','start_nta_name','startneighborhood','startstationid']]"
   ]
  },
  {
   "cell_type": "markdown",
   "metadata": {},
   "source": [
    "Check for missing incorrectly entered or weird values:"
   ]
  },
  {
   "cell_type": "code",
   "execution_count": 13,
   "metadata": {},
   "outputs": [
    {
     "name": "stdout",
     "output_type": "stream",
     "text": [
      "--------------------------------------------------\n",
      "Column Name:  bikeid\n",
      "Column 0 has no negatives, empty strings or Nones\n",
      "--------------------------------------------------\n",
      "Column Name:  birthyear\n",
      "Column 1 has no negatives, empty strings or Nones\n",
      "--------------------------------------------------\n",
      "Column Name:  endstationid\n",
      "Column 2 has no negatives, empty strings or Nones\n",
      "--------------------------------------------------\n",
      "Column Name:  endstationlatitude\n",
      "Column 3 has no negatives, empty strings or Nones\n",
      "--------------------------------------------------\n",
      "Column Name:  endstationlongitude\n"
     ]
    },
    {
     "name": "stderr",
     "output_type": "stream",
     "text": [
      "C:\\Users\\Ivan Passoni\\anaconda3\\lib\\site-packages\\pandas\\core\\ops\\array_ops.py:253: FutureWarning: elementwise comparison failed; returning scalar instead, but in the future will perform elementwise comparison\n",
      "  res_values = method(rvalues)\n"
     ]
    },
    {
     "name": "stdout",
     "output_type": "stream",
     "text": [
      "Number of negatives:  4015006\n",
      "Column 4 has no negatives, empty strings or Nones\n",
      "--------------------------------------------------\n",
      "Column Name:  endstationname\n",
      "Column 5 has no negatives, empty strings or Nones\n",
      "--------------------------------------------------\n",
      "Column Name:  gender\n",
      "Column 6 has no negatives, empty strings or Nones\n",
      "--------------------------------------------------\n",
      "Column Name:  startstationid\n",
      "Column 7 has no negatives, empty strings or Nones\n",
      "--------------------------------------------------\n",
      "Column Name:  startstationlatitude\n",
      "Column 8 has no negatives, empty strings or Nones\n",
      "--------------------------------------------------\n",
      "Column Name:  startstationlongitude\n",
      "Number of negatives:  4015006\n",
      "Column 9 has no negatives, empty strings or Nones\n",
      "--------------------------------------------------\n",
      "Column Name:  startstationname\n",
      "Column 10 has no negatives, empty strings or Nones\n",
      "--------------------------------------------------\n",
      "Column Name:  starttime\n",
      "Column 11 has no negatives, empty strings or Nones\n",
      "--------------------------------------------------\n",
      "Column Name:  stoptime\n",
      "Column 12 has no negatives, empty strings or Nones\n",
      "--------------------------------------------------\n",
      "Column Name:  tripduration\n",
      "Number of negatives:  1662\n",
      "Column 13 has no negatives, empty strings or Nones\n",
      "--------------------------------------------------\n",
      "Column Name:  usertype\n",
      "Column 14 has no negatives, empty strings or Nones\n",
      "--------------------------------------------------\n",
      "Column Name:  vicentydistance\n",
      "Column 15 has no negatives, empty strings or Nones\n",
      "--------------------------------------------------\n",
      "Column Name:  manhdistance\n",
      "Column 16 has no negatives, empty strings or Nones\n",
      "--------------------------------------------------\n",
      "Column Name:  startmonth\n",
      "Column 17 has no negatives, empty strings or Nones\n",
      "--------------------------------------------------\n",
      "Column Name:  stopmonth\n",
      "Column 18 has no negatives, empty strings or Nones\n",
      "--------------------------------------------------\n",
      "Column Name:  startdayname\n",
      "Column 19 has no negatives, empty strings or Nones\n",
      "--------------------------------------------------\n",
      "Column Name:  startday\n",
      "Column 20 has no negatives, empty strings or Nones\n",
      "--------------------------------------------------\n",
      "Column Name:  stopdayname\n",
      "Column 21 has no negatives, empty strings or Nones\n",
      "--------------------------------------------------\n",
      "Column Name:  stopday\n",
      "Column 22 has no negatives, empty strings or Nones\n",
      "--------------------------------------------------\n",
      "Column Name:  startdaytype\n",
      "Column 23 has no negatives, empty strings or Nones\n",
      "--------------------------------------------------\n",
      "Column Name:  enddaytype\n",
      "Column 24 has no negatives, empty strings or Nones\n",
      "--------------------------------------------------\n",
      "Column Name:  starthour\n",
      "Column 25 has no negatives, empty strings or Nones\n",
      "--------------------------------------------------\n",
      "Column Name:  endhour\n",
      "Column 26 has no negatives, empty strings or Nones\n",
      "--------------------------------------------------\n",
      "Column Name:  startrushhour\n",
      "Column 27 has no negatives, empty strings or Nones\n",
      "--------------------------------------------------\n",
      "Column Name:  endrushhour\n",
      "Column 28 has no negatives, empty strings or Nones\n",
      "--------------------------------------------------\n",
      "Column Name:  starttimeofday\n",
      "Column 29 has no negatives, empty strings or Nones\n",
      "--------------------------------------------------\n",
      "Column Name:  endtimeofday\n",
      "Column 30 has no negatives, empty strings or Nones\n",
      "--------------------------------------------------\n",
      "Column Name:  age_at_ride\n",
      "Column 31 has no negatives, empty strings or Nones\n",
      "--------------------------------------------------\n",
      "Column Name:  age_group\n",
      "Column 32 has no negatives, empty strings or Nones\n",
      "--------------------------------------------------\n",
      "Column Name:  startneighborhood\n",
      "Column 33 has no negatives, empty strings or Nones\n",
      "--------------------------------------------------\n",
      "Column Name:  endneighborhood\n",
      "Column 34 has no negatives, empty strings or Nones\n",
      "--------------------------------------------------\n",
      "Column Name:  startboro\n",
      "Column 35 has no negatives, empty strings or Nones\n",
      "--------------------------------------------------\n",
      "Column Name:  endboro\n",
      "Column 36 has no negatives, empty strings or Nones\n",
      "--------------------------------------------------\n",
      "Column Name:  start_nta_name\n",
      "Column 37 has no negatives, empty strings or Nones\n",
      "--------------------------------------------------\n",
      "Column Name:  start_nta_code\n",
      "Column 38 has no negatives, empty strings or Nones\n",
      "--------------------------------------------------\n",
      "Column Name:  start_borough\n",
      "Column 39 has no negatives, empty strings or Nones\n",
      "--------------------------------------------------\n",
      "Column Name:  start_in_labor_force\n",
      "Column 40 has no negatives, empty strings or Nones\n",
      "--------------------------------------------------\n",
      "Column Name:  start_civilian_labor_force\n",
      "Column 41 has no negatives, empty strings or Nones\n",
      "--------------------------------------------------\n",
      "Column Name:  start_employed\n",
      "Column 42 has no negatives, empty strings or Nones\n",
      "--------------------------------------------------\n",
      "Column Name:  start_unemployed\n",
      "Column 43 has no negatives, empty strings or Nones\n",
      "--------------------------------------------------\n",
      "Column Name:  start_armed_forces\n",
      "Column 44 has no negatives, empty strings or Nones\n",
      "--------------------------------------------------\n",
      "Column Name:  start_not_in_labor_force\n",
      "Column 45 has no negatives, empty strings or Nones\n",
      "--------------------------------------------------\n",
      "Column Name:  start_workers_16+\n",
      "Column 46 has no negatives, empty strings or Nones\n",
      "--------------------------------------------------\n",
      "Column Name:  start_vehicle\n",
      "Column 47 has no negatives, empty strings or Nones\n",
      "--------------------------------------------------\n",
      "Column Name:  start_carpool\n",
      "Column 48 has no negatives, empty strings or Nones\n",
      "--------------------------------------------------\n",
      "Column Name:  start_public_transit\n",
      "Column 49 has no negatives, empty strings or Nones\n",
      "--------------------------------------------------\n",
      "Column Name:  start_walking\n",
      "Column 50 has no negatives, empty strings or Nones\n",
      "--------------------------------------------------\n",
      "Column Name:  start_other_commuting_means\n",
      "Column 51 has no negatives, empty strings or Nones\n",
      "--------------------------------------------------\n",
      "Column Name:  start_work_at_home\n",
      "Column 52 has no negatives, empty strings or Nones\n",
      "--------------------------------------------------\n",
      "Column Name:  start_mean_commuting_time_in_min\n",
      "Column 53 has no negatives, empty strings or Nones\n",
      "--------------------------------------------------\n",
      "Column Name:  start_occ_civilian_employed_16+\n",
      "Column 54 has no negatives, empty strings or Nones\n",
      "--------------------------------------------------\n",
      "Column Name:  start_mng_biz_sci_arts\n",
      "Column 55 has no negatives, empty strings or Nones\n",
      "--------------------------------------------------\n",
      "Column Name:  start_service\n",
      "Column 56 has no negatives, empty strings or Nones\n",
      "--------------------------------------------------\n",
      "Column Name:  start_sales_office\n",
      "Column 57 has no negatives, empty strings or Nones\n",
      "--------------------------------------------------\n",
      "Column Name:  start_natres_construct_maint\n",
      "Column 58 has no negatives, empty strings or Nones\n",
      "--------------------------------------------------\n",
      "Column Name:  start_prod_transport_moving\n",
      "Column 59 has no negatives, empty strings or Nones\n",
      "--------------------------------------------------\n",
      "Column Name:  start_class_civilian_employed_16+\n",
      "Column 60 has no negatives, empty strings or Nones\n",
      "--------------------------------------------------\n",
      "Column Name:  start_salary_workers\n",
      "Column 61 has no negatives, empty strings or Nones\n",
      "--------------------------------------------------\n",
      "Column Name:  start_govt_workers\n",
      "Column 62 has no negatives, empty strings or Nones\n",
      "--------------------------------------------------\n",
      "Column Name:  start_self-employed\n",
      "Column 63 has no negatives, empty strings or Nones\n",
      "--------------------------------------------------\n",
      "Column Name:  start_unpaid_family_workers\n",
      "Column 64 has no negatives, empty strings or Nones\n",
      "--------------------------------------------------\n",
      "Column Name:  start_total_households\n",
      "Column 65 has no negatives, empty strings or Nones\n",
      "--------------------------------------------------\n",
      "Column Name:  start_hincome_10K_under\n",
      "Column 66 has no negatives, empty strings or Nones\n",
      "--------------------------------------------------\n",
      "Column Name:  start_hincome_10K_15K\n",
      "Column 67 has no negatives, empty strings or Nones\n",
      "--------------------------------------------------\n",
      "Column Name:  start_hincome_15K_25K\n"
     ]
    },
    {
     "name": "stdout",
     "output_type": "stream",
     "text": [
      "Column 68 has no negatives, empty strings or Nones\n",
      "--------------------------------------------------\n",
      "Column Name:  start_hincome_25K_35K\n",
      "Column 69 has no negatives, empty strings or Nones\n",
      "--------------------------------------------------\n",
      "Column Name:  start_hincome_35K_50K\n",
      "Column 70 has no negatives, empty strings or Nones\n",
      "--------------------------------------------------\n",
      "Column Name:  start_hincome_50K_75K\n",
      "Column 71 has no negatives, empty strings or Nones\n",
      "--------------------------------------------------\n",
      "Column Name:  start_hincome_75K_100K\n",
      "Column 72 has no negatives, empty strings or Nones\n",
      "--------------------------------------------------\n",
      "Column Name:  start_hincome_100K_150K\n",
      "Column 73 has no negatives, empty strings or Nones\n",
      "--------------------------------------------------\n",
      "Column Name:  start_hincome_150K_200K\n",
      "Column 74 has no negatives, empty strings or Nones\n",
      "--------------------------------------------------\n",
      "Column Name:  start_hincome_200K_more\n",
      "Column 75 has no negatives, empty strings or Nones\n",
      "--------------------------------------------------\n",
      "Column Name:  start_median_hincome\n",
      "Column 76 has no negatives, empty strings or Nones\n",
      "--------------------------------------------------\n",
      "Column Name:  start_mean_hincome\n",
      "Column 77 has no negatives, empty strings or Nones\n",
      "--------------------------------------------------\n",
      "Column Name:  start_median_earnings\n",
      "Column 78 has no negatives, empty strings or Nones\n",
      "--------------------------------------------------\n",
      "Column Name:  start_median_earnings_male\n",
      "Column 79 has no negatives, empty strings or Nones\n",
      "--------------------------------------------------\n",
      "Column Name:  start_median_earnings_female\n",
      "Column 80 has no negatives, empty strings or Nones\n",
      "--------------------------------------------------\n",
      "Column Name:  start_all_families\n",
      "Column 81 has no negatives, empty strings or Nones\n",
      "--------------------------------------------------\n",
      "Column Name:  start_all_families_below_poverty\n",
      "Column 82 has no negatives, empty strings or Nones\n",
      "--------------------------------------------------\n",
      "Column Name:  start_pop_poverty_status_determ\n",
      "Column 83 has no negatives, empty strings or Nones\n",
      "--------------------------------------------------\n",
      "Column Name:  start_pop_below_poverty\n",
      "Column 84 has no negatives, empty strings or Nones\n",
      "--------------------------------------------------\n",
      "Column Name:  end_nta_name\n",
      "Column 85 has no negatives, empty strings or Nones\n",
      "--------------------------------------------------\n",
      "Column Name:  end_nta_code\n",
      "Column 86 has no negatives, empty strings or Nones\n",
      "--------------------------------------------------\n",
      "Column Name:  end_borough\n",
      "Column 87 has no negatives, empty strings or Nones\n",
      "--------------------------------------------------\n",
      "Column Name:  end_in_labor_force\n",
      "Column 88 has no negatives, empty strings or Nones\n",
      "--------------------------------------------------\n",
      "Column Name:  end_civilian_labor_force\n",
      "Column 89 has no negatives, empty strings or Nones\n",
      "--------------------------------------------------\n",
      "Column Name:  end_employed\n",
      "Column 90 has no negatives, empty strings or Nones\n",
      "--------------------------------------------------\n",
      "Column Name:  end_unemployed\n",
      "Column 91 has no negatives, empty strings or Nones\n",
      "--------------------------------------------------\n",
      "Column Name:  end_armed_forces\n",
      "Column 92 has no negatives, empty strings or Nones\n",
      "--------------------------------------------------\n",
      "Column Name:  end_not_in_labor_force\n",
      "Column 93 has no negatives, empty strings or Nones\n",
      "--------------------------------------------------\n",
      "Column Name:  end_workers_16+\n",
      "Column 94 has no negatives, empty strings or Nones\n",
      "--------------------------------------------------\n",
      "Column Name:  end_vehicle\n",
      "Column 95 has no negatives, empty strings or Nones\n",
      "--------------------------------------------------\n",
      "Column Name:  end_carpool\n",
      "Column 96 has no negatives, empty strings or Nones\n",
      "--------------------------------------------------\n",
      "Column Name:  end_public_transit\n",
      "Column 97 has no negatives, empty strings or Nones\n",
      "--------------------------------------------------\n",
      "Column Name:  end_walking\n",
      "Column 98 has no negatives, empty strings or Nones\n",
      "--------------------------------------------------\n",
      "Column Name:  end_other_commuting_means\n",
      "Column 99 has no negatives, empty strings or Nones\n",
      "--------------------------------------------------\n",
      "Column Name:  end_work_at_home\n",
      "Column 100 has no negatives, empty strings or Nones\n",
      "--------------------------------------------------\n",
      "Column Name:  end_mean_commuting_time_in_min\n",
      "Column 101 has no negatives, empty strings or Nones\n",
      "--------------------------------------------------\n",
      "Column Name:  end_occ_civilian_employed_16+\n",
      "Column 102 has no negatives, empty strings or Nones\n",
      "--------------------------------------------------\n",
      "Column Name:  end_mng_biz_sci_arts\n",
      "Column 103 has no negatives, empty strings or Nones\n",
      "--------------------------------------------------\n",
      "Column Name:  end_service\n",
      "Column 104 has no negatives, empty strings or Nones\n",
      "--------------------------------------------------\n",
      "Column Name:  end_sales_office\n",
      "Column 105 has no negatives, empty strings or Nones\n",
      "--------------------------------------------------\n",
      "Column Name:  end_natres_construct_maint\n",
      "Column 106 has no negatives, empty strings or Nones\n",
      "--------------------------------------------------\n",
      "Column Name:  end_prod_transport_moving\n",
      "Column 107 has no negatives, empty strings or Nones\n",
      "--------------------------------------------------\n",
      "Column Name:  end_class_civilian_employed_16+\n",
      "Column 108 has no negatives, empty strings or Nones\n",
      "--------------------------------------------------\n",
      "Column Name:  end_salary_workers\n",
      "Column 109 has no negatives, empty strings or Nones\n",
      "--------------------------------------------------\n",
      "Column Name:  end_govt_workers\n",
      "Column 110 has no negatives, empty strings or Nones\n",
      "--------------------------------------------------\n",
      "Column Name:  end_self-employed\n",
      "Column 111 has no negatives, empty strings or Nones\n",
      "--------------------------------------------------\n",
      "Column Name:  end_unpaid_family_workers\n",
      "Column 112 has no negatives, empty strings or Nones\n",
      "--------------------------------------------------\n",
      "Column Name:  end_total_households\n",
      "Column 113 has no negatives, empty strings or Nones\n",
      "--------------------------------------------------\n",
      "Column Name:  end_hincome_10K_under\n",
      "Column 114 has no negatives, empty strings or Nones\n",
      "--------------------------------------------------\n",
      "Column Name:  end_hincome_10K_15K\n",
      "Column 115 has no negatives, empty strings or Nones\n",
      "--------------------------------------------------\n",
      "Column Name:  end_hincome_15K_25K\n",
      "Column 116 has no negatives, empty strings or Nones\n",
      "--------------------------------------------------\n",
      "Column Name:  end_hincome_25K_35K\n",
      "Column 117 has no negatives, empty strings or Nones\n",
      "--------------------------------------------------\n",
      "Column Name:  end_hincome_35K_50K\n",
      "Column 118 has no negatives, empty strings or Nones\n",
      "--------------------------------------------------\n",
      "Column Name:  end_hincome_50K_75K\n",
      "Column 119 has no negatives, empty strings or Nones\n",
      "--------------------------------------------------\n",
      "Column Name:  end_hincome_75K_100K\n",
      "Column 120 has no negatives, empty strings or Nones\n",
      "--------------------------------------------------\n",
      "Column Name:  end_hincome_100K_150K\n",
      "Column 121 has no negatives, empty strings or Nones\n",
      "--------------------------------------------------\n",
      "Column Name:  end_hincome_150K_200K\n",
      "Column 122 has no negatives, empty strings or Nones\n",
      "--------------------------------------------------\n",
      "Column Name:  end_hincome_200K_more\n",
      "Column 123 has no negatives, empty strings or Nones\n",
      "--------------------------------------------------\n",
      "Column Name:  end_median_hincome\n",
      "Column 124 has no negatives, empty strings or Nones\n",
      "--------------------------------------------------\n",
      "Column Name:  end_mean_hincome\n",
      "Column 125 has no negatives, empty strings or Nones\n",
      "--------------------------------------------------\n",
      "Column Name:  end_median_earnings\n",
      "Column 126 has no negatives, empty strings or Nones\n",
      "--------------------------------------------------\n",
      "Column Name:  end_median_earnings_male\n",
      "Column 127 has no negatives, empty strings or Nones\n",
      "--------------------------------------------------\n",
      "Column Name:  end_median_earnings_female\n",
      "Column 128 has no negatives, empty strings or Nones\n",
      "--------------------------------------------------\n",
      "Column Name:  end_all_families\n",
      "Column 129 has no negatives, empty strings or Nones\n",
      "--------------------------------------------------\n",
      "Column Name:  end_all_families_below_poverty\n",
      "Column 130 has no negatives, empty strings or Nones\n",
      "--------------------------------------------------\n",
      "Column Name:  end_pop_poverty_status_determ\n",
      "Column 131 has no negatives, empty strings or Nones\n",
      "--------------------------------------------------\n",
      "Column Name:  end_pop_below_poverty\n",
      "Column 132 has no negatives, empty strings or Nones\n"
     ]
    }
   ],
   "source": [
    "data_eval(cbacs)"
   ]
  },
  {
   "cell_type": "markdown",
   "metadata": {},
   "source": [
    "Adjust `tripduration`:"
   ]
  },
  {
   "cell_type": "code",
   "execution_count": 14,
   "metadata": {},
   "outputs": [],
   "source": [
    "cbacs['tripduration'] = cbacs['tripduration'].abs()"
   ]
  },
  {
   "cell_type": "markdown",
   "metadata": {},
   "source": [
    "Drop improbable ages:"
   ]
  },
  {
   "cell_type": "code",
   "execution_count": 15,
   "metadata": {},
   "outputs": [],
   "source": [
    "cbacs.drop(cbacs['age_at_ride'].loc[cbacs['age_at_ride'] >= 100].index, inplace=True)\n",
    "# cbacs['age_at_ride'].loc[cbacs['age_at_ride'] >= 100]"
   ]
  },
  {
   "cell_type": "markdown",
   "metadata": {},
   "source": [
    "## Data preprocessing"
   ]
  },
  {
   "cell_type": "markdown",
   "metadata": {},
   "source": [
    "### Perform datatype conversions"
   ]
  },
  {
   "cell_type": "code",
   "execution_count": 16,
   "metadata": {},
   "outputs": [],
   "source": [
    "num_nom_feat = ['bikeid','endstationid','startstationid','gender','age_at_ride','startday']\n",
    "cat_nom_feat = ['start_nta_code','end_nta_code','start_nta_name','end_nta_name',\n",
    "                'endstationname','startstationname','usertype',\n",
    "               'startneighborhood','start_borough','endneighborhood','end_borough',\n",
    "               'startdayname','stopdayname','startdaytype','enddaytype','startrushhour',\n",
    "                'endrushhour','starttimeofday','endtimeofday','age_group']"
   ]
  },
  {
   "cell_type": "code",
   "execution_count": 17,
   "metadata": {},
   "outputs": [],
   "source": [
    "cbacs['birthyear'] = pd.to_datetime(cbacs.birthyear, format='%Y')"
   ]
  },
  {
   "cell_type": "code",
   "execution_count": 18,
   "metadata": {},
   "outputs": [],
   "source": [
    "cbacs[cat_nom_feat] = cbacs[cat_nom_feat].apply(lambda x: x.astype('category'))"
   ]
  },
  {
   "cell_type": "markdown",
   "metadata": {},
   "source": [
    "## Feature engineering"
   ]
  },
  {
   "cell_type": "markdown",
   "metadata": {},
   "source": [
    "Create new feature to get a sense of flow between boroughs:"
   ]
  },
  {
   "cell_type": "code",
   "execution_count": 19,
   "metadata": {},
   "outputs": [],
   "source": [
    "boro_plus_dict = {'Manhattan': 'Manhattan', \n",
    "                  'Brooklyn': 'Outer Borough',\n",
    "                  'Bronx': 'Outer Borough',\n",
    "                  'Queens': 'Outer Borough', \n",
    "                  'Jersey City': 'Tri-State Area'}"
   ]
  },
  {
   "cell_type": "code",
   "execution_count": 20,
   "metadata": {},
   "outputs": [],
   "source": [
    "cbacs['start_boro_flow'] = cbacs.start_borough.map(boro_plus_dict)\n",
    "cbacs['end_boro_flow'] = cbacs.end_borough.map(boro_plus_dict)"
   ]
  },
  {
   "cell_type": "markdown",
   "metadata": {},
   "source": [
    "Reorder time feature:"
   ]
  },
  {
   "cell_type": "code",
   "execution_count": 21,
   "metadata": {},
   "outputs": [],
   "source": [
    "cbacs['startrushhour'].cat.set_categories(['Morning Off-Peak','Morning Rush','Afternoon Off-Peak',\n",
    "                                           'Afternoon Rush','Evening Off-Peak'],inplace=True)"
   ]
  },
  {
   "cell_type": "code",
   "execution_count": 22,
   "metadata": {},
   "outputs": [],
   "source": [
    "cbacs['endrushhour'].cat.set_categories(['Morning Off-Peak','Morning Rush','Afternoon Off-Peak',\n",
    "                                         'Afternoon Rush','Evening Off-Peak'],inplace=True)"
   ]
  },
  {
   "cell_type": "code",
   "execution_count": 23,
   "metadata": {},
   "outputs": [],
   "source": [
    "cbacs['startdayname'].cat.set_categories(['Monday','Tuesday','Wednesday','Thursday',\n",
    "                                         'Friday','Saturday','Sunday'],inplace=True)"
   ]
  },
  {
   "cell_type": "code",
   "execution_count": 24,
   "metadata": {},
   "outputs": [],
   "source": [
    "cbacs['stopdayname'].cat.set_categories(['Monday','Tuesday','Wednesday','Thursday',\n",
    "                                         'Friday','Saturday','Sunday'],inplace=True)"
   ]
  },
  {
   "cell_type": "markdown",
   "metadata": {},
   "source": [
    "Exclude out-of-bounds neighborhoods:"
   ]
  },
  {
   "cell_type": "code",
   "execution_count": 25,
   "metadata": {},
   "outputs": [],
   "source": [
    "cbacs = cbacs[~cbacs['startneighborhood'].isin(['New York County','Kings County','Queens County'])]\n",
    "cbacs = cbacs[~cbacs['endneighborhood'].isin(['New York County','Kings County','Queens County'])]\n",
    "cbacs = cbacs[~cbacs['startboro'].isin(['Jersey City'])]\n",
    "cbacs = cbacs[~cbacs['endboro'].isin(['Jersey City'])]"
   ]
  },
  {
   "cell_type": "markdown",
   "metadata": {},
   "source": [
    "Save:"
   ]
  },
  {
   "cell_type": "code",
   "execution_count": 26,
   "metadata": {},
   "outputs": [],
   "source": [
    "# cbacs.to_pickle('../../data/02_processed/citibike_acsnta201418.pkl')"
   ]
  },
  {
   "cell_type": "markdown",
   "metadata": {},
   "source": [
    "## Data visualization"
   ]
  },
  {
   "cell_type": "markdown",
   "metadata": {},
   "source": [
    "### Maps"
   ]
  },
  {
   "cell_type": "markdown",
   "metadata": {},
   "source": [
    "Subset data set for geospatial mapping:"
   ]
  },
  {
   "cell_type": "code",
   "execution_count": 28,
   "metadata": {},
   "outputs": [],
   "source": [
    "nta_shp = '../../data/00_raw/NTA_map.geojson'\n",
    "acsnta_path = '../../data/00_raw/acsnta.csv'\n",
    "\n",
    "# nta_shp = 'NTA_map.geojson'\n",
    "# acsnta_path = 'acsnta.csv'"
   ]
  },
  {
   "cell_type": "code",
   "execution_count": 29,
   "metadata": {},
   "outputs": [],
   "source": [
    "nta_df = pd.read_csv(acsnta_path)\n",
    "nta_df.loc[nta_df['mean_hincome'] == 0, 'mean_hincome'] = np.mean(nta_df['mean_hincome'])"
   ]
  },
  {
   "cell_type": "code",
   "execution_count": 30,
   "metadata": {},
   "outputs": [],
   "source": [
    "start_stations = cbacs.groupby('startstationid').agg({'startstationlatitude':'mean', \n",
    "                                                      'startstationlongitude':'mean', \n",
    "                                                      'tripduration':'mean',\n",
    "                                                      'start_mean_hincome':'mean',\n",
    "                                                      'bikeid':'count'}).merge(cbacs[['startstationid',\n",
    "                                                                                      'startstationname',\n",
    "                                                                                      'start_nta_name']], \n",
    "                                          on='startstationid', how='left').drop_duplicates('startstationid')\n",
    "start_stations = start_stations.rename(columns={'bikeid':'start_count'})"
   ]
  },
  {
   "cell_type": "code",
   "execution_count": 31,
   "metadata": {},
   "outputs": [],
   "source": [
    "start_stations = start_stations[start_stations['start_count'] > 100]"
   ]
  },
  {
   "cell_type": "code",
   "execution_count": 32,
   "metadata": {},
   "outputs": [],
   "source": [
    "# normalize trip counts to color\n",
    "norm = Normalize(start_stations['start_count'].min(), start_stations['start_count'].max())"
   ]
  },
  {
   "cell_type": "code",
   "execution_count": 33,
   "metadata": {},
   "outputs": [],
   "source": [
    "station_map = folium.Map(location=[40.75, -74.0001],\n",
    "               tiles = 'CartoDB Dark_matter',\n",
    "               zoom_start=12)"
   ]
  },
  {
   "cell_type": "code",
   "execution_count": 34,
   "metadata": {},
   "outputs": [],
   "source": [
    "folium.TileLayer('CartoDB positron').add_to(station_map)\n",
    "\n",
    "folium.Choropleth(\n",
    "    geo_data=nta_shp,\n",
    "    name='chp',\n",
    "    data=nta_df,\n",
    "    columns=['nta_code','mean_hincome'],\n",
    "    key_on='feature.properties.ntacode',\n",
    "    fill_color='YlGnBu',\n",
    "    fill_opacity=0.7,\n",
    "    line_opacity=1,\n",
    "    legend_name='Mean Household Income ($)'\n",
    ").add_to(station_map);\n",
    "\n",
    "for idx, row in start_stations.iterrows():\n",
    "    color = rgb2hex(cm.OrRd(norm(row['start_count'])+0.3))\n",
    "    folium.CircleMarker(location=[row['startstationlatitude'], row['startstationlongitude']],\n",
    "                        popup=row['startstationname'],\n",
    "                        fill=True,\n",
    "                        radius = row['tripduration']/300,\n",
    "                        color=color, \n",
    "                        fill_color=color,\n",
    "                        fill_opacity=1.0).add_to(station_map)\n",
    "    \n",
    "folium.LayerControl().add_to(station_map);"
   ]
  },
  {
   "cell_type": "markdown",
   "metadata": {},
   "source": [
    "What each part of the map represents:\n",
    "\n",
    "- Markers for each station\n",
    "    - Size represents `tripduration`\n",
    "    - Color represents station utilization; darker colors indicate higher utilization\n",
    "- Chorolpleths for each NTA\n",
    "    - Color represents mean income of NTA"
   ]
  },
  {
   "cell_type": "code",
   "execution_count": 35,
   "metadata": {},
   "outputs": [],
   "source": [
    "station_map.save('cb_nta_map.html')"
   ]
  },
  {
   "cell_type": "code",
   "execution_count": 37,
   "metadata": {},
   "outputs": [],
   "source": [
    "cbacs['startyear'] = cbacs['starttime'].dt.year"
   ]
  },
  {
   "cell_type": "code",
   "execution_count": 38,
   "metadata": {},
   "outputs": [],
   "source": [
    "trip_count_year = cbacs.groupby('startyear').agg('count')[['bikeid']].rename(columns={'bikeid':'Trip Count'})"
   ]
  },
  {
   "cell_type": "code",
   "execution_count": 39,
   "metadata": {},
   "outputs": [],
   "source": [
    "trip_count_year = trip_count_year.drop(index=2020)"
   ]
  },
  {
   "cell_type": "code",
   "execution_count": 40,
   "metadata": {},
   "outputs": [
    {
     "data": {
      "image/png": "[encoded data removed]",
      "text/plain": [
       "<Figure size 432x288 with 1 Axes>"
      ]
     },
     "metadata": {
      "needs_background": "light"
     },
     "output_type": "display_data"
    }
   ],
   "source": [
    "trip_count_year.reset_index().plot(kind='bar', x = 'startyear')\n",
    "plt.title('Distribution of Trip Count',fontsize=15)\n",
    "plt.xlabel('Trip Count')\n",
    "plt.show();"
   ]
  },
  {
   "cell_type": "markdown",
   "metadata": {},
   "source": [
    "### Tables"
   ]
  },
  {
   "cell_type": "code",
   "execution_count": 41,
   "metadata": {},
   "outputs": [
    {
     "data": {
      "text/html": [
       "<div>\n",
       "<style scoped>\n",
       "    .dataframe tbody tr th:only-of-type {\n",
       "        vertical-align: middle;\n",
       "    }\n",
       "\n",
       "    .dataframe tbody tr th {\n",
       "        vertical-align: top;\n",
       "    }\n",
       "\n",
       "    .dataframe thead th {\n",
       "        text-align: right;\n",
       "    }\n",
       "</style>\n",
       "<table border=\"1\" class=\"dataframe\">\n",
       "  <thead>\n",
       "    <tr style=\"text-align: right;\">\n",
       "      <th>end_boro_flow</th>\n",
       "      <th>Manhattan</th>\n",
       "      <th>Outer Borough</th>\n",
       "    </tr>\n",
       "    <tr>\n",
       "      <th>start_boro_flow</th>\n",
       "      <th></th>\n",
       "      <th></th>\n",
       "    </tr>\n",
       "  </thead>\n",
       "  <tbody>\n",
       "    <tr>\n",
       "      <th>Manhattan</th>\n",
       "      <td>84.0%</td>\n",
       "      <td>2.0%</td>\n",
       "    </tr>\n",
       "    <tr>\n",
       "      <th>Outer Borough</th>\n",
       "      <td>1.9%</td>\n",
       "      <td>12.1%</td>\n",
       "    </tr>\n",
       "  </tbody>\n",
       "</table>\n",
       "</div>"
      ],
      "text/plain": [
       "end_boro_flow   Manhattan Outer Borough\n",
       "start_boro_flow                        \n",
       "Manhattan           84.0%          2.0%\n",
       "Outer Borough        1.9%         12.1%"
      ]
     },
     "execution_count": 41,
     "metadata": {},
     "output_type": "execute_result"
    }
   ],
   "source": [
    "perc_rides_by_boro_flow = cbacs.pivot_table('bikeid', index='start_boro_flow', columns='end_boro_flow', aggfunc=len, fill_value=0).div(len(cbacs.bikeid)).mul(100)\n",
    "perc_rides_by_boro_flow = perc_rides_by_boro_flow.applymap('{0:,.1f}%'.format)\n",
    "perc_rides_by_boro_flow"
   ]
  },
  {
   "cell_type": "code",
   "execution_count": 42,
   "metadata": {},
   "outputs": [
    {
     "data": {
      "text/html": [
       "<div>\n",
       "<style scoped>\n",
       "    .dataframe tbody tr th:only-of-type {\n",
       "        vertical-align: middle;\n",
       "    }\n",
       "\n",
       "    .dataframe tbody tr th {\n",
       "        vertical-align: top;\n",
       "    }\n",
       "\n",
       "    .dataframe thead th {\n",
       "        text-align: right;\n",
       "    }\n",
       "</style>\n",
       "<table border=\"1\" class=\"dataframe\">\n",
       "  <thead>\n",
       "    <tr style=\"text-align: right;\">\n",
       "      <th></th>\n",
       "      <th></th>\n",
       "      <th>tripduration</th>\n",
       "    </tr>\n",
       "    <tr>\n",
       "      <th>start_boro_flow</th>\n",
       "      <th>end_boro_flow</th>\n",
       "      <th></th>\n",
       "    </tr>\n",
       "  </thead>\n",
       "  <tbody>\n",
       "    <tr>\n",
       "      <th rowspan=\"2\" valign=\"top\">Manhattan</th>\n",
       "      <th>Manhattan</th>\n",
       "      <td>13 min</td>\n",
       "    </tr>\n",
       "    <tr>\n",
       "      <th>Outer Borough</th>\n",
       "      <td>28 min</td>\n",
       "    </tr>\n",
       "    <tr>\n",
       "      <th rowspan=\"2\" valign=\"top\">Outer Borough</th>\n",
       "      <th>Manhattan</th>\n",
       "      <td>27 min</td>\n",
       "    </tr>\n",
       "    <tr>\n",
       "      <th>Outer Borough</th>\n",
       "      <td>11 min</td>\n",
       "    </tr>\n",
       "  </tbody>\n",
       "</table>\n",
       "</div>"
      ],
      "text/plain": [
       "                              tripduration\n",
       "start_boro_flow end_boro_flow             \n",
       "Manhattan       Manhattan           13 min\n",
       "                Outer Borough       28 min\n",
       "Outer Borough   Manhattan           27 min\n",
       "                Outer Borough       11 min"
      ]
     },
     "execution_count": 42,
     "metadata": {},
     "output_type": "execute_result"
    }
   ],
   "source": [
    "avg_rides_by_boro_triptime1 = cbacs.pivot_table('tripduration', index=['start_boro_flow', 'end_boro_flow'],  aggfunc='mean', fill_value=0).div(60)\n",
    "avg_rides_by_boro_triptime1 = avg_rides_by_boro_triptime1.applymap('{0:,.0f} min'.format)\n",
    "avg_rides_by_boro_triptime1"
   ]
  },
  {
   "cell_type": "code",
   "execution_count": 43,
   "metadata": {},
   "outputs": [
    {
     "data": {
      "text/html": [
       "<div>\n",
       "<style scoped>\n",
       "    .dataframe tbody tr th:only-of-type {\n",
       "        vertical-align: middle;\n",
       "    }\n",
       "\n",
       "    .dataframe tbody tr th {\n",
       "        vertical-align: top;\n",
       "    }\n",
       "\n",
       "    .dataframe thead th {\n",
       "        text-align: right;\n",
       "    }\n",
       "</style>\n",
       "<table border=\"1\" class=\"dataframe\">\n",
       "  <thead>\n",
       "    <tr style=\"text-align: right;\">\n",
       "      <th></th>\n",
       "      <th>startdaytype</th>\n",
       "      <th>Weekday</th>\n",
       "      <th>Weekend</th>\n",
       "    </tr>\n",
       "    <tr>\n",
       "      <th>start_boro_flow</th>\n",
       "      <th>end_boro_flow</th>\n",
       "      <th></th>\n",
       "      <th></th>\n",
       "    </tr>\n",
       "  </thead>\n",
       "  <tbody>\n",
       "    <tr>\n",
       "      <th rowspan=\"2\" valign=\"top\">Manhattan</th>\n",
       "      <th>Manhattan</th>\n",
       "      <td>12 min</td>\n",
       "      <td>14 min</td>\n",
       "    </tr>\n",
       "    <tr>\n",
       "      <th>Outer Borough</th>\n",
       "      <td>27 min</td>\n",
       "      <td>29 min</td>\n",
       "    </tr>\n",
       "    <tr>\n",
       "      <th rowspan=\"2\" valign=\"top\">Outer Borough</th>\n",
       "      <th>Manhattan</th>\n",
       "      <td>26 min</td>\n",
       "      <td>28 min</td>\n",
       "    </tr>\n",
       "    <tr>\n",
       "      <th>Outer Borough</th>\n",
       "      <td>10 min</td>\n",
       "      <td>13 min</td>\n",
       "    </tr>\n",
       "  </tbody>\n",
       "</table>\n",
       "</div>"
      ],
      "text/plain": [
       "startdaytype                  Weekday Weekend\n",
       "start_boro_flow end_boro_flow                \n",
       "Manhattan       Manhattan      12 min  14 min\n",
       "                Outer Borough  27 min  29 min\n",
       "Outer Borough   Manhattan      26 min  28 min\n",
       "                Outer Borough  10 min  13 min"
      ]
     },
     "execution_count": 43,
     "metadata": {},
     "output_type": "execute_result"
    }
   ],
   "source": [
    "avg_rides_by_boro_triptime = cbacs.pivot_table('tripduration', index=['start_boro_flow', 'end_boro_flow'], columns='startdaytype', aggfunc='mean', fill_value=0).div(60)\n",
    "avg_rides_by_boro_triptime = avg_rides_by_boro_triptime.applymap('{0:,.0f} min'.format)\n",
    "avg_rides_by_boro_triptime"
   ]
  },
  {
   "cell_type": "code",
   "execution_count": 44,
   "metadata": {},
   "outputs": [
    {
     "data": {
      "text/html": [
       "<div>\n",
       "<style scoped>\n",
       "    .dataframe tbody tr th:only-of-type {\n",
       "        vertical-align: middle;\n",
       "    }\n",
       "\n",
       "    .dataframe tbody tr th {\n",
       "        vertical-align: top;\n",
       "    }\n",
       "\n",
       "    .dataframe thead th {\n",
       "        text-align: right;\n",
       "    }\n",
       "</style>\n",
       "<table border=\"1\" class=\"dataframe\">\n",
       "  <thead>\n",
       "    <tr style=\"text-align: right;\">\n",
       "      <th></th>\n",
       "      <th></th>\n",
       "      <th>manhdistance</th>\n",
       "    </tr>\n",
       "    <tr>\n",
       "      <th>start_boro_flow</th>\n",
       "      <th>end_boro_flow</th>\n",
       "      <th></th>\n",
       "    </tr>\n",
       "  </thead>\n",
       "  <tbody>\n",
       "    <tr>\n",
       "      <th rowspan=\"2\" valign=\"top\">Manhattan</th>\n",
       "      <th>Manhattan</th>\n",
       "      <td>1.37 miles</td>\n",
       "    </tr>\n",
       "    <tr>\n",
       "      <th>Outer Borough</th>\n",
       "      <td>3.27 miles</td>\n",
       "    </tr>\n",
       "    <tr>\n",
       "      <th rowspan=\"2\" valign=\"top\">Outer Borough</th>\n",
       "      <th>Manhattan</th>\n",
       "      <td>3.27 miles</td>\n",
       "    </tr>\n",
       "    <tr>\n",
       "      <th>Outer Borough</th>\n",
       "      <td>1.13 miles</td>\n",
       "    </tr>\n",
       "  </tbody>\n",
       "</table>\n",
       "</div>"
      ],
      "text/plain": [
       "                              manhdistance\n",
       "start_boro_flow end_boro_flow             \n",
       "Manhattan       Manhattan       1.37 miles\n",
       "                Outer Borough   3.27 miles\n",
       "Outer Borough   Manhattan       3.27 miles\n",
       "                Outer Borough   1.13 miles"
      ]
     },
     "execution_count": 44,
     "metadata": {},
     "output_type": "execute_result"
    }
   ],
   "source": [
    "avg_rides_by_boro_mandist = cbacs.pivot_table('manhdistance', index=['start_boro_flow', 'end_boro_flow'], aggfunc='mean', fill_value=0)\n",
    "avg_rides_by_boro_mandist = avg_rides_by_boro_mandist.applymap('{0:,.2f} miles'.format)\n",
    "avg_rides_by_boro_mandist"
   ]
  },
  {
   "cell_type": "code",
   "execution_count": 45,
   "metadata": {},
   "outputs": [],
   "source": [
    "outflow_nta = cbacs.pivot_table('bikeid', index='start_nta_name', aggfunc='count', fill_value = 0) # Origin => Positive Net Outflow\n",
    "inflow_nta = cbacs.pivot_table('bikeid', index='end_nta_name', aggfunc='count', fill_value = 0) # Destination => Positive Net Inflow\n",
    "\n",
    "# Drop misc category\n",
    "outflow_nta.drop(index = [idx for idx in outflow_nta.index if 'park-cemetery' in idx], inplace=True)\n",
    "inflow_nta.drop(index = [idx for idx in inflow_nta.index if 'park-cemetery' in idx], inplace=True)\n",
    "\n",
    "# Origin\n",
    "outflow_nta_origin = outflow_nta - inflow_nta\n",
    "outflow_nta_origin.columns = ['Net Outflow of Rides']\n",
    "outflow_nta_origin.index.names = ['Neighborhood Tabulation Area']\n",
    "\n",
    "# Destination\n",
    "inflow_nta_dest = inflow_nta - outflow_nta\n",
    "inflow_nta_dest.columns = ['Net Inflow of Rides']\n",
    "inflow_nta_dest.index.names = ['Neighborhood Tabulation Area']"
   ]
  },
  {
   "cell_type": "code",
   "execution_count": 46,
   "metadata": {},
   "outputs": [
    {
     "data": {
      "text/html": [
       "<div>\n",
       "<style scoped>\n",
       "    .dataframe tbody tr th:only-of-type {\n",
       "        vertical-align: middle;\n",
       "    }\n",
       "\n",
       "    .dataframe tbody tr th {\n",
       "        vertical-align: top;\n",
       "    }\n",
       "\n",
       "    .dataframe thead th {\n",
       "        text-align: right;\n",
       "    }\n",
       "</style>\n",
       "<table border=\"1\" class=\"dataframe\">\n",
       "  <thead>\n",
       "    <tr style=\"text-align: right;\">\n",
       "      <th></th>\n",
       "      <th>Net Outflow of Rides</th>\n",
       "    </tr>\n",
       "    <tr>\n",
       "      <th>Neighborhood Tabulation Area</th>\n",
       "      <th></th>\n",
       "    </tr>\n",
       "  </thead>\n",
       "  <tbody>\n",
       "    <tr>\n",
       "      <th>Murray Hill-Kips Bay</th>\n",
       "      <td>5731</td>\n",
       "    </tr>\n",
       "    <tr>\n",
       "      <th>Upper West Side</th>\n",
       "      <td>5654</td>\n",
       "    </tr>\n",
       "    <tr>\n",
       "      <th>Lincoln Square</th>\n",
       "      <td>4842</td>\n",
       "    </tr>\n",
       "    <tr>\n",
       "      <th>Midtown-Midtown South</th>\n",
       "      <td>4742</td>\n",
       "    </tr>\n",
       "    <tr>\n",
       "      <th>Clinton</th>\n",
       "      <td>3767</td>\n",
       "    </tr>\n",
       "  </tbody>\n",
       "</table>\n",
       "</div>"
      ],
      "text/plain": [
       "                              Net Outflow of Rides\n",
       "Neighborhood Tabulation Area                      \n",
       "Murray Hill-Kips Bay                          5731\n",
       "Upper West Side                               5654\n",
       "Lincoln Square                                4842\n",
       "Midtown-Midtown South                         4742\n",
       "Clinton                                       3767"
      ]
     },
     "execution_count": 46,
     "metadata": {},
     "output_type": "execute_result"
    }
   ],
   "source": [
    "top5_nta_outflow = outflow_nta_origin.sort_values(['Net Outflow of Rides'], ascending=False).dropna().head(5)\n",
    "top5_nta_outflow"
   ]
  },
  {
   "cell_type": "code",
   "execution_count": 47,
   "metadata": {},
   "outputs": [
    {
     "data": {
      "text/html": [
       "<div>\n",
       "<style scoped>\n",
       "    .dataframe tbody tr th:only-of-type {\n",
       "        vertical-align: middle;\n",
       "    }\n",
       "\n",
       "    .dataframe tbody tr th {\n",
       "        vertical-align: top;\n",
       "    }\n",
       "\n",
       "    .dataframe thead th {\n",
       "        text-align: right;\n",
       "    }\n",
       "</style>\n",
       "<table border=\"1\" class=\"dataframe\">\n",
       "  <thead>\n",
       "    <tr style=\"text-align: right;\">\n",
       "      <th></th>\n",
       "      <th>Net Inflow of Rides</th>\n",
       "    </tr>\n",
       "    <tr>\n",
       "      <th>Neighborhood Tabulation Area</th>\n",
       "      <th></th>\n",
       "    </tr>\n",
       "  </thead>\n",
       "  <tbody>\n",
       "    <tr>\n",
       "      <th>SoHo-TriBeCa-Civic Center-Little Italy</th>\n",
       "      <td>9523</td>\n",
       "    </tr>\n",
       "    <tr>\n",
       "      <th>Hudson Yards-Chelsea-Flat Iron-Union Square</th>\n",
       "      <td>6735</td>\n",
       "    </tr>\n",
       "    <tr>\n",
       "      <th>Battery Park City-Lower Manhattan</th>\n",
       "      <td>6161</td>\n",
       "    </tr>\n",
       "    <tr>\n",
       "      <th>West Village</th>\n",
       "      <td>6095</td>\n",
       "    </tr>\n",
       "    <tr>\n",
       "      <th>DUMBO-Vinegar Hill-Downtown Brooklyn-Boerum Hill</th>\n",
       "      <td>3707</td>\n",
       "    </tr>\n",
       "  </tbody>\n",
       "</table>\n",
       "</div>"
      ],
      "text/plain": [
       "                                                  Net Inflow of Rides\n",
       "Neighborhood Tabulation Area                                         \n",
       "SoHo-TriBeCa-Civic Center-Little Italy                           9523\n",
       "Hudson Yards-Chelsea-Flat Iron-Union Square                      6735\n",
       "Battery Park City-Lower Manhattan                                6161\n",
       "West Village                                                     6095\n",
       "DUMBO-Vinegar Hill-Downtown Brooklyn-Boerum Hill                 3707"
      ]
     },
     "execution_count": 47,
     "metadata": {},
     "output_type": "execute_result"
    }
   ],
   "source": [
    "top5_nta_inflow = inflow_nta_dest.sort_values(['Net Inflow of Rides'], ascending=False).dropna().head(5)\n",
    "top5_nta_inflow.index.names = ['Neighborhood Tabulation Area']\n",
    "top5_nta_inflow"
   ]
  },
  {
   "cell_type": "markdown",
   "metadata": {},
   "source": [
    "`Hudson Yards-Chelsea-Flat Iron-Union Square` is a popular weekday and weekend NTA:"
   ]
  },
  {
   "cell_type": "code",
   "execution_count": 48,
   "metadata": {},
   "outputs": [
    {
     "name": "stdout",
     "output_type": "stream",
     "text": [
      "startdaytype                                     Weekday Weekend\n",
      "start_nta_name                                                  \n",
      "Astoria                                            0.20%   0.09%\n",
      "Battery Park City-Lower Manhattan                  4.05%   1.03%\n",
      "Bedford                                            0.34%   0.15%\n",
      "Brooklyn Heights-Cobble Hill                       0.71%   0.24%\n",
      "Bushwick North                                     0.02%   0.01%\n",
      "Bushwick South                                     0.07%   0.04%\n",
      "Carroll Gardens-Columbia Street-Red Hook           0.46%   0.20%\n",
      "Central Harlem North-Polo Grounds                  0.05%   0.02%\n",
      "Central Harlem South                               0.22%   0.09%\n",
      "Chinatown                                          2.65%   0.99%\n",
      "Clinton                                            3.17%   0.84%\n",
      "Clinton Hill                                       0.61%   0.23%\n",
      "Crown Heights North                                0.09%   0.04%\n",
      "Crown Heights South                                0.01%   0.01%\n",
      "DUMBO-Vinegar Hill-Downtown Brooklyn-Boerum Hill   1.52%   0.49%\n",
      "East Harlem North                                  0.22%   0.07%\n",
      "East Harlem South                                  0.40%   0.12%\n",
      "East Village                                       3.62%   1.35%\n",
      "East Williamsburg                                  0.42%   0.18%\n",
      "Fort Greene                                        1.20%   0.36%\n",
      "Gramercy                                           1.63%   0.41%\n",
      "Greenpoint                                         0.69%   0.26%\n",
      "Hudson Yards-Chelsea-Flat Iron-Union Square       10.18%   2.68%\n",
      "Hunters Point-Sunnyside-West Maspeth               0.39%   0.14%\n",
      "Lenox Hill-Roosevelt Island                        1.20%   0.32%\n",
      "Lincoln Square                                     1.74%   0.59%\n",
      "Lower East Side                                    2.14%   0.76%\n",
      "Manhattanville                                     0.01%   0.00%\n",
      "Midtown-Midtown South                              9.13%   1.49%\n",
      "Morningside Heights                                0.33%   0.12%\n",
      "Murray Hill-Kips Bay                               5.15%   0.94%\n",
      "North Side-South Side                              1.68%   0.74%\n",
      "Ocean Hill                                         0.00%   0.00%\n",
      "Old Astoria                                        0.08%   0.03%\n",
      "Park Slope-Gowanus                                 0.81%   0.33%\n",
      "Prospect Heights                                   0.19%   0.08%\n",
      "Prospect Lefferts Gardens-Wingate                  0.02%   0.01%\n",
      "Queensbridge-Ravenswood-Long Island City           0.16%   0.07%\n",
      "Ridgewood                                          0.00%   0.00%\n",
      "SoHo-TriBeCa-Civic Center-Little Italy             5.73%   1.54%\n",
      "Steinway                                           0.08%   0.03%\n",
      "Stuyvesant Heights                                 0.09%   0.03%\n",
      "Stuyvesant Town-Cooper Village                     1.31%   0.39%\n",
      "Sunset Park West                                   0.00%   0.00%\n",
      "Turtle Bay-East Midtown                            3.05%   0.52%\n",
      "Upper East Side-Carnegie Hill                      0.75%   0.23%\n",
      "Upper West Side                                    1.44%   0.58%\n",
      "West Village                                       7.54%   2.38%\n",
      "Williamsburg                                       0.04%   0.02%\n",
      "Yorkville                                          0.73%   0.25%\n",
      "park-cemetery-etc-Brooklyn                         0.26%   0.11%\n",
      "park-cemetery-etc-Manhattan                        1.25%   0.59%\n",
      "park-cemetery-etc-Queens                           0.02%   0.01%\n"
     ]
    }
   ],
   "source": [
    "mean_nta_startdaytype = cbacs.pivot_table('bikeid', index='start_nta_name', columns='startdaytype', aggfunc=len, fill_value=0).div(len(cbacs.bikeid)).mul(100)\n",
    "mean_nta_startdaytype = mean_nta_startdaytype.applymap('{0:,.2f}%'.format)\n",
    "show_all(mean_nta_startdaytype)"
   ]
  },
  {
   "cell_type": "code",
   "execution_count": 49,
   "metadata": {},
   "outputs": [
    {
     "name": "stdout",
     "output_type": "stream",
     "text": [
      "enddaytype                                       Weekday Weekend\n",
      "end_nta_name                                                    \n",
      "Astoria                                            0.20%   0.09%\n",
      "Battery Park City-Lower Manhattan                  4.17%   1.08%\n",
      "Bedford                                            0.35%   0.14%\n",
      "Brooklyn Heights-Cobble Hill                       0.66%   0.24%\n",
      "Bushwick North                                     0.02%   0.01%\n",
      "Bushwick South                                     0.08%   0.04%\n",
      "Carroll Gardens-Columbia Street-Red Hook           0.48%   0.21%\n",
      "Central Harlem North-Polo Grounds                  0.05%   0.02%\n",
      "Central Harlem South                               0.23%   0.09%\n",
      "Chinatown                                          2.64%   1.01%\n",
      "Clinton                                            3.10%   0.81%\n",
      "Clinton Hill                                       0.55%   0.20%\n",
      "Crown Heights North                                0.09%   0.04%\n",
      "Crown Heights South                                0.02%   0.01%\n",
      "DUMBO-Vinegar Hill-Downtown Brooklyn-Boerum Hill   1.58%   0.54%\n",
      "East Harlem North                                  0.23%   0.07%\n",
      "East Harlem South                                  0.42%   0.12%\n",
      "East Village                                       3.70%   1.35%\n",
      "East Williamsburg                                  0.42%   0.18%\n",
      "Fort Greene                                        1.24%   0.37%\n",
      "Gramercy                                           1.63%   0.41%\n",
      "Greenpoint                                         0.70%   0.25%\n",
      "Hudson Yards-Chelsea-Flat Iron-Union Square       10.29%   2.75%\n",
      "Hunters Point-Sunnyside-West Maspeth               0.40%   0.14%\n",
      "Lenox Hill-Roosevelt Island                        1.20%   0.31%\n",
      "Lincoln Square                                     1.63%   0.57%\n",
      "Lower East Side                                    2.13%   0.71%\n",
      "Manhattanville                                     0.01%   0.00%\n",
      "Midtown-Midtown South                              9.09%   1.41%\n",
      "Morningside Heights                                0.29%   0.11%\n",
      "Murray Hill-Kips Bay                               4.98%   0.95%\n",
      "North Side-South Side                              1.68%   0.74%\n",
      "Ocean Hill                                         0.00%   0.00%\n",
      "Old Astoria                                        0.08%   0.03%\n",
      "Park Slope-Gowanus                                 0.80%   0.34%\n",
      "Prospect Heights                                   0.19%   0.08%\n",
      "Prospect Lefferts Gardens-Wingate                  0.02%   0.01%\n",
      "Queensbridge-Ravenswood-Long Island City           0.17%   0.07%\n",
      "Ridgewood                                          0.00%   0.00%\n",
      "SoHo-TriBeCa-Civic Center-Little Italy             5.89%   1.65%\n",
      "Steinway                                           0.08%   0.03%\n",
      "Stuyvesant Heights                                 0.09%   0.03%\n",
      "Stuyvesant Town-Cooper Village                     1.28%   0.38%\n",
      "Sunset Park West                                   0.01%   0.00%\n",
      "Turtle Bay-East Midtown                            3.04%   0.52%\n",
      "Upper East Side-Carnegie Hill                      0.73%   0.23%\n",
      "Upper West Side                                    1.32%   0.54%\n",
      "West Village                                       7.69%   2.39%\n",
      "Williamsburg                                       0.04%   0.02%\n",
      "Yorkville                                          0.74%   0.24%\n",
      "park-cemetery-etc-Brooklyn                         0.27%   0.10%\n",
      "park-cemetery-etc-Manhattan                        1.15%   0.57%\n",
      "park-cemetery-etc-Queens                           0.02%   0.01%\n"
     ]
    }
   ],
   "source": [
    "mean_nta_enddaytype = cbacs.pivot_table('bikeid', index='end_nta_name', columns='enddaytype', aggfunc=len, fill_value=0).div(len(cbacs.bikeid)).mul(100)\n",
    "mean_nta_enddaytype = mean_nta_enddaytype.applymap('{0:,.2f}%'.format)\n",
    "show_all(mean_nta_enddaytype)"
   ]
  },
  {
   "cell_type": "code",
   "execution_count": 50,
   "metadata": {},
   "outputs": [
    {
     "name": "stdout",
     "output_type": "stream",
     "text": [
      "startdaytype                        Weekday Weekend\n",
      "startneighborhood                                  \n",
      "Alphabet City                         1.26%   0.46%\n",
      "Astoria                               0.25%   0.10%\n",
      "Battery Park City                     1.54%   0.49%\n",
      "Bay Ridge                             0.02%   0.01%\n",
      "Bedford-Stuyvesant                    0.34%   0.14%\n",
      "Bergen                                0.15%   0.06%\n",
      "Boerum Hill                           0.30%   0.11%\n",
      "Broadway                              5.73%   1.36%\n",
      "Brooklyn Heights                      0.52%   0.18%\n",
      "Brooklyn Navy Yard                    0.03%   0.00%\n",
      "Bushwick                              0.09%   0.05%\n",
      "Carnegie Hill                         0.13%   0.04%\n",
      "Chelsea                               7.67%   1.91%\n",
      "Chinatown                             0.63%   0.24%\n",
      "Clinton Hill                          0.51%   0.18%\n",
      "Cobble Hill                           0.33%   0.11%\n",
      "Columbia Street Waterfront District   0.12%   0.06%\n",
      "Columbus Circle                       0.58%   0.18%\n",
      "Crown Heights                         0.03%   0.01%\n",
      "DUMBO                                 0.69%   0.23%\n",
      "Downtown Brooklyn                     0.68%   0.17%\n",
      "East Harlem                           0.50%   0.16%\n",
      "East Village                          2.52%   0.92%\n",
      "Financial District                    2.34%   0.51%\n",
      "Five Points                           0.43%   0.15%\n",
      "Flatbush                              0.06%   0.03%\n",
      "Flushing                              0.06%   0.02%\n",
      "Fort Greene                           1.08%   0.36%\n",
      "Garment District                      1.21%   0.21%\n",
      "Gowanus                               0.05%   0.02%\n",
      "Gramercy                              0.50%   0.14%\n",
      "Grand Street                          0.38%   0.14%\n",
      "Greenpoint                            1.50%   0.61%\n",
      "Greenwich Village                     2.88%   0.86%\n",
      "Harlem                                0.35%   0.15%\n",
      "Hell's Kitchen                        2.13%   0.59%\n",
      "Hudson Square                         0.77%   0.19%\n",
      "Kips Bay                              2.22%   0.51%\n",
      "Korea Town                            0.84%   0.14%\n",
      "Lenox Hill                            0.56%   0.14%\n",
      "Lincoln Square                        0.25%   0.08%\n",
      "Little Italy                          0.71%   0.23%\n",
      "Long Island City                      0.47%   0.18%\n",
      "Lower East Side                       2.59%   0.97%\n",
      "Manhattan Valley                      1.01%   0.37%\n",
      "Manhattanville                        0.04%   0.02%\n",
      "Meatpacking District                  0.46%   0.16%\n",
      "Midtown                               4.80%   0.77%\n",
      "Morningside Heights                   0.11%   0.03%\n",
      "Murray Hill                           1.49%   0.26%\n",
      "NoHo                                  1.22%   0.38%\n",
      "NoMad                                 0.07%   0.02%\n",
      "Nolan Park                            0.01%   0.02%\n",
      "Ocean Hill                            0.00%   0.00%\n",
      "Park Slope                            0.71%   0.27%\n",
      "Peter Cooper Village                  0.28%   0.07%\n",
      "Prospect Heights                      0.43%   0.20%\n",
      "Prospect Park                         0.07%   0.04%\n",
      "Red Hook                              0.10%   0.06%\n",
      "Ridgewood                             0.00%   0.00%\n",
      "SoHo                                  0.77%   0.22%\n",
      "Steinway                              0.08%   0.03%\n",
      "Stuy Town                             1.02%   0.32%\n",
      "Sunnyside                             0.11%   0.04%\n",
      "Sunset Park                           0.00%   0.00%\n",
      "Theater District                      2.00%   0.40%\n",
      "Tribeca                               1.87%   0.41%\n",
      "Tudor City                            0.25%   0.04%\n",
      "Turtle Bay                            1.36%   0.19%\n",
      "Two Bridges                           0.42%   0.14%\n",
      "Upper East Side                       0.85%   0.33%\n",
      "Upper West Side                       1.86%   0.74%\n",
      "West Village                          2.64%   0.93%\n",
      "Williamsburg                          1.08%   0.46%\n",
      "Woodside                              0.01%   0.01%\n",
      "Yorkville                             1.35%   0.42%\n"
     ]
    }
   ],
   "source": [
    "mean_nb_startdaytype = cbacs.pivot_table('bikeid', index='startneighborhood', columns='startdaytype', aggfunc=len, fill_value=0).div(len(cbacs.bikeid)).mul(100)\n",
    "mean_nb_startdaytype = mean_nb_startdaytype.applymap('{0:,.2f}%'.format)\n",
    "show_all(mean_nb_startdaytype)"
   ]
  },
  {
   "cell_type": "markdown",
   "metadata": {},
   "source": [
    "Traffic flow at popular weekday/weekend destination:"
   ]
  },
  {
   "cell_type": "code",
   "execution_count": 51,
   "metadata": {},
   "outputs": [],
   "source": [
    "outflow_nta_rush = cbacs.pivot_table('bikeid', index='start_nta_name', columns='startrushhour', aggfunc='count', fill_value = 0) # Origin => Positive Net Outflow\n",
    "inflow_nta_rush = cbacs.pivot_table('bikeid', index='end_nta_name', columns='endrushhour', aggfunc='count', fill_value = 0) # Destination => Positive Net Inflow\n",
    "\n",
    "# Drop misc category\n",
    "outflow_nta_rush.drop(index = [idx for idx in outflow_nta.index if 'park-cemetery' in idx], inplace=True)\n",
    "outflow_nta_rush.drop(index = [idx for idx in inflow_nta.index if 'park-cemetery' in idx], inplace=True)\n",
    "\n",
    "# Origin - Net Outflow of Rides\n",
    "outflow_nta_rush_orig = outflow_nta_rush - inflow_nta_rush\n",
    "outflow_nta_rush_orig.index.names = ['Neighborhood Tabulation Area']\n",
    "\n",
    "# Destination - Net Inflow of Rides\n",
    "inflow_nta_rush_dest = inflow_nta_rush - outflow_nta_rush\n",
    "inflow_nta_rush_dest.index.names = ['Neighborhood Tabulation Area']"
   ]
  },
  {
   "cell_type": "markdown",
   "metadata": {},
   "source": [
    "More outgoing trips on afternoon rush and evening off-peak hours:"
   ]
  },
  {
   "cell_type": "code",
   "execution_count": 52,
   "metadata": {},
   "outputs": [
    {
     "data": {
      "text/html": [
       "<div>\n",
       "<style scoped>\n",
       "    .dataframe tbody tr th:only-of-type {\n",
       "        vertical-align: middle;\n",
       "    }\n",
       "\n",
       "    .dataframe tbody tr th {\n",
       "        vertical-align: top;\n",
       "    }\n",
       "\n",
       "    .dataframe thead th {\n",
       "        text-align: right;\n",
       "    }\n",
       "</style>\n",
       "<table border=\"1\" class=\"dataframe\">\n",
       "  <thead>\n",
       "    <tr style=\"text-align: right;\">\n",
       "      <th>startrushhour</th>\n",
       "      <th>Morning Off-Peak</th>\n",
       "      <th>Morning Rush</th>\n",
       "      <th>Afternoon Off-Peak</th>\n",
       "      <th>Afternoon Rush</th>\n",
       "      <th>Evening Off-Peak</th>\n",
       "    </tr>\n",
       "    <tr>\n",
       "      <th>Neighborhood Tabulation Area</th>\n",
       "      <th></th>\n",
       "      <th></th>\n",
       "      <th></th>\n",
       "      <th></th>\n",
       "      <th></th>\n",
       "    </tr>\n",
       "  </thead>\n",
       "  <tbody>\n",
       "    <tr>\n",
       "      <th>Hudson Yards-Chelsea-Flat Iron-Union Square</th>\n",
       "      <td>-143</td>\n",
       "      <td>-13139</td>\n",
       "      <td>-5432</td>\n",
       "      <td>10128</td>\n",
       "      <td>1851</td>\n",
       "    </tr>\n",
       "  </tbody>\n",
       "</table>\n",
       "</div>"
      ],
      "text/plain": [
       "startrushhour                                Morning Off-Peak  Morning Rush  \\\n",
       "Neighborhood Tabulation Area                                                  \n",
       "Hudson Yards-Chelsea-Flat Iron-Union Square              -143        -13139   \n",
       "\n",
       "startrushhour                                Afternoon Off-Peak  \\\n",
       "Neighborhood Tabulation Area                                      \n",
       "Hudson Yards-Chelsea-Flat Iron-Union Square               -5432   \n",
       "\n",
       "startrushhour                                Afternoon Rush  Evening Off-Peak  \n",
       "Neighborhood Tabulation Area                                                   \n",
       "Hudson Yards-Chelsea-Flat Iron-Union Square           10128              1851  "
      ]
     },
     "execution_count": 52,
     "metadata": {},
     "output_type": "execute_result"
    }
   ],
   "source": [
    "chelsea_outgoingt_rush = outflow_nta_rush_orig.loc[outflow_nta_rush_orig.index == 'Hudson Yards-Chelsea-Flat Iron-Union Square']\n",
    "chelsea_outgoingt_rush"
   ]
  },
  {
   "cell_type": "markdown",
   "metadata": {},
   "source": [
    "Popular destination in morning and afternoon hours:"
   ]
  },
  {
   "cell_type": "code",
   "execution_count": 53,
   "metadata": {},
   "outputs": [
    {
     "data": {
      "text/html": [
       "<div>\n",
       "<style scoped>\n",
       "    .dataframe tbody tr th:only-of-type {\n",
       "        vertical-align: middle;\n",
       "    }\n",
       "\n",
       "    .dataframe tbody tr th {\n",
       "        vertical-align: top;\n",
       "    }\n",
       "\n",
       "    .dataframe thead th {\n",
       "        text-align: right;\n",
       "    }\n",
       "</style>\n",
       "<table border=\"1\" class=\"dataframe\">\n",
       "  <thead>\n",
       "    <tr style=\"text-align: right;\">\n",
       "      <th>endrushhour</th>\n",
       "      <th>Morning Off-Peak</th>\n",
       "      <th>Morning Rush</th>\n",
       "      <th>Afternoon Off-Peak</th>\n",
       "      <th>Afternoon Rush</th>\n",
       "      <th>Evening Off-Peak</th>\n",
       "    </tr>\n",
       "    <tr>\n",
       "      <th>Neighborhood Tabulation Area</th>\n",
       "      <th></th>\n",
       "      <th></th>\n",
       "      <th></th>\n",
       "      <th></th>\n",
       "      <th></th>\n",
       "    </tr>\n",
       "  </thead>\n",
       "  <tbody>\n",
       "    <tr>\n",
       "      <th>Hudson Yards-Chelsea-Flat Iron-Union Square</th>\n",
       "      <td>143</td>\n",
       "      <td>13139</td>\n",
       "      <td>5432</td>\n",
       "      <td>-10128</td>\n",
       "      <td>-1851</td>\n",
       "    </tr>\n",
       "  </tbody>\n",
       "</table>\n",
       "</div>"
      ],
      "text/plain": [
       "endrushhour                                  Morning Off-Peak  Morning Rush  \\\n",
       "Neighborhood Tabulation Area                                                  \n",
       "Hudson Yards-Chelsea-Flat Iron-Union Square               143         13139   \n",
       "\n",
       "endrushhour                                  Afternoon Off-Peak  \\\n",
       "Neighborhood Tabulation Area                                      \n",
       "Hudson Yards-Chelsea-Flat Iron-Union Square                5432   \n",
       "\n",
       "endrushhour                                  Afternoon Rush  Evening Off-Peak  \n",
       "Neighborhood Tabulation Area                                                   \n",
       "Hudson Yards-Chelsea-Flat Iron-Union Square          -10128             -1851  "
      ]
     },
     "execution_count": 53,
     "metadata": {},
     "output_type": "execute_result"
    }
   ],
   "source": [
    "chelsea_incomingt_rush = inflow_nta_rush_dest.loc[inflow_nta_rush_dest.index == 'Hudson Yards-Chelsea-Flat Iron-Union Square']\n",
    "chelsea_incomingt_rush"
   ]
  },
  {
   "cell_type": "code",
   "execution_count": 54,
   "metadata": {},
   "outputs": [],
   "source": [
    "outflow_nta_day = cbacs.pivot_table('bikeid', index='start_nta_name', columns='startdayname', aggfunc='count', fill_value = 0) # Origin => Positive Net Outflow\n",
    "inflow_nta_day = cbacs.pivot_table('bikeid', index='end_nta_name', columns='stopdayname', aggfunc='count', fill_value = 0) # Destination => Positive Net Inflow\n",
    "\n",
    "# Drop misc category\n",
    "outflow_nta_day.drop(index = [idx for idx in outflow_nta.index if 'park-cemetery' in idx], inplace=True)\n",
    "inflow_nta_day.drop(index = [idx for idx in inflow_nta.index if 'park-cemetery' in idx], inplace=True)\n",
    "\n",
    "# Origin - Net Outflow of Rides\n",
    "outflow_nta_day_orig = outflow_nta_day - inflow_nta_day\n",
    "outflow_nta_day_orig.index.names = ['Neighborhood Tabulation Area']\n",
    "\n",
    "# Destination - Net Inflow of Rides\n",
    "inflow_nta_day_dest = inflow_nta_day - outflow_nta_day\n",
    "inflow_nta_day_dest.index.names = ['Neighborhood Tabulation Area']"
   ]
  },
  {
   "cell_type": "markdown",
   "metadata": {},
   "source": [
    "More outgoing traffic on Tuesday (??):"
   ]
  },
  {
   "cell_type": "code",
   "execution_count": 55,
   "metadata": {},
   "outputs": [
    {
     "data": {
      "text/html": [
       "<div>\n",
       "<style scoped>\n",
       "    .dataframe tbody tr th:only-of-type {\n",
       "        vertical-align: middle;\n",
       "    }\n",
       "\n",
       "    .dataframe tbody tr th {\n",
       "        vertical-align: top;\n",
       "    }\n",
       "\n",
       "    .dataframe thead th {\n",
       "        text-align: right;\n",
       "    }\n",
       "</style>\n",
       "<table border=\"1\" class=\"dataframe\">\n",
       "  <thead>\n",
       "    <tr style=\"text-align: right;\">\n",
       "      <th>startdayname</th>\n",
       "      <th>Monday</th>\n",
       "      <th>Tuesday</th>\n",
       "      <th>Wednesday</th>\n",
       "      <th>Thursday</th>\n",
       "      <th>Friday</th>\n",
       "      <th>Saturday</th>\n",
       "      <th>Sunday</th>\n",
       "    </tr>\n",
       "    <tr>\n",
       "      <th>Neighborhood Tabulation Area</th>\n",
       "      <th></th>\n",
       "      <th></th>\n",
       "      <th></th>\n",
       "      <th></th>\n",
       "      <th></th>\n",
       "      <th></th>\n",
       "      <th></th>\n",
       "    </tr>\n",
       "  </thead>\n",
       "  <tbody>\n",
       "    <tr>\n",
       "      <th>Hudson Yards-Chelsea-Flat Iron-Union Square</th>\n",
       "      <td>112</td>\n",
       "      <td>-852</td>\n",
       "      <td>-1145</td>\n",
       "      <td>-839</td>\n",
       "      <td>-1101</td>\n",
       "      <td>-2050</td>\n",
       "      <td>-860</td>\n",
       "    </tr>\n",
       "  </tbody>\n",
       "</table>\n",
       "</div>"
      ],
      "text/plain": [
       "startdayname                                 Monday  Tuesday  Wednesday  \\\n",
       "Neighborhood Tabulation Area                                              \n",
       "Hudson Yards-Chelsea-Flat Iron-Union Square     112     -852      -1145   \n",
       "\n",
       "startdayname                                 Thursday  Friday  Saturday  \\\n",
       "Neighborhood Tabulation Area                                              \n",
       "Hudson Yards-Chelsea-Flat Iron-Union Square      -839   -1101     -2050   \n",
       "\n",
       "startdayname                                 Sunday  \n",
       "Neighborhood Tabulation Area                         \n",
       "Hudson Yards-Chelsea-Flat Iron-Union Square    -860  "
      ]
     },
     "execution_count": 55,
     "metadata": {},
     "output_type": "execute_result"
    }
   ],
   "source": [
    "chelsea_outgoingt_day = outflow_nta_day_orig.loc[outflow_nta_day_orig.index == 'Hudson Yards-Chelsea-Flat Iron-Union Square']\n",
    "chelsea_outgoingt_day"
   ]
  },
  {
   "cell_type": "markdown",
   "metadata": {},
   "source": [
    "Unsurprisingly, more incoming traffic on Fridays and weekends:"
   ]
  },
  {
   "cell_type": "code",
   "execution_count": 56,
   "metadata": {},
   "outputs": [
    {
     "data": {
      "text/html": [
       "<div>\n",
       "<style scoped>\n",
       "    .dataframe tbody tr th:only-of-type {\n",
       "        vertical-align: middle;\n",
       "    }\n",
       "\n",
       "    .dataframe tbody tr th {\n",
       "        vertical-align: top;\n",
       "    }\n",
       "\n",
       "    .dataframe thead th {\n",
       "        text-align: right;\n",
       "    }\n",
       "</style>\n",
       "<table border=\"1\" class=\"dataframe\">\n",
       "  <thead>\n",
       "    <tr style=\"text-align: right;\">\n",
       "      <th>stopdayname</th>\n",
       "      <th>Monday</th>\n",
       "      <th>Tuesday</th>\n",
       "      <th>Wednesday</th>\n",
       "      <th>Thursday</th>\n",
       "      <th>Friday</th>\n",
       "      <th>Saturday</th>\n",
       "      <th>Sunday</th>\n",
       "    </tr>\n",
       "    <tr>\n",
       "      <th>Neighborhood Tabulation Area</th>\n",
       "      <th></th>\n",
       "      <th></th>\n",
       "      <th></th>\n",
       "      <th></th>\n",
       "      <th></th>\n",
       "      <th></th>\n",
       "      <th></th>\n",
       "    </tr>\n",
       "  </thead>\n",
       "  <tbody>\n",
       "    <tr>\n",
       "      <th>Hudson Yards-Chelsea-Flat Iron-Union Square</th>\n",
       "      <td>-112</td>\n",
       "      <td>852</td>\n",
       "      <td>1145</td>\n",
       "      <td>839</td>\n",
       "      <td>1101</td>\n",
       "      <td>2050</td>\n",
       "      <td>860</td>\n",
       "    </tr>\n",
       "  </tbody>\n",
       "</table>\n",
       "</div>"
      ],
      "text/plain": [
       "stopdayname                                  Monday  Tuesday  Wednesday  \\\n",
       "Neighborhood Tabulation Area                                              \n",
       "Hudson Yards-Chelsea-Flat Iron-Union Square    -112      852       1145   \n",
       "\n",
       "stopdayname                                  Thursday  Friday  Saturday  \\\n",
       "Neighborhood Tabulation Area                                              \n",
       "Hudson Yards-Chelsea-Flat Iron-Union Square       839    1101      2050   \n",
       "\n",
       "stopdayname                                  Sunday  \n",
       "Neighborhood Tabulation Area                         \n",
       "Hudson Yards-Chelsea-Flat Iron-Union Square     860  "
      ]
     },
     "execution_count": 56,
     "metadata": {},
     "output_type": "execute_result"
    }
   ],
   "source": [
    "chelsea_incomingt_day = inflow_nta_day_dest.loc[inflow_nta_day_dest.index == 'Hudson Yards-Chelsea-Flat Iron-Union Square']\n",
    "chelsea_incomingt_day"
   ]
  },
  {
   "cell_type": "markdown",
   "metadata": {},
   "source": [
    "More stats on Chelsea area:"
   ]
  },
  {
   "cell_type": "code",
   "execution_count": 57,
   "metadata": {},
   "outputs": [
    {
     "data": {
      "text/html": [
       "<div>\n",
       "<style scoped>\n",
       "    .dataframe tbody tr th:only-of-type {\n",
       "        vertical-align: middle;\n",
       "    }\n",
       "\n",
       "    .dataframe tbody tr th {\n",
       "        vertical-align: top;\n",
       "    }\n",
       "\n",
       "    .dataframe thead th {\n",
       "        text-align: right;\n",
       "    }\n",
       "</style>\n",
       "<table border=\"1\" class=\"dataframe\">\n",
       "  <thead>\n",
       "    <tr style=\"text-align: right;\">\n",
       "      <th>startdaytype</th>\n",
       "      <th>Weekday</th>\n",
       "      <th>Weekend</th>\n",
       "    </tr>\n",
       "    <tr>\n",
       "      <th>start_nta_name</th>\n",
       "      <th></th>\n",
       "      <th></th>\n",
       "    </tr>\n",
       "  </thead>\n",
       "  <tbody>\n",
       "    <tr>\n",
       "      <th>Hudson Yards-Chelsea-Flat Iron-Union Square</th>\n",
       "      <td>372,599</td>\n",
       "      <td>97,919</td>\n",
       "    </tr>\n",
       "  </tbody>\n",
       "</table>\n",
       "</div>"
      ],
      "text/plain": [
       "startdaytype                                 Weekday Weekend\n",
       "start_nta_name                                              \n",
       "Hudson Yards-Chelsea-Flat Iron-Union Square  372,599  97,919"
      ]
     },
     "execution_count": 57,
     "metadata": {},
     "output_type": "execute_result"
    }
   ],
   "source": [
    "count_nb_startdaytype = cbacs.pivot_table('bikeid', index='start_nta_name', columns='startdaytype', aggfunc='count', fill_value=0)\n",
    "count_nb_startdaytype = count_nb_startdaytype.applymap('{0:,.0f}'.format)\n",
    "count_nb_startdaytype.loc[count_nb_startdaytype.index == 'Hudson Yards-Chelsea-Flat Iron-Union Square']"
   ]
  },
  {
   "cell_type": "code",
   "execution_count": 58,
   "metadata": {},
   "outputs": [
    {
     "data": {
      "text/html": [
       "<div>\n",
       "<style scoped>\n",
       "    .dataframe tbody tr th:only-of-type {\n",
       "        vertical-align: middle;\n",
       "    }\n",
       "\n",
       "    .dataframe tbody tr th {\n",
       "        vertical-align: top;\n",
       "    }\n",
       "\n",
       "    .dataframe thead th {\n",
       "        text-align: right;\n",
       "    }\n",
       "</style>\n",
       "<table border=\"1\" class=\"dataframe\">\n",
       "  <thead>\n",
       "    <tr style=\"text-align: right;\">\n",
       "      <th>enddaytype</th>\n",
       "      <th>Weekday</th>\n",
       "      <th>Weekend</th>\n",
       "    </tr>\n",
       "    <tr>\n",
       "      <th>end_nta_name</th>\n",
       "      <th></th>\n",
       "      <th></th>\n",
       "    </tr>\n",
       "  </thead>\n",
       "  <tbody>\n",
       "    <tr>\n",
       "      <th>Hudson Yards-Chelsea-Flat Iron-Union Square</th>\n",
       "      <td>376,517</td>\n",
       "      <td>100,736</td>\n",
       "    </tr>\n",
       "  </tbody>\n",
       "</table>\n",
       "</div>"
      ],
      "text/plain": [
       "enddaytype                                   Weekday  Weekend\n",
       "end_nta_name                                                 \n",
       "Hudson Yards-Chelsea-Flat Iron-Union Square  376,517  100,736"
      ]
     },
     "execution_count": 58,
     "metadata": {},
     "output_type": "execute_result"
    }
   ],
   "source": [
    "count_nb_enddaytype = cbacs.pivot_table('bikeid', index='end_nta_name', columns='enddaytype', aggfunc='count', fill_value=0)\n",
    "count_nb_enddaytype = count_nb_enddaytype.applymap('{0:,.0f}'.format)\n",
    "count_nb_enddaytype.loc[count_nb_enddaytype.index == 'Hudson Yards-Chelsea-Flat Iron-Union Square']"
   ]
  },
  {
   "cell_type": "markdown",
   "metadata": {},
   "source": [
    "Outflow by demographics:"
   ]
  },
  {
   "cell_type": "code",
   "execution_count": 59,
   "metadata": {},
   "outputs": [],
   "source": [
    "outflow_hood = cbacs.pivot_table('bikeid', index='start_nta_name', columns='startdaytype', aggfunc='count', fill_value = 0)\n",
    "inflow_hood = cbacs.pivot_table('bikeid', index='end_nta_name', columns='enddaytype', aggfunc='count', fill_value = 0)\n",
    "\n",
    "# Origin\n",
    "net_outflow_day = outflow_hood - inflow_hood\n",
    "net_outflow_day.columns.names = ['Day Type']\n",
    "net_outflow_day.index.names = ['NTA']\n",
    "\n",
    "# Destination\n",
    "net_inflow_day = inflow_hood - outflow_hood\n",
    "net_inflow_day.columns.names = ['Day Type']\n",
    "net_inflow_day.index.names = ['NTA']"
   ]
  },
  {
   "cell_type": "code",
   "execution_count": 60,
   "metadata": {},
   "outputs": [
    {
     "data": {
      "text/html": [
       "<div>\n",
       "<style scoped>\n",
       "    .dataframe tbody tr th:only-of-type {\n",
       "        vertical-align: middle;\n",
       "    }\n",
       "\n",
       "    .dataframe tbody tr th {\n",
       "        vertical-align: top;\n",
       "    }\n",
       "\n",
       "    .dataframe thead th {\n",
       "        text-align: right;\n",
       "    }\n",
       "</style>\n",
       "<table border=\"1\" class=\"dataframe\">\n",
       "  <thead>\n",
       "    <tr style=\"text-align: right;\">\n",
       "      <th>Day Type</th>\n",
       "      <th>Weekday</th>\n",
       "      <th>Weekend</th>\n",
       "    </tr>\n",
       "    <tr>\n",
       "      <th>NTA</th>\n",
       "      <th></th>\n",
       "      <th></th>\n",
       "    </tr>\n",
       "  </thead>\n",
       "  <tbody>\n",
       "    <tr>\n",
       "      <th>Hudson Yards-Chelsea-Flat Iron-Union Square</th>\n",
       "      <td>-3918</td>\n",
       "      <td>-2817</td>\n",
       "    </tr>\n",
       "  </tbody>\n",
       "</table>\n",
       "</div>"
      ],
      "text/plain": [
       "Day Type                                     Weekday  Weekend\n",
       "NTA                                                          \n",
       "Hudson Yards-Chelsea-Flat Iron-Union Square    -3918    -2817"
      ]
     },
     "execution_count": 60,
     "metadata": {},
     "output_type": "execute_result"
    }
   ],
   "source": [
    "net_outflow_day.loc[net_outflow_day.index == 'Hudson Yards-Chelsea-Flat Iron-Union Square']"
   ]
  },
  {
   "cell_type": "code",
   "execution_count": 61,
   "metadata": {},
   "outputs": [],
   "source": [
    "outflow_gender = cbacs.pivot_table('bikeid', index='start_nta_name', columns='gender', aggfunc='count', fill_value = 0)\n",
    "inflow_gender = cbacs.pivot_table('bikeid', index='end_nta_name',  columns='gender', aggfunc='count', fill_value = 0)\n",
    "\n",
    "# Origin\n",
    "net_outflow_gender = outflow_gender - inflow_gender\n",
    "net_outflow_gender.columns = ['Unknown','Male','Female']\n",
    "net_outflow_gender.drop(columns=['Unknown'], inplace=True)\n",
    "net_outflow_gender.index.names = ['NTA']\n",
    "\n",
    "# Destination\n",
    "net_inflow_gender = inflow_gender - outflow_gender\n",
    "net_inflow_gender.columns = ['Unknown','Male','Female']\n",
    "net_inflow_gender.drop(columns=['Unknown'], inplace=True)\n",
    "net_inflow_gender.index.names = ['NTA']"
   ]
  },
  {
   "cell_type": "code",
   "execution_count": 62,
   "metadata": {},
   "outputs": [
    {
     "data": {
      "text/html": [
       "<div>\n",
       "<style scoped>\n",
       "    .dataframe tbody tr th:only-of-type {\n",
       "        vertical-align: middle;\n",
       "    }\n",
       "\n",
       "    .dataframe tbody tr th {\n",
       "        vertical-align: top;\n",
       "    }\n",
       "\n",
       "    .dataframe thead th {\n",
       "        text-align: right;\n",
       "    }\n",
       "</style>\n",
       "<table border=\"1\" class=\"dataframe\">\n",
       "  <thead>\n",
       "    <tr style=\"text-align: right;\">\n",
       "      <th></th>\n",
       "      <th>Male</th>\n",
       "      <th>Female</th>\n",
       "    </tr>\n",
       "    <tr>\n",
       "      <th>NTA</th>\n",
       "      <th></th>\n",
       "      <th></th>\n",
       "    </tr>\n",
       "  </thead>\n",
       "  <tbody>\n",
       "    <tr>\n",
       "      <th>Hudson Yards-Chelsea-Flat Iron-Union Square</th>\n",
       "      <td>-2868</td>\n",
       "      <td>-3612</td>\n",
       "    </tr>\n",
       "  </tbody>\n",
       "</table>\n",
       "</div>"
      ],
      "text/plain": [
       "                                             Male  Female\n",
       "NTA                                                      \n",
       "Hudson Yards-Chelsea-Flat Iron-Union Square -2868   -3612"
      ]
     },
     "execution_count": 62,
     "metadata": {},
     "output_type": "execute_result"
    }
   ],
   "source": [
    "net_outflow_gender.loc[net_outflow_gender.index == 'Hudson Yards-Chelsea-Flat Iron-Union Square']"
   ]
  },
  {
   "cell_type": "code",
   "execution_count": 63,
   "metadata": {},
   "outputs": [],
   "source": [
    "outflow_age = cbacs.pivot_table('bikeid', index='start_nta_name', columns='age_group', aggfunc='count', fill_value = 0)\n",
    "inflow_age = cbacs.pivot_table('bikeid', index='end_nta_name',  columns='age_group', aggfunc='count', fill_value = 0)\n",
    "\n",
    "net_inflow_age = inflow_age - outflow_age\n",
    "net_inflow_age.index.names = ['NTA']\n",
    "\n",
    "net_outflow_age = outflow_age - inflow_age\n",
    "net_outflow_age.index.names = ['NTA']"
   ]
  },
  {
   "cell_type": "code",
   "execution_count": 64,
   "metadata": {},
   "outputs": [
    {
     "data": {
      "text/html": [
       "<div>\n",
       "<style scoped>\n",
       "    .dataframe tbody tr th:only-of-type {\n",
       "        vertical-align: middle;\n",
       "    }\n",
       "\n",
       "    .dataframe tbody tr th {\n",
       "        vertical-align: top;\n",
       "    }\n",
       "\n",
       "    .dataframe thead th {\n",
       "        text-align: right;\n",
       "    }\n",
       "</style>\n",
       "<table border=\"1\" class=\"dataframe\">\n",
       "  <thead>\n",
       "    <tr style=\"text-align: right;\">\n",
       "      <th>age_group</th>\n",
       "      <th>20s</th>\n",
       "      <th>30s</th>\n",
       "      <th>40s</th>\n",
       "      <th>50s</th>\n",
       "      <th>60s+</th>\n",
       "      <th>Teens (16-19)</th>\n",
       "    </tr>\n",
       "    <tr>\n",
       "      <th>NTA</th>\n",
       "      <th></th>\n",
       "      <th></th>\n",
       "      <th></th>\n",
       "      <th></th>\n",
       "      <th></th>\n",
       "      <th></th>\n",
       "    </tr>\n",
       "  </thead>\n",
       "  <tbody>\n",
       "    <tr>\n",
       "      <th>Hudson Yards-Chelsea-Flat Iron-Union Square</th>\n",
       "      <td>-3446</td>\n",
       "      <td>-2632</td>\n",
       "      <td>-591</td>\n",
       "      <td>-207</td>\n",
       "      <td>122</td>\n",
       "      <td>19</td>\n",
       "    </tr>\n",
       "  </tbody>\n",
       "</table>\n",
       "</div>"
      ],
      "text/plain": [
       "age_group                                     20s   30s  40s  50s  60s+  \\\n",
       "NTA                                                                       \n",
       "Hudson Yards-Chelsea-Flat Iron-Union Square -3446 -2632 -591 -207   122   \n",
       "\n",
       "age_group                                    Teens (16-19)  \n",
       "NTA                                                         \n",
       "Hudson Yards-Chelsea-Flat Iron-Union Square             19  "
      ]
     },
     "execution_count": 64,
     "metadata": {},
     "output_type": "execute_result"
    }
   ],
   "source": [
    "net_outflow_age.loc[net_outflow_age.index == 'Hudson Yards-Chelsea-Flat Iron-Union Square']"
   ]
  },
  {
   "cell_type": "code",
   "execution_count": 65,
   "metadata": {},
   "outputs": [],
   "source": [
    "outflow_user = cbacs.pivot_table('bikeid', index='start_nta_name', columns='usertype', aggfunc='count', fill_value = 0)\n",
    "inflow_user = cbacs.pivot_table('bikeid', index='end_nta_name',  columns='usertype', aggfunc='count', fill_value = 0)\n",
    "\n",
    "# Origin\n",
    "net_outflow_user = outflow_user - inflow_user\n",
    "net_outflow_user.drop(columns=['Unknown'], inplace=True)\n",
    "net_outflow_user.index.names = ['NTA']\n",
    "\n",
    "# Destination\n",
    "net_inflow_user = inflow_user - outflow_user\n",
    "net_inflow_user.drop(columns=['Unknown'], inplace=True)\n",
    "net_inflow_user.index.names = ['NTA']"
   ]
  },
  {
   "cell_type": "code",
   "execution_count": 66,
   "metadata": {},
   "outputs": [
    {
     "data": {
      "text/html": [
       "<div>\n",
       "<style scoped>\n",
       "    .dataframe tbody tr th:only-of-type {\n",
       "        vertical-align: middle;\n",
       "    }\n",
       "\n",
       "    .dataframe tbody tr th {\n",
       "        vertical-align: top;\n",
       "    }\n",
       "\n",
       "    .dataframe thead th {\n",
       "        text-align: right;\n",
       "    }\n",
       "</style>\n",
       "<table border=\"1\" class=\"dataframe\">\n",
       "  <thead>\n",
       "    <tr style=\"text-align: right;\">\n",
       "      <th>usertype</th>\n",
       "      <th>Customer</th>\n",
       "      <th>Subscriber</th>\n",
       "    </tr>\n",
       "    <tr>\n",
       "      <th>NTA</th>\n",
       "      <th></th>\n",
       "      <th></th>\n",
       "    </tr>\n",
       "  </thead>\n",
       "  <tbody>\n",
       "    <tr>\n",
       "      <th>Hudson Yards-Chelsea-Flat Iron-Union Square</th>\n",
       "      <td>-100</td>\n",
       "      <td>-6654</td>\n",
       "    </tr>\n",
       "  </tbody>\n",
       "</table>\n",
       "</div>"
      ],
      "text/plain": [
       "usertype                                     Customer  Subscriber\n",
       "NTA                                                              \n",
       "Hudson Yards-Chelsea-Flat Iron-Union Square      -100       -6654"
      ]
     },
     "execution_count": 66,
     "metadata": {},
     "output_type": "execute_result"
    }
   ],
   "source": [
    "net_outflow_user[net_outflow_user.index == 'Hudson Yards-Chelsea-Flat Iron-Union Square']"
   ]
  },
  {
   "cell_type": "markdown",
   "metadata": {},
   "source": [
    "Inflow by demographics:"
   ]
  },
  {
   "cell_type": "code",
   "execution_count": 67,
   "metadata": {},
   "outputs": [
    {
     "data": {
      "text/html": [
       "<div>\n",
       "<style scoped>\n",
       "    .dataframe tbody tr th:only-of-type {\n",
       "        vertical-align: middle;\n",
       "    }\n",
       "\n",
       "    .dataframe tbody tr th {\n",
       "        vertical-align: top;\n",
       "    }\n",
       "\n",
       "    .dataframe thead th {\n",
       "        text-align: right;\n",
       "    }\n",
       "</style>\n",
       "<table border=\"1\" class=\"dataframe\">\n",
       "  <thead>\n",
       "    <tr style=\"text-align: right;\">\n",
       "      <th>Day Type</th>\n",
       "      <th>Weekday</th>\n",
       "      <th>Weekend</th>\n",
       "    </tr>\n",
       "    <tr>\n",
       "      <th>NTA</th>\n",
       "      <th></th>\n",
       "      <th></th>\n",
       "    </tr>\n",
       "  </thead>\n",
       "  <tbody>\n",
       "    <tr>\n",
       "      <th>Hudson Yards-Chelsea-Flat Iron-Union Square</th>\n",
       "      <td>3918</td>\n",
       "      <td>2817</td>\n",
       "    </tr>\n",
       "  </tbody>\n",
       "</table>\n",
       "</div>"
      ],
      "text/plain": [
       "Day Type                                     Weekday  Weekend\n",
       "NTA                                                          \n",
       "Hudson Yards-Chelsea-Flat Iron-Union Square     3918     2817"
      ]
     },
     "execution_count": 67,
     "metadata": {},
     "output_type": "execute_result"
    }
   ],
   "source": [
    "net_inflow_day.loc[net_inflow_day.index == 'Hudson Yards-Chelsea-Flat Iron-Union Square']"
   ]
  },
  {
   "cell_type": "code",
   "execution_count": 68,
   "metadata": {},
   "outputs": [
    {
     "data": {
      "text/html": [
       "<div>\n",
       "<style scoped>\n",
       "    .dataframe tbody tr th:only-of-type {\n",
       "        vertical-align: middle;\n",
       "    }\n",
       "\n",
       "    .dataframe tbody tr th {\n",
       "        vertical-align: top;\n",
       "    }\n",
       "\n",
       "    .dataframe thead th {\n",
       "        text-align: right;\n",
       "    }\n",
       "</style>\n",
       "<table border=\"1\" class=\"dataframe\">\n",
       "  <thead>\n",
       "    <tr style=\"text-align: right;\">\n",
       "      <th></th>\n",
       "      <th>Male</th>\n",
       "      <th>Female</th>\n",
       "    </tr>\n",
       "    <tr>\n",
       "      <th>NTA</th>\n",
       "      <th></th>\n",
       "      <th></th>\n",
       "    </tr>\n",
       "  </thead>\n",
       "  <tbody>\n",
       "    <tr>\n",
       "      <th>Hudson Yards-Chelsea-Flat Iron-Union Square</th>\n",
       "      <td>2868</td>\n",
       "      <td>3612</td>\n",
       "    </tr>\n",
       "  </tbody>\n",
       "</table>\n",
       "</div>"
      ],
      "text/plain": [
       "                                             Male  Female\n",
       "NTA                                                      \n",
       "Hudson Yards-Chelsea-Flat Iron-Union Square  2868    3612"
      ]
     },
     "execution_count": 68,
     "metadata": {},
     "output_type": "execute_result"
    }
   ],
   "source": [
    "net_inflow_gender.loc[net_inflow_gender.index == 'Hudson Yards-Chelsea-Flat Iron-Union Square']"
   ]
  },
  {
   "cell_type": "code",
   "execution_count": 69,
   "metadata": {},
   "outputs": [
    {
     "data": {
      "text/html": [
       "<div>\n",
       "<style scoped>\n",
       "    .dataframe tbody tr th:only-of-type {\n",
       "        vertical-align: middle;\n",
       "    }\n",
       "\n",
       "    .dataframe tbody tr th {\n",
       "        vertical-align: top;\n",
       "    }\n",
       "\n",
       "    .dataframe thead th {\n",
       "        text-align: right;\n",
       "    }\n",
       "</style>\n",
       "<table border=\"1\" class=\"dataframe\">\n",
       "  <thead>\n",
       "    <tr style=\"text-align: right;\">\n",
       "      <th>age_group</th>\n",
       "      <th>20s</th>\n",
       "      <th>30s</th>\n",
       "      <th>40s</th>\n",
       "      <th>50s</th>\n",
       "      <th>60s+</th>\n",
       "      <th>Teens (16-19)</th>\n",
       "    </tr>\n",
       "    <tr>\n",
       "      <th>NTA</th>\n",
       "      <th></th>\n",
       "      <th></th>\n",
       "      <th></th>\n",
       "      <th></th>\n",
       "      <th></th>\n",
       "      <th></th>\n",
       "    </tr>\n",
       "  </thead>\n",
       "  <tbody>\n",
       "    <tr>\n",
       "      <th>Hudson Yards-Chelsea-Flat Iron-Union Square</th>\n",
       "      <td>3446</td>\n",
       "      <td>2632</td>\n",
       "      <td>591</td>\n",
       "      <td>207</td>\n",
       "      <td>-122</td>\n",
       "      <td>-19</td>\n",
       "    </tr>\n",
       "  </tbody>\n",
       "</table>\n",
       "</div>"
      ],
      "text/plain": [
       "age_group                                     20s   30s  40s  50s  60s+  \\\n",
       "NTA                                                                       \n",
       "Hudson Yards-Chelsea-Flat Iron-Union Square  3446  2632  591  207  -122   \n",
       "\n",
       "age_group                                    Teens (16-19)  \n",
       "NTA                                                         \n",
       "Hudson Yards-Chelsea-Flat Iron-Union Square            -19  "
      ]
     },
     "execution_count": 69,
     "metadata": {},
     "output_type": "execute_result"
    }
   ],
   "source": [
    "net_inflow_age.loc[net_inflow_age.index == 'Hudson Yards-Chelsea-Flat Iron-Union Square']"
   ]
  },
  {
   "cell_type": "code",
   "execution_count": 70,
   "metadata": {},
   "outputs": [
    {
     "data": {
      "text/html": [
       "<div>\n",
       "<style scoped>\n",
       "    .dataframe tbody tr th:only-of-type {\n",
       "        vertical-align: middle;\n",
       "    }\n",
       "\n",
       "    .dataframe tbody tr th {\n",
       "        vertical-align: top;\n",
       "    }\n",
       "\n",
       "    .dataframe thead th {\n",
       "        text-align: right;\n",
       "    }\n",
       "</style>\n",
       "<table border=\"1\" class=\"dataframe\">\n",
       "  <thead>\n",
       "    <tr style=\"text-align: right;\">\n",
       "      <th>usertype</th>\n",
       "      <th>Customer</th>\n",
       "      <th>Subscriber</th>\n",
       "    </tr>\n",
       "    <tr>\n",
       "      <th>NTA</th>\n",
       "      <th></th>\n",
       "      <th></th>\n",
       "    </tr>\n",
       "  </thead>\n",
       "  <tbody>\n",
       "    <tr>\n",
       "      <th>Hudson Yards-Chelsea-Flat Iron-Union Square</th>\n",
       "      <td>100</td>\n",
       "      <td>6654</td>\n",
       "    </tr>\n",
       "  </tbody>\n",
       "</table>\n",
       "</div>"
      ],
      "text/plain": [
       "usertype                                     Customer  Subscriber\n",
       "NTA                                                              \n",
       "Hudson Yards-Chelsea-Flat Iron-Union Square       100        6654"
      ]
     },
     "execution_count": 70,
     "metadata": {},
     "output_type": "execute_result"
    }
   ],
   "source": [
    "net_inflow_user[net_inflow_user.index == 'Hudson Yards-Chelsea-Flat Iron-Union Square']"
   ]
  },
  {
   "cell_type": "markdown",
   "metadata": {},
   "source": [
    "#### Neighborhood Tabulation Area American Community Survey Stats: Economy"
   ]
  },
  {
   "cell_type": "markdown",
   "metadata": {},
   "source": [
    "NTA economic stats:"
   ]
  },
  {
   "cell_type": "code",
   "execution_count": 71,
   "metadata": {},
   "outputs": [],
   "source": [
    "nta_stats_employ = cbacs.drop_duplicates(subset='start_nta_code')[['start_nta_name','start_civilian_labor_force','start_employed','start_unemployed']]\n",
    "nta_stats_commute = cbacs.drop_duplicates(subset='start_nta_code')[['start_nta_name','start_workers_16+','start_vehicle','start_carpool',\n",
    "                               'start_public_transit','start_walking','start_other_commuting_means',\n",
    "                               'start_work_at_home']]\n",
    "nta_stats_sector = cbacs.drop_duplicates(subset='start_nta_code')[['start_nta_name','start_occ_civilian_employed_16+','start_mng_biz_sci_arts',\n",
    "                              'start_service','start_sales_office','start_natres_construct_maint',\n",
    "                              'start_prod_transport_moving']]\n",
    "nta_stats_typework = cbacs.drop_duplicates(subset='start_nta_code')[['start_nta_name','start_class_civilian_employed_16+','start_salary_workers',\n",
    "                                'start_govt_workers','start_self-employed','start_unpaid_family_workers']]\n",
    "nta_stats_income_brac = cbacs.drop_duplicates(subset='start_nta_code')[['start_nta_name', 'start_total_households','start_hincome_10K_under',\n",
    "                                   'start_hincome_10K_15K','start_hincome_15K_25K','start_hincome_25K_35K','start_hincome_35K_50K','start_hincome_50K_75K','start_hincome_75K_100K',\n",
    "                                       'start_hincome_100K_150K','start_hincome_150K_200K','start_hincome_200K_more',]]\n",
    "nta_stats_income = cbacs.drop_duplicates(subset='start_nta_code')[['start_nta_name','start_mean_hincome','start_all_families',\n",
    "                              'start_all_families_below_poverty']]\n",
    "nta_stats_income_brac = cbacs.drop_duplicates(subset='start_nta_code')[['start_nta_name', 'start_total_households','start_hincome_10K_under',\n",
    "                                   'start_hincome_10K_15K','start_hincome_15K_25K','start_hincome_25K_35K',\n",
    "                                   'start_hincome_35K_50K','start_hincome_50K_75K','start_hincome_75K_100K',\n",
    "                                   'start_hincome_100K_150K','start_hincome_150K_200K','start_hincome_200K_more']]"
   ]
  },
  {
   "cell_type": "code",
   "execution_count": 72,
   "metadata": {},
   "outputs": [],
   "source": [
    "nta_stats_employ['perc_employed'] = nta_stats_employ['start_employed']/nta_stats_employ['start_civilian_labor_force']\n",
    "nta_stats_employ['perc_unemployed'] = nta_stats_employ['start_unemployed']/nta_stats_employ['start_civilian_labor_force']\n",
    "\n",
    "nta_stats_commute['perc_car_van_truck'] = nta_stats_commute['start_vehicle']/nta_stats_commute['start_workers_16+']\n",
    "nta_stats_commute['perc_carpool'] = nta_stats_commute['start_carpool']/nta_stats_commute['start_workers_16+']\n",
    "nta_stats_commute['perc_public_transit'] = nta_stats_commute['start_public_transit']/nta_stats_commute['start_workers_16+']\n",
    "nta_stats_commute['perc_walking'] = nta_stats_commute['start_walking']/nta_stats_commute['start_workers_16+']\n",
    "nta_stats_commute['perc_other_commuting_means'] = nta_stats_commute['start_other_commuting_means']/nta_stats_commute['start_workers_16+']\n",
    "nta_stats_commute['perc_work_at_home'] = nta_stats_commute['start_work_at_home']/nta_stats_commute['start_workers_16+']\n",
    "\n",
    "nta_stats_sector['perc_mng_biz_sci_arts'] = nta_stats_sector['start_mng_biz_sci_arts']/nta_stats_sector['start_occ_civilian_employed_16+']\n",
    "nta_stats_sector['perc_service'] = nta_stats_sector['start_service']/nta_stats_sector['start_occ_civilian_employed_16+']\n",
    "nta_stats_sector['perc_sales_office'] = nta_stats_sector['start_sales_office']/nta_stats_sector['start_occ_civilian_employed_16+']\n",
    "nta_stats_sector['perc_natres_construct_maint'] = nta_stats_sector['start_natres_construct_maint']/nta_stats_sector['start_occ_civilian_employed_16+']\n",
    "nta_stats_sector['perc_prod_transport_moving'] = nta_stats_sector['start_prod_transport_moving']/nta_stats_sector['start_occ_civilian_employed_16+']\n",
    "\n",
    "nta_stats_typework['perc_salary_workers'] = nta_stats_typework['start_salary_workers']/nta_stats_typework['start_class_civilian_employed_16+']\n",
    "nta_stats_typework['perc_govt_workers'] = nta_stats_typework['start_govt_workers']/nta_stats_typework['start_class_civilian_employed_16+']\n",
    "nta_stats_typework['perc_self-employed'] = nta_stats_typework['start_self-employed']/nta_stats_typework['start_class_civilian_employed_16+']\n",
    "nta_stats_typework['perc_unpaid_family_workers'] = nta_stats_typework['start_unpaid_family_workers']/nta_stats_typework['start_class_civilian_employed_16+']\n",
    "\n",
    "nta_stats_income['perc_families_below_poverty'] = nta_stats_income['start_all_families']/nta_stats_income['start_all_families_below_poverty']\n",
    "\n",
    "nta_stats_income_brac['perc_hincome_10K_under'] = nta_stats_income_brac['start_hincome_10K_under']/nta_stats_income_brac['start_total_households']\n",
    "nta_stats_income_brac['perc_hincome_10K_15K'] = nta_stats_income_brac['start_hincome_10K_15K']/nta_stats_income_brac['start_total_households']\n",
    "nta_stats_income_brac['perc_hincome_15K_25K'] = nta_stats_income_brac['start_hincome_15K_25K']/nta_stats_income_brac['start_total_households']\n",
    "nta_stats_income_brac['perc_hincome_25K_35K'] = nta_stats_income_brac['start_hincome_25K_35K']/nta_stats_income_brac['start_total_households']\n",
    "nta_stats_income_brac['perc_hincome_35K_50K'] = nta_stats_income_brac['start_hincome_35K_50K']/nta_stats_income_brac['start_total_households']\n",
    "nta_stats_income_brac['perc_hincome_50K_75K'] = nta_stats_income_brac['start_hincome_50K_75K']/nta_stats_income_brac['start_total_households']\n",
    "nta_stats_income_brac['perc_hincome_75K_100K'] = nta_stats_income_brac['start_hincome_75K_100K']/nta_stats_income_brac['start_total_households']\n",
    "nta_stats_income_brac['perc_hincome_100K_150K'] = nta_stats_income_brac['start_hincome_100K_150K']/nta_stats_income_brac['start_total_households']\n",
    "nta_stats_income_brac['perc_hincome_150K_200K'] = nta_stats_income_brac['start_hincome_150K_200K']/nta_stats_income_brac['start_total_households']\n",
    "nta_stats_income_brac['perc_hincome_200K_more'] = nta_stats_income_brac['start_hincome_200K_more']/nta_stats_income_brac['start_total_households']"
   ]
  },
  {
   "cell_type": "markdown",
   "metadata": {},
   "source": [
    "Economic stats for Hudson Yards-Chelsea-Flat Iron-Union Square:"
   ]
  },
  {
   "cell_type": "code",
   "execution_count": 73,
   "metadata": {},
   "outputs": [
    {
     "data": {
      "text/html": [
       "<div>\n",
       "<style scoped>\n",
       "    .dataframe tbody tr th:only-of-type {\n",
       "        vertical-align: middle;\n",
       "    }\n",
       "\n",
       "    .dataframe tbody tr th {\n",
       "        vertical-align: top;\n",
       "    }\n",
       "\n",
       "    .dataframe thead th {\n",
       "        text-align: right;\n",
       "    }\n",
       "</style>\n",
       "<table border=\"1\" class=\"dataframe\">\n",
       "  <thead>\n",
       "    <tr style=\"text-align: right;\">\n",
       "      <th></th>\n",
       "      <th>start_nta_name</th>\n",
       "      <th>perc_employed</th>\n",
       "      <th>perc_unemployed</th>\n",
       "    </tr>\n",
       "  </thead>\n",
       "  <tbody>\n",
       "    <tr>\n",
       "      <th>44</th>\n",
       "      <td>Hudson Yards-Chelsea-Flat Iron-Union Square</td>\n",
       "      <td>0.958</td>\n",
       "      <td>0.042</td>\n",
       "    </tr>\n",
       "  </tbody>\n",
       "</table>\n",
       "</div>"
      ],
      "text/plain": [
       "                                 start_nta_name  perc_employed  \\\n",
       "44  Hudson Yards-Chelsea-Flat Iron-Union Square          0.958   \n",
       "\n",
       "    perc_unemployed  \n",
       "44            0.042  "
      ]
     },
     "execution_count": 73,
     "metadata": {},
     "output_type": "execute_result"
    }
   ],
   "source": [
    "chelsea_stats_employ = nta_stats_employ.loc[nta_stats_employ['start_nta_name'] == 'Hudson Yards-Chelsea-Flat Iron-Union Square']\n",
    "chelsea_stats_employ_df = chelsea_stats_employ[['start_nta_name','perc_employed','perc_unemployed']]\n",
    "chelsea_stats_employ_df"
   ]
  },
  {
   "cell_type": "code",
   "execution_count": 74,
   "metadata": {},
   "outputs": [
    {
     "data": {
      "text/html": [
       "<div>\n",
       "<style scoped>\n",
       "    .dataframe tbody tr th:only-of-type {\n",
       "        vertical-align: middle;\n",
       "    }\n",
       "\n",
       "    .dataframe tbody tr th {\n",
       "        vertical-align: top;\n",
       "    }\n",
       "\n",
       "    .dataframe thead th {\n",
       "        text-align: right;\n",
       "    }\n",
       "</style>\n",
       "<table border=\"1\" class=\"dataframe\">\n",
       "  <thead>\n",
       "    <tr style=\"text-align: right;\">\n",
       "      <th></th>\n",
       "      <th>start_nta_name</th>\n",
       "      <th>perc_car_van_truck</th>\n",
       "      <th>perc_carpool</th>\n",
       "      <th>perc_public_transit</th>\n",
       "      <th>perc_walking</th>\n",
       "      <th>perc_other_commuting_means</th>\n",
       "      <th>perc_work_at_home</th>\n",
       "    </tr>\n",
       "  </thead>\n",
       "  <tbody>\n",
       "    <tr>\n",
       "      <th>44</th>\n",
       "      <td>Hudson Yards-Chelsea-Flat Iron-Union Square</td>\n",
       "      <td>0.046674</td>\n",
       "      <td>0.010337</td>\n",
       "      <td>0.531328</td>\n",
       "      <td>0.28432</td>\n",
       "      <td>0.07025</td>\n",
       "      <td>0.057091</td>\n",
       "    </tr>\n",
       "  </tbody>\n",
       "</table>\n",
       "</div>"
      ],
      "text/plain": [
       "                                 start_nta_name  perc_car_van_truck  \\\n",
       "44  Hudson Yards-Chelsea-Flat Iron-Union Square            0.046674   \n",
       "\n",
       "    perc_carpool  perc_public_transit  perc_walking  \\\n",
       "44      0.010337             0.531328       0.28432   \n",
       "\n",
       "    perc_other_commuting_means  perc_work_at_home  \n",
       "44                     0.07025           0.057091  "
      ]
     },
     "execution_count": 74,
     "metadata": {},
     "output_type": "execute_result"
    }
   ],
   "source": [
    "chelsea_stats_commute = nta_stats_commute.loc[nta_stats_commute['start_nta_name'] == 'Hudson Yards-Chelsea-Flat Iron-Union Square']\n",
    "chelsea_stats_commute_df = chelsea_stats_commute[['start_nta_name','perc_car_van_truck','perc_carpool','perc_public_transit','perc_walking',\n",
    "                                                  'perc_other_commuting_means','perc_work_at_home']]\n",
    "chelsea_stats_commute_df "
   ]
  },
  {
   "cell_type": "code",
   "execution_count": 75,
   "metadata": {},
   "outputs": [
    {
     "data": {
      "text/html": [
       "<div>\n",
       "<style scoped>\n",
       "    .dataframe tbody tr th:only-of-type {\n",
       "        vertical-align: middle;\n",
       "    }\n",
       "\n",
       "    .dataframe tbody tr th {\n",
       "        vertical-align: top;\n",
       "    }\n",
       "\n",
       "    .dataframe thead th {\n",
       "        text-align: right;\n",
       "    }\n",
       "</style>\n",
       "<table border=\"1\" class=\"dataframe\">\n",
       "  <thead>\n",
       "    <tr style=\"text-align: right;\">\n",
       "      <th></th>\n",
       "      <th>start_nta_name</th>\n",
       "      <th>perc_mng_biz_sci_arts</th>\n",
       "      <th>perc_service</th>\n",
       "      <th>perc_sales_office</th>\n",
       "      <th>perc_natres_construct_maint</th>\n",
       "      <th>perc_prod_transport_moving</th>\n",
       "    </tr>\n",
       "  </thead>\n",
       "  <tbody>\n",
       "    <tr>\n",
       "      <th>44</th>\n",
       "      <td>Hudson Yards-Chelsea-Flat Iron-Union Square</td>\n",
       "      <td>0.680424</td>\n",
       "      <td>0.085506</td>\n",
       "      <td>0.204051</td>\n",
       "      <td>0.006412</td>\n",
       "      <td>0.023607</td>\n",
       "    </tr>\n",
       "  </tbody>\n",
       "</table>\n",
       "</div>"
      ],
      "text/plain": [
       "                                 start_nta_name  perc_mng_biz_sci_arts  \\\n",
       "44  Hudson Yards-Chelsea-Flat Iron-Union Square               0.680424   \n",
       "\n",
       "    perc_service  perc_sales_office  perc_natres_construct_maint  \\\n",
       "44      0.085506           0.204051                     0.006412   \n",
       "\n",
       "    perc_prod_transport_moving  \n",
       "44                    0.023607  "
      ]
     },
     "execution_count": 75,
     "metadata": {},
     "output_type": "execute_result"
    }
   ],
   "source": [
    "chelsea_stats_sector = nta_stats_sector.loc[nta_stats_sector['start_nta_name'] == 'Hudson Yards-Chelsea-Flat Iron-Union Square']\n",
    "chelsea_stats_sector_df = chelsea_stats_sector[['start_nta_name','perc_mng_biz_sci_arts','perc_service','perc_sales_office',\n",
    "                                                'perc_natres_construct_maint','perc_prod_transport_moving']]\n",
    "chelsea_stats_sector_df"
   ]
  },
  {
   "cell_type": "code",
   "execution_count": 76,
   "metadata": {},
   "outputs": [
    {
     "data": {
      "text/html": [
       "<div>\n",
       "<style scoped>\n",
       "    .dataframe tbody tr th:only-of-type {\n",
       "        vertical-align: middle;\n",
       "    }\n",
       "\n",
       "    .dataframe tbody tr th {\n",
       "        vertical-align: top;\n",
       "    }\n",
       "\n",
       "    .dataframe thead th {\n",
       "        text-align: right;\n",
       "    }\n",
       "</style>\n",
       "<table border=\"1\" class=\"dataframe\">\n",
       "  <thead>\n",
       "    <tr style=\"text-align: right;\">\n",
       "      <th></th>\n",
       "      <th>start_nta_name</th>\n",
       "      <th>perc_salary_workers</th>\n",
       "      <th>perc_govt_workers</th>\n",
       "      <th>perc_self-employed</th>\n",
       "      <th>perc_unpaid_family_workers</th>\n",
       "    </tr>\n",
       "  </thead>\n",
       "  <tbody>\n",
       "    <tr>\n",
       "      <th>44</th>\n",
       "      <td>Hudson Yards-Chelsea-Flat Iron-Union Square</td>\n",
       "      <td>0.860045</td>\n",
       "      <td>0.061311</td>\n",
       "      <td>0.078487</td>\n",
       "      <td>0.000157</td>\n",
       "    </tr>\n",
       "  </tbody>\n",
       "</table>\n",
       "</div>"
      ],
      "text/plain": [
       "                                 start_nta_name  perc_salary_workers  \\\n",
       "44  Hudson Yards-Chelsea-Flat Iron-Union Square             0.860045   \n",
       "\n",
       "    perc_govt_workers  perc_self-employed  perc_unpaid_family_workers  \n",
       "44           0.061311            0.078487                    0.000157  "
      ]
     },
     "execution_count": 76,
     "metadata": {},
     "output_type": "execute_result"
    }
   ],
   "source": [
    "chelsea_stats_typework = nta_stats_typework.loc[nta_stats_typework['start_nta_name'] == 'Hudson Yards-Chelsea-Flat Iron-Union Square']\n",
    "chelsea_stats_typework_df = chelsea_stats_typework[['start_nta_name','perc_salary_workers','perc_govt_workers','perc_self-employed','perc_unpaid_family_workers']]\n",
    "chelsea_stats_typework_df"
   ]
  },
  {
   "cell_type": "code",
   "execution_count": 77,
   "metadata": {},
   "outputs": [
    {
     "data": {
      "text/html": [
       "<div>\n",
       "<style scoped>\n",
       "    .dataframe tbody tr th:only-of-type {\n",
       "        vertical-align: middle;\n",
       "    }\n",
       "\n",
       "    .dataframe tbody tr th {\n",
       "        vertical-align: top;\n",
       "    }\n",
       "\n",
       "    .dataframe thead th {\n",
       "        text-align: right;\n",
       "    }\n",
       "</style>\n",
       "<table border=\"1\" class=\"dataframe\">\n",
       "  <thead>\n",
       "    <tr style=\"text-align: right;\">\n",
       "      <th></th>\n",
       "      <th>start_nta_name</th>\n",
       "      <th>perc_hincome_10K_under</th>\n",
       "      <th>perc_hincome_10K_15K</th>\n",
       "      <th>perc_hincome_15K_25K</th>\n",
       "      <th>perc_hincome_25K_35K</th>\n",
       "      <th>perc_hincome_35K_50K</th>\n",
       "      <th>perc_hincome_50K_75K</th>\n",
       "      <th>perc_hincome_75K_100K</th>\n",
       "      <th>perc_hincome_100K_150K</th>\n",
       "      <th>perc_hincome_150K_200K</th>\n",
       "      <th>perc_hincome_200K_more</th>\n",
       "    </tr>\n",
       "  </thead>\n",
       "  <tbody>\n",
       "    <tr>\n",
       "      <th>44</th>\n",
       "      <td>Hudson Yards-Chelsea-Flat Iron-Union Square</td>\n",
       "      <td>0.072003</td>\n",
       "      <td>0.037646</td>\n",
       "      <td>0.062023</td>\n",
       "      <td>0.043027</td>\n",
       "      <td>0.054342</td>\n",
       "      <td>0.101463</td>\n",
       "      <td>0.081846</td>\n",
       "      <td>0.152999</td>\n",
       "      <td>0.098036</td>\n",
       "      <td>0.296615</td>\n",
       "    </tr>\n",
       "  </tbody>\n",
       "</table>\n",
       "</div>"
      ],
      "text/plain": [
       "                                 start_nta_name  perc_hincome_10K_under  \\\n",
       "44  Hudson Yards-Chelsea-Flat Iron-Union Square                0.072003   \n",
       "\n",
       "    perc_hincome_10K_15K  perc_hincome_15K_25K  perc_hincome_25K_35K  \\\n",
       "44              0.037646              0.062023              0.043027   \n",
       "\n",
       "    perc_hincome_35K_50K  perc_hincome_50K_75K  perc_hincome_75K_100K  \\\n",
       "44              0.054342              0.101463               0.081846   \n",
       "\n",
       "    perc_hincome_100K_150K  perc_hincome_150K_200K  perc_hincome_200K_more  \n",
       "44                0.152999                0.098036                0.296615  "
      ]
     },
     "execution_count": 77,
     "metadata": {},
     "output_type": "execute_result"
    }
   ],
   "source": [
    "chelsea_nta_stats_income_brac = nta_stats_income_brac.loc[nta_stats_income_brac['start_nta_name'] == 'Hudson Yards-Chelsea-Flat Iron-Union Square']\n",
    "chelsea_nta_stats_income_brac_df = chelsea_nta_stats_income_brac[['start_nta_name','perc_hincome_10K_under','perc_hincome_10K_15K',\n",
    "                               'perc_hincome_15K_25K','perc_hincome_25K_35K','perc_hincome_35K_50K',\n",
    "                               'perc_hincome_50K_75K','perc_hincome_75K_100K','perc_hincome_100K_150K',\n",
    "                               'perc_hincome_150K_200K','perc_hincome_200K_more']]\n",
    "chelsea_nta_stats_income_brac_df"
   ]
  },
  {
   "cell_type": "code",
   "execution_count": 78,
   "metadata": {},
   "outputs": [
    {
     "data": {
      "text/html": [
       "<div>\n",
       "<style scoped>\n",
       "    .dataframe tbody tr th:only-of-type {\n",
       "        vertical-align: middle;\n",
       "    }\n",
       "\n",
       "    .dataframe tbody tr th {\n",
       "        vertical-align: top;\n",
       "    }\n",
       "\n",
       "    .dataframe thead th {\n",
       "        text-align: right;\n",
       "    }\n",
       "</style>\n",
       "<table border=\"1\" class=\"dataframe\">\n",
       "  <thead>\n",
       "    <tr style=\"text-align: right;\">\n",
       "      <th></th>\n",
       "      <th>start_nta_name</th>\n",
       "      <th>start_mean_hincome</th>\n",
       "      <th>perc_families_below_poverty</th>\n",
       "    </tr>\n",
       "  </thead>\n",
       "  <tbody>\n",
       "    <tr>\n",
       "      <th>44</th>\n",
       "      <td>Hudson Yards-Chelsea-Flat Iron-Union Square</td>\n",
       "      <td>189927.0</td>\n",
       "      <td>14.59086</td>\n",
       "    </tr>\n",
       "  </tbody>\n",
       "</table>\n",
       "</div>"
      ],
      "text/plain": [
       "                                 start_nta_name  start_mean_hincome  \\\n",
       "44  Hudson Yards-Chelsea-Flat Iron-Union Square            189927.0   \n",
       "\n",
       "    perc_families_below_poverty  \n",
       "44                     14.59086  "
      ]
     },
     "execution_count": 78,
     "metadata": {},
     "output_type": "execute_result"
    }
   ],
   "source": [
    "chelsea_nta_stats_income = nta_stats_income.loc[nta_stats_income['start_nta_name'] == 'Hudson Yards-Chelsea-Flat Iron-Union Square']\n",
    "chelsea_nta_stats_income_df = chelsea_nta_stats_income[['start_nta_name','start_mean_hincome','perc_families_below_poverty']]\n",
    "chelsea_nta_stats_income_df"
   ]
  },
  {
   "cell_type": "markdown",
   "metadata": {},
   "source": [
    "Import and load data for non-station NTAs:"
   ]
  },
  {
   "cell_type": "code",
   "execution_count": 4,
   "metadata": {},
   "outputs": [],
   "source": [
    "acsnta_path = '../../data/00_raw/acsnta.csv'"
   ]
  },
  {
   "cell_type": "code",
   "execution_count": 341,
   "metadata": {},
   "outputs": [],
   "source": [
    "acsnta = pd.read_csv(acsnta_path)"
   ]
  },
  {
   "cell_type": "code",
   "execution_count": 372,
   "metadata": {},
   "outputs": [],
   "source": [
    "anta_stats_employ = acsnta[['nta_name','civilian_labor_force','employed','unemployed']]\n",
    "anta_stats_commute = acsnta[['nta_name','workers_16+','vehicle','carpool','public_transit',\n",
    "                             'walking','other_commuting_means','work_at_home','mean_commuting_time_(min)']]\n",
    "anta_stats_sector = acsnta[['nta_name','occ_civilian_employed_16+','mng_biz_sci_arts',\n",
    "                            'service','sales_office','natres_construct_maint','prod_transport_moving']]\n",
    "anta_stats_typework = acsnta[['nta_name','class_civilian_employed_16+','salary_workers',\n",
    "                              'govt_workers','self-employed','unpaid_family_workers']]\n",
    "anta_stats_income_brac = acsnta[['nta_name', 'total_households','hincome_10K_under',\n",
    "                                 'hincome_10K_15K','hincome_15K_25K','hincome_25K_35K','hincome_35K_50K',\n",
    "                                 'hincome_50K_75K','hincome_75K_100K','hincome_100K_150K',\n",
    "                                 'hincome_150K_200K','hincome_200K_more',]]\n",
    "anta_stats_income = acsnta[['nta_name','mean_hincome','all_families','all_families_below_poverty','median_hincome']]"
   ]
  },
  {
   "cell_type": "code",
   "execution_count": 374,
   "metadata": {},
   "outputs": [],
   "source": [
    "anta_stats_employ['perc_employed'] = anta_stats_employ['employed']/anta_stats_employ['civilian_labor_force']\n",
    "anta_stats_employ['perc_unemployed'] = anta_stats_employ['unemployed']/anta_stats_employ['civilian_labor_force']\n",
    "\n",
    "anta_stats_commute['perc_car_van_truck'] = anta_stats_commute['vehicle']/anta_stats_commute['workers_16+']\n",
    "anta_stats_commute['perc_carpool'] = anta_stats_commute['carpool']/anta_stats_commute['workers_16+']\n",
    "anta_stats_commute['perc_public_transit'] = anta_stats_commute['public_transit']/anta_stats_commute['workers_16+']\n",
    "anta_stats_commute['perc_walking'] = anta_stats_commute['walking']/anta_stats_commute['workers_16+']\n",
    "anta_stats_commute['perc_other_commuting_means'] = anta_stats_commute['other_commuting_means']/anta_stats_commute['workers_16+']\n",
    "anta_stats_commute['perc_work_at_home'] = anta_stats_commute['work_at_home']/anta_stats_commute['workers_16+']\n",
    "\n",
    "anta_stats_sector['perc_mng_biz_sci_arts'] = anta_stats_sector['mng_biz_sci_arts']/anta_stats_sector['occ_civilian_employed_16+']\n",
    "anta_stats_sector['perc_service'] = anta_stats_sector['service']/anta_stats_sector['occ_civilian_employed_16+']\n",
    "anta_stats_sector['perc_sales_office'] = anta_stats_sector['sales_office']/anta_stats_sector['occ_civilian_employed_16+']\n",
    "anta_stats_sector['perc_natres_construct_maint'] = anta_stats_sector['natres_construct_maint']/anta_stats_sector['occ_civilian_employed_16+']\n",
    "anta_stats_sector['perc_prod_transport_moving'] = anta_stats_sector['prod_transport_moving']/anta_stats_sector['occ_civilian_employed_16+']\n",
    "\n",
    "anta_stats_typework['perc_salary_workers'] = anta_stats_typework['salary_workers']/anta_stats_typework['class_civilian_employed_16+']\n",
    "anta_stats_typework['perc_govt_workers'] = anta_stats_typework['govt_workers']/anta_stats_typework['class_civilian_employed_16+']\n",
    "anta_stats_typework['perc_self-employed'] = anta_stats_typework['self-employed']/anta_stats_typework['class_civilian_employed_16+']\n",
    "anta_stats_typework['perc_unpaid_family_workers'] = anta_stats_typework['unpaid_family_workers']/anta_stats_typework['class_civilian_employed_16+']\n",
    "\n",
    "anta_stats_income['perc_families_below_poverty'] = anta_stats_income['all_families_below_poverty']/anta_stats_income['all_families']\n",
    "\n",
    "anta_stats_income_brac['perc_hincome_10K_under'] = anta_stats_income_brac['hincome_10K_under']/anta_stats_income_brac['total_households']\n",
    "anta_stats_income_brac['perc_hincome_10K_15K'] = anta_stats_income_brac['hincome_10K_15K']/anta_stats_income_brac['total_households']\n",
    "anta_stats_income_brac['perc_hincome_15K_25K'] = anta_stats_income_brac['hincome_15K_25K']/anta_stats_income_brac['total_households']\n",
    "anta_stats_income_brac['perc_hincome_25K_35K'] = anta_stats_income_brac['hincome_25K_35K']/anta_stats_income_brac['total_households']\n",
    "anta_stats_income_brac['perc_hincome_35K_50K'] = anta_stats_income_brac['hincome_35K_50K']/anta_stats_income_brac['total_households']\n",
    "anta_stats_income_brac['perc_hincome_50K_75K'] = anta_stats_income_brac['hincome_50K_75K']/anta_stats_income_brac['total_households']\n",
    "anta_stats_income_brac['perc_hincome_75K_100K'] = anta_stats_income_brac['hincome_75K_100K']/anta_stats_income_brac['total_households']\n",
    "anta_stats_income_brac['perc_hincome_100K_150K'] = anta_stats_income_brac['hincome_100K_150K']/anta_stats_income_brac['total_households']\n",
    "anta_stats_income_brac['perc_hincome_150K_200K'] = anta_stats_income_brac['hincome_150K_200K']/anta_stats_income_brac['total_households']\n",
    "anta_stats_income_brac['perc_hincome_200K_more'] = anta_stats_income_brac['hincome_200K_more']/anta_stats_income_brac['total_households']"
   ]
  },
  {
   "cell_type": "markdown",
   "metadata": {},
   "source": [
    "NTA stats for Fordham South:"
   ]
  },
  {
   "cell_type": "code",
   "execution_count": 352,
   "metadata": {},
   "outputs": [
    {
     "data": {
      "text/html": [
       "<div>\n",
       "<style scoped>\n",
       "    .dataframe tbody tr th:only-of-type {\n",
       "        vertical-align: middle;\n",
       "    }\n",
       "\n",
       "    .dataframe tbody tr th {\n",
       "        vertical-align: top;\n",
       "    }\n",
       "\n",
       "    .dataframe thead th {\n",
       "        text-align: right;\n",
       "    }\n",
       "</style>\n",
       "<table border=\"1\" class=\"dataframe\">\n",
       "  <thead>\n",
       "    <tr style=\"text-align: right;\">\n",
       "      <th></th>\n",
       "      <th>nta_name</th>\n",
       "      <th>perc_employed</th>\n",
       "      <th>perc_unemployed</th>\n",
       "    </tr>\n",
       "  </thead>\n",
       "  <tbody>\n",
       "    <tr>\n",
       "      <td>10</td>\n",
       "      <td>Fordham South</td>\n",
       "      <td>0.847819</td>\n",
       "      <td>0.152181</td>\n",
       "    </tr>\n",
       "  </tbody>\n",
       "</table>\n",
       "</div>"
      ],
      "text/plain": [
       "         nta_name  perc_employed  perc_unemployed\n",
       "10  Fordham South       0.847819         0.152181"
      ]
     },
     "execution_count": 352,
     "metadata": {},
     "output_type": "execute_result"
    }
   ],
   "source": [
    "fordham_stats_employ = anta_stats_employ.loc[anta_stats_employ['nta_name'] == 'Fordham South']\n",
    "fordham_stats_employ_df = fordham_stats_employ[['nta_name','perc_employed','perc_unemployed']]\n",
    "fordham_stats_employ_df"
   ]
  },
  {
   "cell_type": "code",
   "execution_count": 375,
   "metadata": {},
   "outputs": [
    {
     "data": {
      "text/html": [
       "<div>\n",
       "<style scoped>\n",
       "    .dataframe tbody tr th:only-of-type {\n",
       "        vertical-align: middle;\n",
       "    }\n",
       "\n",
       "    .dataframe tbody tr th {\n",
       "        vertical-align: top;\n",
       "    }\n",
       "\n",
       "    .dataframe thead th {\n",
       "        text-align: right;\n",
       "    }\n",
       "</style>\n",
       "<table border=\"1\" class=\"dataframe\">\n",
       "  <thead>\n",
       "    <tr style=\"text-align: right;\">\n",
       "      <th></th>\n",
       "      <th>nta_name</th>\n",
       "      <th>perc_car_van_truck</th>\n",
       "      <th>perc_carpool</th>\n",
       "      <th>perc_public_transit</th>\n",
       "      <th>perc_walking</th>\n",
       "      <th>perc_other_commuting_means</th>\n",
       "      <th>perc_work_at_home</th>\n",
       "      <th>mean_commuting_time_(min)</th>\n",
       "    </tr>\n",
       "  </thead>\n",
       "  <tbody>\n",
       "    <tr>\n",
       "      <td>10</td>\n",
       "      <td>Fordham South</td>\n",
       "      <td>0.131117</td>\n",
       "      <td>0.031878</td>\n",
       "      <td>0.704328</td>\n",
       "      <td>0.076916</td>\n",
       "      <td>0.004582</td>\n",
       "      <td>0.05118</td>\n",
       "      <td>46.4</td>\n",
       "    </tr>\n",
       "  </tbody>\n",
       "</table>\n",
       "</div>"
      ],
      "text/plain": [
       "         nta_name  perc_car_van_truck  perc_carpool  perc_public_transit  \\\n",
       "10  Fordham South            0.131117      0.031878             0.704328   \n",
       "\n",
       "    perc_walking  perc_other_commuting_means  perc_work_at_home  \\\n",
       "10      0.076916                    0.004582            0.05118   \n",
       "\n",
       "    mean_commuting_time_(min)  \n",
       "10                       46.4  "
      ]
     },
     "execution_count": 375,
     "metadata": {},
     "output_type": "execute_result"
    }
   ],
   "source": [
    "fordham_stats_commute = anta_stats_commute.loc[anta_stats_commute['nta_name'] == 'Fordham South']\n",
    "fordham_stats_commute_df = fordham_stats_commute[['nta_name','perc_car_van_truck','perc_carpool','perc_public_transit','perc_walking',\n",
    "                                                  'perc_other_commuting_means','perc_work_at_home','mean_commuting_time_(min)']]\n",
    "fordham_stats_commute_df "
   ]
  },
  {
   "cell_type": "code",
   "execution_count": 354,
   "metadata": {},
   "outputs": [
    {
     "data": {
      "text/html": [
       "<div>\n",
       "<style scoped>\n",
       "    .dataframe tbody tr th:only-of-type {\n",
       "        vertical-align: middle;\n",
       "    }\n",
       "\n",
       "    .dataframe tbody tr th {\n",
       "        vertical-align: top;\n",
       "    }\n",
       "\n",
       "    .dataframe thead th {\n",
       "        text-align: right;\n",
       "    }\n",
       "</style>\n",
       "<table border=\"1\" class=\"dataframe\">\n",
       "  <thead>\n",
       "    <tr style=\"text-align: right;\">\n",
       "      <th></th>\n",
       "      <th>nta_name</th>\n",
       "      <th>perc_mng_biz_sci_arts</th>\n",
       "      <th>perc_service</th>\n",
       "      <th>perc_sales_office</th>\n",
       "      <th>perc_natres_construct_maint</th>\n",
       "      <th>perc_prod_transport_moving</th>\n",
       "    </tr>\n",
       "  </thead>\n",
       "  <tbody>\n",
       "    <tr>\n",
       "      <td>10</td>\n",
       "      <td>Fordham South</td>\n",
       "      <td>0.159637</td>\n",
       "      <td>0.441744</td>\n",
       "      <td>0.22508</td>\n",
       "      <td>0.059864</td>\n",
       "      <td>0.113675</td>\n",
       "    </tr>\n",
       "  </tbody>\n",
       "</table>\n",
       "</div>"
      ],
      "text/plain": [
       "         nta_name  perc_mng_biz_sci_arts  perc_service  perc_sales_office  \\\n",
       "10  Fordham South               0.159637      0.441744            0.22508   \n",
       "\n",
       "    perc_natres_construct_maint  perc_prod_transport_moving  \n",
       "10                     0.059864                    0.113675  "
      ]
     },
     "execution_count": 354,
     "metadata": {},
     "output_type": "execute_result"
    }
   ],
   "source": [
    "fordham_stats_sector = anta_stats_sector.loc[anta_stats_sector['nta_name'] == 'Fordham South']\n",
    "fordham_stats_sector_df = fordham_stats_sector[['nta_name','perc_mng_biz_sci_arts','perc_service','perc_sales_office',\n",
    "                                                'perc_natres_construct_maint','perc_prod_transport_moving']]\n",
    "fordham_stats_sector_df"
   ]
  },
  {
   "cell_type": "code",
   "execution_count": 355,
   "metadata": {},
   "outputs": [
    {
     "data": {
      "text/html": [
       "<div>\n",
       "<style scoped>\n",
       "    .dataframe tbody tr th:only-of-type {\n",
       "        vertical-align: middle;\n",
       "    }\n",
       "\n",
       "    .dataframe tbody tr th {\n",
       "        vertical-align: top;\n",
       "    }\n",
       "\n",
       "    .dataframe thead th {\n",
       "        text-align: right;\n",
       "    }\n",
       "</style>\n",
       "<table border=\"1\" class=\"dataframe\">\n",
       "  <thead>\n",
       "    <tr style=\"text-align: right;\">\n",
       "      <th></th>\n",
       "      <th>nta_name</th>\n",
       "      <th>perc_salary_workers</th>\n",
       "      <th>perc_govt_workers</th>\n",
       "      <th>perc_self-employed</th>\n",
       "      <th>perc_unpaid_family_workers</th>\n",
       "    </tr>\n",
       "  </thead>\n",
       "  <tbody>\n",
       "    <tr>\n",
       "      <td>10</td>\n",
       "      <td>Fordham South</td>\n",
       "      <td>0.841214</td>\n",
       "      <td>0.080764</td>\n",
       "      <td>0.078022</td>\n",
       "      <td>0.0</td>\n",
       "    </tr>\n",
       "  </tbody>\n",
       "</table>\n",
       "</div>"
      ],
      "text/plain": [
       "         nta_name  perc_salary_workers  perc_govt_workers  perc_self-employed  \\\n",
       "10  Fordham South             0.841214           0.080764            0.078022   \n",
       "\n",
       "    perc_unpaid_family_workers  \n",
       "10                         0.0  "
      ]
     },
     "execution_count": 355,
     "metadata": {},
     "output_type": "execute_result"
    }
   ],
   "source": [
    "fordham_stats_typework = anta_stats_typework.loc[anta_stats_typework['nta_name'] == 'Fordham South']\n",
    "fordham_stats_typework_df = fordham_stats_typework[['nta_name','perc_salary_workers','perc_govt_workers','perc_self-employed','perc_unpaid_family_workers']]\n",
    "fordham_stats_typework_df"
   ]
  },
  {
   "cell_type": "code",
   "execution_count": 357,
   "metadata": {},
   "outputs": [
    {
     "data": {
      "text/html": [
       "<div>\n",
       "<style scoped>\n",
       "    .dataframe tbody tr th:only-of-type {\n",
       "        vertical-align: middle;\n",
       "    }\n",
       "\n",
       "    .dataframe tbody tr th {\n",
       "        vertical-align: top;\n",
       "    }\n",
       "\n",
       "    .dataframe thead th {\n",
       "        text-align: right;\n",
       "    }\n",
       "</style>\n",
       "<table border=\"1\" class=\"dataframe\">\n",
       "  <thead>\n",
       "    <tr style=\"text-align: right;\">\n",
       "      <th></th>\n",
       "      <th>nta_name</th>\n",
       "      <th>perc_hincome_10K_under</th>\n",
       "      <th>perc_hincome_10K_15K</th>\n",
       "      <th>perc_hincome_15K_25K</th>\n",
       "      <th>perc_hincome_25K_35K</th>\n",
       "      <th>perc_hincome_35K_50K</th>\n",
       "      <th>perc_hincome_50K_75K</th>\n",
       "      <th>perc_hincome_75K_100K</th>\n",
       "      <th>perc_hincome_100K_150K</th>\n",
       "      <th>perc_hincome_150K_200K</th>\n",
       "      <th>perc_hincome_200K_more</th>\n",
       "    </tr>\n",
       "  </thead>\n",
       "  <tbody>\n",
       "    <tr>\n",
       "      <td>10</td>\n",
       "      <td>Fordham South</td>\n",
       "      <td>0.203456</td>\n",
       "      <td>0.11204</td>\n",
       "      <td>0.172687</td>\n",
       "      <td>0.101338</td>\n",
       "      <td>0.16243</td>\n",
       "      <td>0.115496</td>\n",
       "      <td>0.076031</td>\n",
       "      <td>0.045151</td>\n",
       "      <td>0.009476</td>\n",
       "      <td>0.001895</td>\n",
       "    </tr>\n",
       "  </tbody>\n",
       "</table>\n",
       "</div>"
      ],
      "text/plain": [
       "         nta_name  perc_hincome_10K_under  perc_hincome_10K_15K  \\\n",
       "10  Fordham South                0.203456               0.11204   \n",
       "\n",
       "    perc_hincome_15K_25K  perc_hincome_25K_35K  perc_hincome_35K_50K  \\\n",
       "10              0.172687              0.101338               0.16243   \n",
       "\n",
       "    perc_hincome_50K_75K  perc_hincome_75K_100K  perc_hincome_100K_150K  \\\n",
       "10              0.115496               0.076031                0.045151   \n",
       "\n",
       "    perc_hincome_150K_200K  perc_hincome_200K_more  \n",
       "10                0.009476                0.001895  "
      ]
     },
     "execution_count": 357,
     "metadata": {},
     "output_type": "execute_result"
    }
   ],
   "source": [
    "fordham_nta_stats_income_brac = anta_stats_income_brac.loc[anta_stats_income_brac['nta_name'] == 'Fordham South']\n",
    "fordham_nta_stats_income_brac_df = fordham_nta_stats_income_brac[['nta_name','perc_hincome_10K_under',\n",
    "                                                                    'perc_hincome_10K_15K',\n",
    "                                                                    'perc_hincome_15K_25K',\n",
    "                                                                    'perc_hincome_25K_35K',\n",
    "                                                                    'perc_hincome_35K_50K',\n",
    "                                                                    'perc_hincome_50K_75K',\n",
    "                                                                    'perc_hincome_75K_100K',\n",
    "                                                                    'perc_hincome_100K_150K',\n",
    "                                                                    'perc_hincome_150K_200K',\n",
    "                                                                    'perc_hincome_200K_more']]\n",
    "fordham_nta_stats_income_brac_df"
   ]
  },
  {
   "cell_type": "markdown",
   "metadata": {},
   "source": [
    "PUMA stats suggest on a deaggregated neighborhood level, poverty estimates may be higher:"
   ]
  },
  {
   "cell_type": "code",
   "execution_count": 360,
   "metadata": {
    "scrolled": true
   },
   "outputs": [
    {
     "data": {
      "text/html": [
       "<div>\n",
       "<style scoped>\n",
       "    .dataframe tbody tr th:only-of-type {\n",
       "        vertical-align: middle;\n",
       "    }\n",
       "\n",
       "    .dataframe tbody tr th {\n",
       "        vertical-align: top;\n",
       "    }\n",
       "\n",
       "    .dataframe thead th {\n",
       "        text-align: right;\n",
       "    }\n",
       "</style>\n",
       "<table border=\"1\" class=\"dataframe\">\n",
       "  <thead>\n",
       "    <tr style=\"text-align: right;\">\n",
       "      <th></th>\n",
       "      <th>nta_name</th>\n",
       "      <th>mean_hincome</th>\n",
       "      <th>median_hincome</th>\n",
       "      <th>perc_families_below_poverty</th>\n",
       "    </tr>\n",
       "  </thead>\n",
       "  <tbody>\n",
       "    <tr>\n",
       "      <td>10</td>\n",
       "      <td>Fordham South</td>\n",
       "      <td>36767.0</td>\n",
       "      <td>26122.0</td>\n",
       "      <td>0.429987</td>\n",
       "    </tr>\n",
       "  </tbody>\n",
       "</table>\n",
       "</div>"
      ],
      "text/plain": [
       "         nta_name  mean_hincome  median_hincome  perc_families_below_poverty\n",
       "10  Fordham South       36767.0         26122.0                     0.429987"
      ]
     },
     "execution_count": 360,
     "metadata": {},
     "output_type": "execute_result"
    }
   ],
   "source": [
    "fordham_nta_stats_income = anta_stats_income.loc[anta_stats_income['nta_name'] == 'Fordham South']\n",
    "fordham_nta_stats_income_df = fordham_nta_stats_income[['nta_name','mean_hincome','median_hincome','perc_families_below_poverty']]\n",
    "fordham_nta_stats_income_df"
   ]
  },
  {
   "cell_type": "markdown",
   "metadata": {},
   "source": [
    "### Graphs"
   ]
  },
  {
   "cell_type": "code",
   "execution_count": 88,
   "metadata": {},
   "outputs": [],
   "source": [
    "params = {'legend.fontsize': 'medium',\n",
    "         'axes.labelsize': 14,\n",
    "         'axes.titlesize':'medium',\n",
    "         'xtick.labelsize': 13,\n",
    "         'ytick.labelsize': 13}\n",
    "plt.rcParams.update(params)"
   ]
  },
  {
   "cell_type": "markdown",
   "metadata": {},
   "source": [
    "#### Average rider"
   ]
  },
  {
   "cell_type": "code",
   "execution_count": 89,
   "metadata": {},
   "outputs": [
    {
     "data": {
      "image/png": "[encoded data removed]",
      "text/plain": [
       "<Figure size 1080x504 with 1 Axes>"
      ]
     },
     "metadata": {
      "needs_background": "light"
     },
     "output_type": "display_data"
    }
   ],
   "source": [
    "# 0 = Unknown, 1 = Male, 2 - Female\n",
    "gender_usertype = cbacs.pivot_table('bikeid', index='usertype', columns=['gender'], aggfunc=len)\n",
    "gender_usertype = gender_usertype.div(gender_usertype.sum(axis=1), axis=0).mul(100)\n",
    "gender_usertype.columns = ['Unknown','Male','Female']\n",
    "gender_usertype_plt = gender_usertype.plot(kind='barh', figsize=(15,7), stacked=True)\n",
    "plt.xlabel('Proportion of Trips within User Type', fontsize=14)\n",
    "plt.ylabel('Type of User', fontsize=14)\n",
    "plt.title(\"Who's Riding? Gender and User Type\", fontsize=20)\n",
    "plt.legend(['Unknown','Male','Female'], fontsize=13)\n",
    "gender_usertype_plt.legend(loc='lower left', \n",
    "                           bbox_to_anchor=(0.0, 1.01),\n",
    "                           ncol=2, borderaxespad=0, frameon=False)\n",
    "\n",
    "for p in gender_usertype_plt.patches:\n",
    "    left, bottom, width, height = p.get_bbox().bounds\n",
    "    gender_usertype_plt.annotate('{0:,.0f}%'.format(width), \n",
    "                                 xy=(left+width/2, bottom+height/2), \n",
    "                                 ha='center', va='center',\n",
    "                                 fontsize=10)\n",
    "\n",
    "plt.show();"
   ]
  },
  {
   "cell_type": "code",
   "execution_count": 90,
   "metadata": {},
   "outputs": [
    {
     "data": {
      "image/png": "[encoded data removed]",
      "text/plain": [
       "<Figure size 1080x504 with 1 Axes>"
      ]
     },
     "metadata": {
      "needs_background": "light"
     },
     "output_type": "display_data"
    }
   ],
   "source": [
    "age_usertype = cbacs.pivot_table('bikeid', index='usertype', columns=['age_group'], aggfunc=len)\n",
    "age_usertype = age_usertype.div(age_usertype.sum(axis=1), axis=0).mul(100)\n",
    "age_usertype_plt = age_usertype.plot(kind='barh', figsize=(15,7), stacked=True)\n",
    "plt.xlabel('Proportion of Trips within User Type', fontsize=14)\n",
    "plt.ylabel('Type of User', fontsize=14)\n",
    "plt.title(\"Who's Riding? Age and User Type\", fontsize=20)\n",
    "age_usertype_plt.legend(loc='lower left', bbox_to_anchor=(0.0, 1.01),\n",
    "                       ncol=2, borderaxespad=0, frameon=False)\n",
    "\n",
    "for p in age_usertype_plt.patches:\n",
    "    left, bottom, width, height = p.get_bbox().bounds\n",
    "    age_usertype_plt.annotate('{0:,.0f}%'.format(width), \n",
    "                              xy=(left+width/2, bottom+height/2), \n",
    "                              ha='center', va='center',\n",
    "                              fontsize=11)\n",
    "\n",
    "plt.show();"
   ]
  },
  {
   "cell_type": "code",
   "execution_count": 92,
   "metadata": {},
   "outputs": [
    {
     "data": {
      "image/png": "[encoded data removed]",
      "text/plain": [
       "<Figure size 1080x504 with 1 Axes>"
      ]
     },
     "metadata": {
      "needs_background": "light"
     },
     "output_type": "display_data"
    }
   ],
   "source": [
    "dayofweek_usertype = cbacs.pivot_table('bikeid', index='usertype', columns=['startdayname'], aggfunc=len)\n",
    "dayofweek_usertype = dayofweek_usertype.div(dayofweek_usertype.sum(axis=1), axis=0).mul(100)\n",
    "dayofweek_usertype_plt = dayofweek_usertype.plot(kind='barh', figsize=(15,7), stacked=True)\n",
    "plt.xlabel('Proportion of Trips within User Type', fontsize=14)\n",
    "plt.ylabel('Type of User', fontsize=14)\n",
    "plt.title(\"Who's Riding? Day of Week and User Type\", fontsize=20)\n",
    "dayofweek_usertype_plt.legend(loc='lower left', bbox_to_anchor=(0.0, 1.01),\n",
    "                       ncol=2, borderaxespad=0, frameon=False)\n",
    "\n",
    "for p in dayofweek_usertype_plt.patches:\n",
    "    left, bottom, width, height = p.get_bbox().bounds\n",
    "    dayofweek_usertype_plt.annotate('{0:,.0f}%'.format(width), \n",
    "                              xy=(left+width/2, bottom+height/2), \n",
    "                              ha='center', va='center',\n",
    "                              fontsize=11)\n",
    "\n",
    "plt.show();"
   ]
  },
  {
   "cell_type": "markdown",
   "metadata": {},
   "source": [
    "#### Route patterns"
   ]
  },
  {
   "cell_type": "code",
   "execution_count": 93,
   "metadata": {},
   "outputs": [
    {
     "data": {
      "image/png": "[encoded data removed]",
      "text/plain": [
       "<Figure size 1080x504 with 1 Axes>"
      ]
     },
     "metadata": {
      "needs_background": "light"
     },
     "output_type": "display_data"
    }
   ],
   "source": [
    "freq_plt = cbacs.pivot_table('bikeid', index='startmonth', columns='startboro', aggfunc='count', fill_value=0).plot(kind='line', colormap='Accent', figsize=(15,7), xticks = range(1,13))\n",
    "freq_plt.yaxis.set_major_formatter(tkr.StrMethodFormatter('{x:,.0f}'))\n",
    "plt.xlabel('Month', fontsize=14)\n",
    "plt.ylabel('Trip Count', fontsize=14)\n",
    "plt.title('Monthly Trip Count by Borough', fontsize=20)\n",
    "plt.legend(['Brooklyn','Manhattan','Queens'], fontsize=14)\n",
    "plt.show();"
   ]
  },
  {
   "cell_type": "code",
   "execution_count": 94,
   "metadata": {},
   "outputs": [
    {
     "data": {
      "image/png": "[encoded data removed]",
      "text/plain": [
       "<Figure size 1080x504 with 1 Axes>"
      ]
     },
     "metadata": {
      "needs_background": "light"
     },
     "output_type": "display_data"
    }
   ],
   "source": [
    "boro_flow = cbacs.pivot_table('bikeid', index='starthour', columns=['start_boro_flow','end_boro_flow'], aggfunc='count', fill_value=0)\n",
    "boro_flow_plt = boro_flow.plot(kind='line', figsize=(15,7), xticks = range(0,24), colormap='rainbow')\n",
    "boro_flow_plt.yaxis.set_major_formatter(tkr.StrMethodFormatter('{x:,.0f}'))\n",
    "plt.xlabel('Hour of Day (24-Hour Clock)', fontsize=14)\n",
    "plt.ylabel('Trip Counts by Hour', fontsize=14)\n",
    "plt.title('Hourly Trip Counts Between Boroughs', fontsize=20)\n",
    "plt.legend(['Manhattan to Manhattan','Manhattan to Outer Borough',\n",
    "           'Outer Borough to Manhattan','Outer Borough to Outer Borough'], fontsize=13)\n",
    "plt.show();"
   ]
  },
  {
   "cell_type": "code",
   "execution_count": 95,
   "metadata": {},
   "outputs": [
    {
     "data": {
      "image/png": "[encoded data removed]",
      "text/plain": [
       "<Figure size 1080x504 with 1 Axes>"
      ]
     },
     "metadata": {
      "needs_background": "light"
     },
     "output_type": "display_data"
    }
   ],
   "source": [
    "daytype_mean_trips = cbacs.pivot_table('bikeid', index='starthour', columns='startdaytype', aggfunc='mean')\n",
    "daytype_plt = daytype_mean_trips.plot(kind='line', figsize = (15,7), xticks=range(0,24), fontsize = 14, colormap='coolwarm')\n",
    "daytype_plt.yaxis.set_major_formatter(tkr.StrMethodFormatter('{x:,.0f}'))\n",
    "plt.xlabel('Hour of Day (24-Hour Clock)', fontsize=14)\n",
    "plt.ylabel('Mean Trip Counts by Hour', fontsize=14)\n",
    "plt.title('Mean Trip Counts by Weekday and Weekend', fontsize=20)\n",
    "plt.legend(['Weekday','Weekend'], fontsize=14)\n",
    "plt.show();"
   ]
  },
  {
   "cell_type": "markdown",
   "metadata": {},
   "source": [
    "#### Traffic Flow"
   ]
  },
  {
   "cell_type": "code",
   "execution_count": 96,
   "metadata": {},
   "outputs": [
    {
     "data": {
      "image/png": "[encoded data removed]",
      "text/plain": [
       "<Figure size 432x288 with 1 Axes>"
      ]
     },
     "metadata": {
      "needs_background": "light"
     },
     "output_type": "display_data"
    }
   ],
   "source": [
    "outf_plt = top5_nta_outflow.sort_values(['Net Outflow of Rides'], ascending=True).dropna().head(5)\n",
    "outf_plt = plt.barh(range(len(outf_plt)), outf_plt['Net Outflow of Rides'], color=plt.cm.Dark2(np.arange(len(outf_plt))))\n",
    "plt.yticks([4,3,2,1,0], [\"Murray Hill-Kips Bay\",\"Lincoln Square\", \"Clinton\",\"Clinton Hill\",\"Upper West Side\"], fontsize=12)\n",
    "plt.xlabel('Net Outgoing Rides', fontsize=12)\n",
    "plt.ylabel('Neighborhood Tabulation Area (NTA)', fontsize=12)\n",
    "plt.title('Top 5 Origin NTAs (Commuting Out > In)', fontsize=14) \n",
    "plt.show();"
   ]
  },
  {
   "cell_type": "code",
   "execution_count": 97,
   "metadata": {},
   "outputs": [
    {
     "data": {
      "image/png": "[encoded data removed]",
      "text/plain": [
       "<Figure size 432x288 with 1 Axes>"
      ]
     },
     "metadata": {
      "needs_background": "light"
     },
     "output_type": "display_data"
    }
   ],
   "source": [
    "inf_plt = top5_nta_inflow.sort_values(['Net Inflow of Rides'], ascending=True).dropna().head(5)\n",
    "inf_plt = plt.barh(range(len(inf_plt)), inf_plt['Net Inflow of Rides'], color=plt.cm.tab10(np.arange(len(inf_plt))))\n",
    "plt.yticks([4,3,2,1,0], ['SoHo-TriBeCa-Civic Center-Little Italy','Hudson Yards-Chelsea-Flat Iron-Union Square',\n",
    "                         'East Village','West Village','Battery Park City-Lower Manhattan'], fontsize=12)\n",
    "plt.xlabel('Net Incoming Rides', fontsize=12)\n",
    "plt.ylabel('Neighborhood Tabulation Area (NTA)', fontsize=12)\n",
    "plt.title('Top 5 Destination NTAs (Commuting In > Out)', fontsize=14)  \n",
    "plt.show();"
   ]
  },
  {
   "cell_type": "code",
   "execution_count": 98,
   "metadata": {},
   "outputs": [
    {
     "data": {
      "text/html": [
       "<div>\n",
       "<style scoped>\n",
       "    .dataframe tbody tr th:only-of-type {\n",
       "        vertical-align: middle;\n",
       "    }\n",
       "\n",
       "    .dataframe tbody tr th {\n",
       "        vertical-align: top;\n",
       "    }\n",
       "\n",
       "    .dataframe thead th {\n",
       "        text-align: right;\n",
       "    }\n",
       "</style>\n",
       "<table border=\"1\" class=\"dataframe\">\n",
       "  <thead>\n",
       "    <tr style=\"text-align: right;\">\n",
       "      <th>stopdayname</th>\n",
       "      <th>Monday</th>\n",
       "      <th>Tuesday</th>\n",
       "      <th>Wednesday</th>\n",
       "      <th>Thursday</th>\n",
       "      <th>Friday</th>\n",
       "      <th>Saturday</th>\n",
       "      <th>Sunday</th>\n",
       "    </tr>\n",
       "    <tr>\n",
       "      <th>Neighborhood Tabulation Area</th>\n",
       "      <th></th>\n",
       "      <th></th>\n",
       "      <th></th>\n",
       "      <th></th>\n",
       "      <th></th>\n",
       "      <th></th>\n",
       "      <th></th>\n",
       "    </tr>\n",
       "  </thead>\n",
       "  <tbody>\n",
       "    <tr>\n",
       "      <th>Hudson Yards-Chelsea-Flat Iron-Union Square</th>\n",
       "      <td>-112</td>\n",
       "      <td>852</td>\n",
       "      <td>1145</td>\n",
       "      <td>839</td>\n",
       "      <td>1101</td>\n",
       "      <td>2050</td>\n",
       "      <td>860</td>\n",
       "    </tr>\n",
       "  </tbody>\n",
       "</table>\n",
       "</div>"
      ],
      "text/plain": [
       "stopdayname                                  Monday  Tuesday  Wednesday  \\\n",
       "Neighborhood Tabulation Area                                              \n",
       "Hudson Yards-Chelsea-Flat Iron-Union Square    -112      852       1145   \n",
       "\n",
       "stopdayname                                  Thursday  Friday  Saturday  \\\n",
       "Neighborhood Tabulation Area                                              \n",
       "Hudson Yards-Chelsea-Flat Iron-Union Square       839    1101      2050   \n",
       "\n",
       "stopdayname                                  Sunday  \n",
       "Neighborhood Tabulation Area                         \n",
       "Hudson Yards-Chelsea-Flat Iron-Union Square     860  "
      ]
     },
     "execution_count": 98,
     "metadata": {},
     "output_type": "execute_result"
    }
   ],
   "source": [
    "chelsea_incomingt_day"
   ]
  },
  {
   "cell_type": "code",
   "execution_count": 2,
   "metadata": {},
   "outputs": [
    {
     "data": {
      "image/png": "[encoded data removed]",
      "text/plain": [
       "<Figure size 1080x504 with 1 Axes>"
      ]
     },
     "metadata": {
      "needs_background": "light"
     },
     "output_type": "display_data"
    }
   ],
   "source": [
    "chelsea_incomingt_pltdf = pd.DataFrame({'Day of Week': ['Monday', 'Tuesday', 'Wednesday',\n",
    "                                                       'Thursday','Friday','Saturday','Sunday'],\n",
    "                                        'Net Incoming Rides': [-112, 852, 1145, 839, 1101, 2050, 860]})\n",
    "chelsea_incomingt_pltdf = chelsea_incomingt_pltdf.set_index('Day of Week')\n",
    "chelsea_incomingt_pltdf.plot(kind='bar',  figsize = (15,7), fontsize = 14, colormap='coolwarm')\n",
    "plt.ylabel('Net Incoming Rides', fontsize=12)\n",
    "plt.xlabel('Days of the Week', fontsize=12)\n",
    "plt.title('Hudson Yards-Chelsea-Flatiron-Union Square Incoming Traffic', fontsize=14)  \n",
    "plt.show();"
   ]
  },
  {
   "cell_type": "code",
   "execution_count": 100,
   "metadata": {},
   "outputs": [
    {
     "data": {
      "text/html": [
       "<div>\n",
       "<style scoped>\n",
       "    .dataframe tbody tr th:only-of-type {\n",
       "        vertical-align: middle;\n",
       "    }\n",
       "\n",
       "    .dataframe tbody tr th {\n",
       "        vertical-align: top;\n",
       "    }\n",
       "\n",
       "    .dataframe thead th {\n",
       "        text-align: right;\n",
       "    }\n",
       "</style>\n",
       "<table border=\"1\" class=\"dataframe\">\n",
       "  <thead>\n",
       "    <tr style=\"text-align: right;\">\n",
       "      <th>startrushhour</th>\n",
       "      <th>Morning Off-Peak</th>\n",
       "      <th>Morning Rush</th>\n",
       "      <th>Afternoon Off-Peak</th>\n",
       "      <th>Afternoon Rush</th>\n",
       "      <th>Evening Off-Peak</th>\n",
       "    </tr>\n",
       "    <tr>\n",
       "      <th>Neighborhood Tabulation Area</th>\n",
       "      <th></th>\n",
       "      <th></th>\n",
       "      <th></th>\n",
       "      <th></th>\n",
       "      <th></th>\n",
       "    </tr>\n",
       "  </thead>\n",
       "  <tbody>\n",
       "    <tr>\n",
       "      <th>Hudson Yards-Chelsea-Flat Iron-Union Square</th>\n",
       "      <td>-143</td>\n",
       "      <td>-13139</td>\n",
       "      <td>-5432</td>\n",
       "      <td>10128</td>\n",
       "      <td>1851</td>\n",
       "    </tr>\n",
       "  </tbody>\n",
       "</table>\n",
       "</div>"
      ],
      "text/plain": [
       "startrushhour                                Morning Off-Peak  Morning Rush  \\\n",
       "Neighborhood Tabulation Area                                                  \n",
       "Hudson Yards-Chelsea-Flat Iron-Union Square              -143        -13139   \n",
       "\n",
       "startrushhour                                Afternoon Off-Peak  \\\n",
       "Neighborhood Tabulation Area                                      \n",
       "Hudson Yards-Chelsea-Flat Iron-Union Square               -5432   \n",
       "\n",
       "startrushhour                                Afternoon Rush  Evening Off-Peak  \n",
       "Neighborhood Tabulation Area                                                   \n",
       "Hudson Yards-Chelsea-Flat Iron-Union Square           10128              1851  "
      ]
     },
     "execution_count": 100,
     "metadata": {},
     "output_type": "execute_result"
    }
   ],
   "source": [
    "chelsea_outgoingt_rush"
   ]
  },
  {
   "cell_type": "code",
   "execution_count": 3,
   "metadata": {},
   "outputs": [
    {
     "data": {
      "image/png": "[encoded data removed]",
      "text/plain": [
       "<Figure size 1080x504 with 1 Axes>"
      ]
     },
     "metadata": {
      "needs_background": "light"
     },
     "output_type": "display_data"
    }
   ],
   "source": [
    "chelsea_outgoingt_rush_pltdf = pd.DataFrame({'Rush Hour': ['Morning Off-Peak', 'Morning Rush', 'Afternoon Off-Peak',\n",
    "                                                           'Afternoon/Evening Rush','Evening Off-Peak'],\n",
    "                                       'Net Outgoing Rides': [-143, -13139, -5432, 10128, 1851]})\n",
    "chelsea_outgoingt_rush_pltdf = chelsea_outgoingt_rush_pltdf.set_index('Rush Hour')\n",
    "chelsea_outgoingt_rush_pltdf.plot(kind='bar',  figsize = (15,7), fontsize = 14, colormap='coolwarm')\n",
    "plt.ylabel('Net Outgoing Rides', fontsize=12)\n",
    "plt.xlabel('Rush Hour', fontsize=12)\n",
    "plt.title('Hudson Yards-Chelsea-Flatiron-Union Square Outgoing Traffic', fontsize=14)  \n",
    "plt.show();"
   ]
  },
  {
   "cell_type": "code",
   "execution_count": 368,
   "metadata": {},
   "outputs": [
    {
     "data": {
      "text/html": [
       "<div>\n",
       "<style scoped>\n",
       "    .dataframe tbody tr th:only-of-type {\n",
       "        vertical-align: middle;\n",
       "    }\n",
       "\n",
       "    .dataframe tbody tr th {\n",
       "        vertical-align: top;\n",
       "    }\n",
       "\n",
       "    .dataframe thead th {\n",
       "        text-align: right;\n",
       "    }\n",
       "</style>\n",
       "<table border=\"1\" class=\"dataframe\">\n",
       "  <thead>\n",
       "    <tr style=\"text-align: right;\">\n",
       "      <th></th>\n",
       "      <th>nta_name</th>\n",
       "      <th>perc_car_van_truck</th>\n",
       "      <th>perc_carpool</th>\n",
       "      <th>perc_public_transit</th>\n",
       "      <th>perc_walking</th>\n",
       "      <th>perc_other_commuting_means</th>\n",
       "      <th>perc_work_at_home</th>\n",
       "    </tr>\n",
       "  </thead>\n",
       "  <tbody>\n",
       "    <tr>\n",
       "      <td>10</td>\n",
       "      <td>Fordham South</td>\n",
       "      <td>0.131117</td>\n",
       "      <td>0.031878</td>\n",
       "      <td>0.704328</td>\n",
       "      <td>0.076916</td>\n",
       "      <td>0.004582</td>\n",
       "      <td>0.05118</td>\n",
       "    </tr>\n",
       "  </tbody>\n",
       "</table>\n",
       "</div>"
      ],
      "text/plain": [
       "         nta_name  perc_car_van_truck  perc_carpool  perc_public_transit  \\\n",
       "10  Fordham South            0.131117      0.031878             0.704328   \n",
       "\n",
       "    perc_walking  perc_other_commuting_means  perc_work_at_home  \n",
       "10      0.076916                    0.004582            0.05118  "
      ]
     },
     "execution_count": 368,
     "metadata": {},
     "output_type": "execute_result"
    }
   ],
   "source": [
    "fordham_stats_commute_df"
   ]
  },
  {
   "cell_type": "code",
   "execution_count": 370,
   "metadata": {},
   "outputs": [
    {
     "data": {
      "image/png": "[encoded data removed]",
      "text/plain": [
       "<Figure size 432x288 with 1 Axes>"
      ]
     },
     "metadata": {
      "needs_background": "light"
     },
     "output_type": "display_data"
    }
   ],
   "source": [
    "fordham_commute_df = pd.DataFrame({'Method of Commuting':['Car/van/truck','Carpool','Public transit',\n",
    "                                    'Walking','Other','Work at Home'],\n",
    "                                    'Percentage of Residents':[13.1, 3.2, 70.4, \n",
    "                                                               7.7, .4, 5.1]}).set_index('Method of Commuting').sort_values(by='Percentage of Residents')\n",
    "fordham_commute_df2 = plt.barh(range(len(fordham_commute_df)), fordham_commute_df['Percentage of Residents'], color=plt.cm.Accent(np.arange(len(fordham_commute_df))))\n",
    "plt.yticks([5,4,3,2,1,0], ['Public transit',\"Car, van, or truck\",'Walking',\n",
    "                           'Carpool','Work at Home','Other'], fontsize=12)\n",
    "plt.xlabel('Percentage of Residents', fontsize=12)\n",
    "plt.ylabel('Method of Commute', fontsize=12)\n",
    "plt.title('Method of Commute in Fordham South, Bronx', fontsize=14)  \n",
    "plt.show();"
   ]
  },
  {
   "cell_type": "code",
   "execution_count": 361,
   "metadata": {},
   "outputs": [
    {
     "data": {
      "text/html": [
       "<div>\n",
       "<style scoped>\n",
       "    .dataframe tbody tr th:only-of-type {\n",
       "        vertical-align: middle;\n",
       "    }\n",
       "\n",
       "    .dataframe tbody tr th {\n",
       "        vertical-align: top;\n",
       "    }\n",
       "\n",
       "    .dataframe thead th {\n",
       "        text-align: right;\n",
       "    }\n",
       "</style>\n",
       "<table border=\"1\" class=\"dataframe\">\n",
       "  <thead>\n",
       "    <tr style=\"text-align: right;\">\n",
       "      <th></th>\n",
       "      <th>nta_name</th>\n",
       "      <th>perc_mng_biz_sci_arts</th>\n",
       "      <th>perc_service</th>\n",
       "      <th>perc_sales_office</th>\n",
       "      <th>perc_natres_construct_maint</th>\n",
       "      <th>perc_prod_transport_moving</th>\n",
       "    </tr>\n",
       "  </thead>\n",
       "  <tbody>\n",
       "    <tr>\n",
       "      <td>10</td>\n",
       "      <td>Fordham South</td>\n",
       "      <td>0.159637</td>\n",
       "      <td>0.441744</td>\n",
       "      <td>0.22508</td>\n",
       "      <td>0.059864</td>\n",
       "      <td>0.113675</td>\n",
       "    </tr>\n",
       "  </tbody>\n",
       "</table>\n",
       "</div>"
      ],
      "text/plain": [
       "         nta_name  perc_mng_biz_sci_arts  perc_service  perc_sales_office  \\\n",
       "10  Fordham South               0.159637      0.441744            0.22508   \n",
       "\n",
       "    perc_natres_construct_maint  perc_prod_transport_moving  \n",
       "10                     0.059864                    0.113675  "
      ]
     },
     "execution_count": 361,
     "metadata": {},
     "output_type": "execute_result"
    }
   ],
   "source": [
    "fordham_stats_sector_df"
   ]
  },
  {
   "cell_type": "code",
   "execution_count": 365,
   "metadata": {},
   "outputs": [
    {
     "data": {
      "image/png": "[encoded data removed]",
      "text/plain": [
       "<Figure size 432x288 with 1 Axes>"
      ]
     },
     "metadata": {
      "needs_background": "light"
     },
     "output_type": "display_data"
    }
   ],
   "source": [
    "fordham_sector_df = pd.DataFrame({'Sector':[\"Management, Business, Science, Arts\",\n",
    "                                            \"Service\",\"Sales or Office\",\"Natural Resources, Construction, Maintenance\",\n",
    "                                            \"Production, Transportation, Materials Moving\"],\n",
    "                                    'Percentage of Residents':[16, 44.2, 22.5, 6, 11.4]}).set_index('Sector').sort_values(by='Percentage of Residents')\n",
    "fordham_sector_df2 = plt.barh(range(len(fordham_sector_df)), fordham_sector_df['Percentage of Residents'], color=plt.cm.Set2(np.arange(len(fordham_sector_df))))\n",
    "plt.yticks([4,3,2,1,0], ['Service','Sales or Office',\"Management, Business, Science, Arts\",\"Service\",\n",
    "                         \"Production, Transportation, Materials Moving\",\n",
    "                         \"Natural Resources, Construction, Maintenance\"], fontsize=12)\n",
    "plt.xlabel('Percentage of Residents', fontsize=12)\n",
    "plt.ylabel('Sector', fontsize=12)\n",
    "plt.title('Sectors in Fordham South, Bronx', fontsize=14)  \n",
    "plt.show();"
   ]
  },
  {
   "cell_type": "code",
   "execution_count": 366,
   "metadata": {},
   "outputs": [
    {
     "data": {
      "text/html": [
       "<div>\n",
       "<style scoped>\n",
       "    .dataframe tbody tr th:only-of-type {\n",
       "        vertical-align: middle;\n",
       "    }\n",
       "\n",
       "    .dataframe tbody tr th {\n",
       "        vertical-align: top;\n",
       "    }\n",
       "\n",
       "    .dataframe thead th {\n",
       "        text-align: right;\n",
       "    }\n",
       "</style>\n",
       "<table border=\"1\" class=\"dataframe\">\n",
       "  <thead>\n",
       "    <tr style=\"text-align: right;\">\n",
       "      <th></th>\n",
       "      <th>nta_name</th>\n",
       "      <th>perc_hincome_10K_under</th>\n",
       "      <th>perc_hincome_10K_15K</th>\n",
       "      <th>perc_hincome_15K_25K</th>\n",
       "      <th>perc_hincome_25K_35K</th>\n",
       "      <th>perc_hincome_35K_50K</th>\n",
       "      <th>perc_hincome_50K_75K</th>\n",
       "      <th>perc_hincome_75K_100K</th>\n",
       "      <th>perc_hincome_100K_150K</th>\n",
       "      <th>perc_hincome_150K_200K</th>\n",
       "      <th>perc_hincome_200K_more</th>\n",
       "    </tr>\n",
       "  </thead>\n",
       "  <tbody>\n",
       "    <tr>\n",
       "      <td>10</td>\n",
       "      <td>Fordham South</td>\n",
       "      <td>0.203456</td>\n",
       "      <td>0.11204</td>\n",
       "      <td>0.172687</td>\n",
       "      <td>0.101338</td>\n",
       "      <td>0.16243</td>\n",
       "      <td>0.115496</td>\n",
       "      <td>0.076031</td>\n",
       "      <td>0.045151</td>\n",
       "      <td>0.009476</td>\n",
       "      <td>0.001895</td>\n",
       "    </tr>\n",
       "  </tbody>\n",
       "</table>\n",
       "</div>"
      ],
      "text/plain": [
       "         nta_name  perc_hincome_10K_under  perc_hincome_10K_15K  \\\n",
       "10  Fordham South                0.203456               0.11204   \n",
       "\n",
       "    perc_hincome_15K_25K  perc_hincome_25K_35K  perc_hincome_35K_50K  \\\n",
       "10              0.172687              0.101338               0.16243   \n",
       "\n",
       "    perc_hincome_50K_75K  perc_hincome_75K_100K  perc_hincome_100K_150K  \\\n",
       "10              0.115496               0.076031                0.045151   \n",
       "\n",
       "    perc_hincome_150K_200K  perc_hincome_200K_more  \n",
       "10                0.009476                0.001895  "
      ]
     },
     "execution_count": 366,
     "metadata": {},
     "output_type": "execute_result"
    }
   ],
   "source": [
    "fordham_nta_stats_income_brac_df"
   ]
  },
  {
   "cell_type": "code",
   "execution_count": 367,
   "metadata": {},
   "outputs": [
    {
     "data": {
      "image/png": "[encoded data removed]",
      "text/plain": [
       "<Figure size 432x288 with 1 Axes>"
      ]
     },
     "metadata": {
      "needs_background": "light"
     },
     "output_type": "display_data"
    }
   ],
   "source": [
    "flatbush_hincome_df = pd.DataFrame({'Household Income':['$10K and under','$10K-15K','$15K-25K',\n",
    "                                                        '$25K-35K','$35K-50K','$50K-75K','$75K-100K',\n",
    "                                                      '$100K-$150K','$150K-200K','$200K+'],\n",
    "                                    'Percentage of Residents':[20.3, 11.2, 17.3,10.1,16.3, \n",
    "                                                               11.5, 7.6, 4.5, .9, .2]}).set_index('Household Income').sort_values(by='Percentage of Residents')\n",
    "flatbush_hincome_df2 = plt.barh(range(len(flatbush_hincome_df)), flatbush_hincome_df['Percentage of Residents'], color=plt.cm.tab10(np.arange(len(flatbush_hincome_df))))\n",
    "plt.yticks([9,8,7,6,5,4,3,2,1,0], ['$10K and under','$15K-25K','$35K-50K',\n",
    "                                   '$50K-75K','$10K-15K','$25K-35K','$75K-100K',\n",
    "                                   '$100K-$150K','$150K-200K','$200K+'], fontsize=12)\n",
    "plt.xlabel('Percentage of Residents', fontsize=12)\n",
    "plt.ylabel('Household Income', fontsize=12)\n",
    "plt.title('Household Income in Fordham South, Bronx', fontsize=14)  \n",
    "plt.show();"
   ]
  },
  {
   "cell_type": "code",
   "execution_count": null,
   "metadata": {},
   "outputs": [],
   "source": []
  }
 ],
 "metadata": {
  "kernelspec": {
   "display_name": "Python 3",
   "language": "python",
   "name": "python3"
  },
  "language_info": {
   "codemirror_mode": {
    "name": "ipython",
    "version": 3
   },
   "file_extension": ".py",
   "mimetype": "text/x-python",
   "name": "python",
   "nbconvert_exporter": "python",
   "pygments_lexer": "ipython3",
   "version": "3.7.4"
  }
 },
 "nbformat": 4,
 "nbformat_minor": 2
}
