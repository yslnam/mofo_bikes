{
 "cells": [
  {
   "cell_type": "markdown",
   "metadata": {},
   "source": [
    "# Preprocessed Citibike Data: Feature Engineering"
   ]
  },
  {
   "cell_type": "markdown",
   "metadata": {},
   "source": [
    "## Import libraries"
   ]
  },
  {
   "cell_type": "code",
   "execution_count": 1,
   "metadata": {},
   "outputs": [],
   "source": [
    "import numpy as np\n",
    "import pandas as pd\n",
    "import datetime as dt\n",
    "from pandas.api.types import CategoricalDtype"
   ]
  },
  {
   "cell_type": "markdown",
   "metadata": {},
   "source": [
    "## Import and load data"
   ]
  },
  {
   "cell_type": "markdown",
   "metadata": {},
   "source": [
    "Import preprocessed data:"
   ]
  },
  {
   "cell_type": "code",
   "execution_count": 2,
   "metadata": {},
   "outputs": [],
   "source": [
    "cb_raw = pd.read_csv('../../data/02_processed/citibike_final.csv', parse_dates=['starttime', 'stoptime'])"
   ]
  },
  {
   "cell_type": "markdown",
   "metadata": {},
   "source": [
    "Make a copy: "
   ]
  },
  {
   "cell_type": "code",
   "execution_count": 3,
   "metadata": {},
   "outputs": [],
   "source": [
    "cb = cb_raw.copy()"
   ]
  },
  {
   "cell_type": "markdown",
   "metadata": {},
   "source": [
    "## Inspect data frame"
   ]
  },
  {
   "cell_type": "markdown",
   "metadata": {},
   "source": [
    "Get dimensions of data frame and datatypes of each feature:"
   ]
  },
  {
   "cell_type": "code",
   "execution_count": 4,
   "metadata": {},
   "outputs": [
    {
     "name": "stdout",
     "output_type": "stream",
     "text": [
      "<class 'pandas.core.frame.DataFrame'>\n",
      "RangeIndex: 4015035 entries, 0 to 4015034\n",
      "Data columns (total 15 columns):\n",
      "bikeid                   int64\n",
      "birthyear                int64\n",
      "endstationid             int64\n",
      "endstationlatitude       float64\n",
      "endstationlongitude      float64\n",
      "endstationname           object\n",
      "gender                   int64\n",
      "startstationid           int64\n",
      "startstationlatitude     float64\n",
      "startstationlongitude    float64\n",
      "startstationname         object\n",
      "starttime                datetime64[ns]\n",
      "stoptime                 datetime64[ns]\n",
      "tripduration             int64\n",
      "usertype                 object\n",
      "dtypes: datetime64[ns](2), float64(4), int64(6), object(3)\n",
      "memory usage: 459.5+ MB\n"
     ]
    }
   ],
   "source": [
    "cb.info()"
   ]
  },
  {
   "cell_type": "markdown",
   "metadata": {},
   "source": [
    "Randomly sample five observations:"
   ]
  },
  {
   "cell_type": "code",
   "execution_count": 5,
   "metadata": {},
   "outputs": [
    {
     "data": {
      "text/html": [
       "<div>\n",
       "<style scoped>\n",
       "    .dataframe tbody tr th:only-of-type {\n",
       "        vertical-align: middle;\n",
       "    }\n",
       "\n",
       "    .dataframe tbody tr th {\n",
       "        vertical-align: top;\n",
       "    }\n",
       "\n",
       "    .dataframe thead th {\n",
       "        text-align: right;\n",
       "    }\n",
       "</style>\n",
       "<table border=\"1\" class=\"dataframe\">\n",
       "  <thead>\n",
       "    <tr style=\"text-align: right;\">\n",
       "      <th></th>\n",
       "      <th>bikeid</th>\n",
       "      <th>birthyear</th>\n",
       "      <th>endstationid</th>\n",
       "      <th>endstationlatitude</th>\n",
       "      <th>endstationlongitude</th>\n",
       "      <th>endstationname</th>\n",
       "      <th>gender</th>\n",
       "      <th>startstationid</th>\n",
       "      <th>startstationlatitude</th>\n",
       "      <th>startstationlongitude</th>\n",
       "      <th>startstationname</th>\n",
       "      <th>starttime</th>\n",
       "      <th>stoptime</th>\n",
       "      <th>tripduration</th>\n",
       "      <th>usertype</th>\n",
       "    </tr>\n",
       "  </thead>\n",
       "  <tbody>\n",
       "    <tr>\n",
       "      <td>194122</td>\n",
       "      <td>17693</td>\n",
       "      <td>1989</td>\n",
       "      <td>521</td>\n",
       "      <td>40.750450</td>\n",
       "      <td>-73.994811</td>\n",
       "      <td>8 Ave &amp; W 31 St</td>\n",
       "      <td>2</td>\n",
       "      <td>307</td>\n",
       "      <td>40.714275</td>\n",
       "      <td>-73.989900</td>\n",
       "      <td>Canal St &amp; Rutgers St</td>\n",
       "      <td>2013-09-18 19:40:47.000</td>\n",
       "      <td>2013-09-18 20:05:05.000</td>\n",
       "      <td>1458</td>\n",
       "      <td>Subscriber</td>\n",
       "    </tr>\n",
       "    <tr>\n",
       "      <td>2057973</td>\n",
       "      <td>19879</td>\n",
       "      <td>1969</td>\n",
       "      <td>248</td>\n",
       "      <td>40.721854</td>\n",
       "      <td>-74.007718</td>\n",
       "      <td>Laight St &amp; Hudson St</td>\n",
       "      <td>1</td>\n",
       "      <td>79</td>\n",
       "      <td>40.719116</td>\n",
       "      <td>-74.006667</td>\n",
       "      <td>Franklin St &amp; W Broadway</td>\n",
       "      <td>2013-10-23 18:07:10.000</td>\n",
       "      <td>2013-10-23 18:09:47.000</td>\n",
       "      <td>157</td>\n",
       "      <td>Subscriber</td>\n",
       "    </tr>\n",
       "    <tr>\n",
       "      <td>2899049</td>\n",
       "      <td>23327</td>\n",
       "      <td>1900</td>\n",
       "      <td>144</td>\n",
       "      <td>40.698399</td>\n",
       "      <td>-73.980689</td>\n",
       "      <td>Nassau St &amp; Navy St</td>\n",
       "      <td>0</td>\n",
       "      <td>532</td>\n",
       "      <td>40.710451</td>\n",
       "      <td>-73.960876</td>\n",
       "      <td>S 5 Pl &amp; S 4 St</td>\n",
       "      <td>2015-09-27 17:27:55.000</td>\n",
       "      <td>2015-09-27 17:42:27.000</td>\n",
       "      <td>871</td>\n",
       "      <td>Customer</td>\n",
       "    </tr>\n",
       "    <tr>\n",
       "      <td>764721</td>\n",
       "      <td>18378</td>\n",
       "      <td>1989</td>\n",
       "      <td>483</td>\n",
       "      <td>40.732233</td>\n",
       "      <td>-73.988900</td>\n",
       "      <td>E 12 St &amp; 3 Ave</td>\n",
       "      <td>2</td>\n",
       "      <td>495</td>\n",
       "      <td>40.762699</td>\n",
       "      <td>-73.993012</td>\n",
       "      <td>W 47 St &amp; 10 Ave</td>\n",
       "      <td>2015-06-17 20:33:00.000</td>\n",
       "      <td>2015-06-17 20:53:00.000</td>\n",
       "      <td>1212</td>\n",
       "      <td>Subscriber</td>\n",
       "    </tr>\n",
       "    <tr>\n",
       "      <td>133782</td>\n",
       "      <td>32215</td>\n",
       "      <td>1985</td>\n",
       "      <td>3695</td>\n",
       "      <td>40.726870</td>\n",
       "      <td>-73.989190</td>\n",
       "      <td>E 5 St &amp; 2 Ave</td>\n",
       "      <td>1</td>\n",
       "      <td>401</td>\n",
       "      <td>40.720196</td>\n",
       "      <td>-73.989978</td>\n",
       "      <td>Allen St &amp; Rivington St</td>\n",
       "      <td>2018-09-18 17:54:11.716</td>\n",
       "      <td>2018-09-18 17:59:04.922</td>\n",
       "      <td>293</td>\n",
       "      <td>Subscriber</td>\n",
       "    </tr>\n",
       "  </tbody>\n",
       "</table>\n",
       "</div>"
      ],
      "text/plain": [
       "         bikeid  birthyear  endstationid  endstationlatitude  \\\n",
       "194122    17693       1989           521           40.750450   \n",
       "2057973   19879       1969           248           40.721854   \n",
       "2899049   23327       1900           144           40.698399   \n",
       "764721    18378       1989           483           40.732233   \n",
       "133782    32215       1985          3695           40.726870   \n",
       "\n",
       "         endstationlongitude         endstationname  gender  startstationid  \\\n",
       "194122            -73.994811        8 Ave & W 31 St       2             307   \n",
       "2057973           -74.007718  Laight St & Hudson St       1              79   \n",
       "2899049           -73.980689    Nassau St & Navy St       0             532   \n",
       "764721            -73.988900        E 12 St & 3 Ave       2             495   \n",
       "133782            -73.989190         E 5 St & 2 Ave       1             401   \n",
       "\n",
       "         startstationlatitude  startstationlongitude  \\\n",
       "194122              40.714275             -73.989900   \n",
       "2057973             40.719116             -74.006667   \n",
       "2899049             40.710451             -73.960876   \n",
       "764721              40.762699             -73.993012   \n",
       "133782              40.720196             -73.989978   \n",
       "\n",
       "                 startstationname               starttime  \\\n",
       "194122      Canal St & Rutgers St 2013-09-18 19:40:47.000   \n",
       "2057973  Franklin St & W Broadway 2013-10-23 18:07:10.000   \n",
       "2899049           S 5 Pl & S 4 St 2015-09-27 17:27:55.000   \n",
       "764721           W 47 St & 10 Ave 2015-06-17 20:33:00.000   \n",
       "133782    Allen St & Rivington St 2018-09-18 17:54:11.716   \n",
       "\n",
       "                       stoptime  tripduration    usertype  \n",
       "194122  2013-09-18 20:05:05.000          1458  Subscriber  \n",
       "2057973 2013-10-23 18:09:47.000           157  Subscriber  \n",
       "2899049 2015-09-27 17:42:27.000           871    Customer  \n",
       "764721  2015-06-17 20:53:00.000          1212  Subscriber  \n",
       "133782  2018-09-18 17:59:04.922           293  Subscriber  "
      ]
     },
     "execution_count": 5,
     "metadata": {},
     "output_type": "execute_result"
    }
   ],
   "source": [
    "cb.sample(n=5)"
   ]
  },
  {
   "cell_type": "markdown",
   "metadata": {},
   "source": [
    "Check for missing values – there should be none:"
   ]
  },
  {
   "cell_type": "code",
   "execution_count": 6,
   "metadata": {},
   "outputs": [
    {
     "data": {
      "text/plain": [
       "bikeid                   0\n",
       "birthyear                0\n",
       "endstationid             0\n",
       "endstationlatitude       0\n",
       "endstationlongitude      0\n",
       "endstationname           0\n",
       "gender                   0\n",
       "startstationid           0\n",
       "startstationlatitude     0\n",
       "startstationlongitude    0\n",
       "startstationname         0\n",
       "starttime                0\n",
       "stoptime                 0\n",
       "tripduration             0\n",
       "usertype                 0\n",
       "dtype: int64"
      ]
     },
     "execution_count": 6,
     "metadata": {},
     "output_type": "execute_result"
    }
   ],
   "source": [
    "cb.isnull().sum()"
   ]
  },
  {
   "cell_type": "markdown",
   "metadata": {},
   "source": [
    "## Data preprocessing"
   ]
  },
  {
   "cell_type": "markdown",
   "metadata": {},
   "source": [
    "Show unique values per feature:"
   ]
  },
  {
   "cell_type": "code",
   "execution_count": 7,
   "metadata": {},
   "outputs": [
    {
     "data": {
      "text/html": [
       "<div>\n",
       "<style scoped>\n",
       "    .dataframe tbody tr th:only-of-type {\n",
       "        vertical-align: middle;\n",
       "    }\n",
       "\n",
       "    .dataframe tbody tr th {\n",
       "        vertical-align: top;\n",
       "    }\n",
       "\n",
       "    .dataframe thead th {\n",
       "        text-align: right;\n",
       "    }\n",
       "</style>\n",
       "<table border=\"1\" class=\"dataframe\">\n",
       "  <thead>\n",
       "    <tr style=\"text-align: right;\">\n",
       "      <th></th>\n",
       "      <th>Feature</th>\n",
       "      <th>Number of Unique Values</th>\n",
       "    </tr>\n",
       "  </thead>\n",
       "  <tbody>\n",
       "    <tr>\n",
       "      <td>6</td>\n",
       "      <td>gender</td>\n",
       "      <td>3</td>\n",
       "    </tr>\n",
       "    <tr>\n",
       "      <td>14</td>\n",
       "      <td>usertype</td>\n",
       "      <td>3</td>\n",
       "    </tr>\n",
       "    <tr>\n",
       "      <td>1</td>\n",
       "      <td>birthyear</td>\n",
       "      <td>85</td>\n",
       "    </tr>\n",
       "    <tr>\n",
       "      <td>7</td>\n",
       "      <td>startstationid</td>\n",
       "      <td>1050</td>\n",
       "    </tr>\n",
       "    <tr>\n",
       "      <td>2</td>\n",
       "      <td>endstationid</td>\n",
       "      <td>1066</td>\n",
       "    </tr>\n",
       "    <tr>\n",
       "      <td>10</td>\n",
       "      <td>startstationname</td>\n",
       "      <td>1080</td>\n",
       "    </tr>\n",
       "    <tr>\n",
       "      <td>5</td>\n",
       "      <td>endstationname</td>\n",
       "      <td>1098</td>\n",
       "    </tr>\n",
       "    <tr>\n",
       "      <td>9</td>\n",
       "      <td>startstationlongitude</td>\n",
       "      <td>1107</td>\n",
       "    </tr>\n",
       "    <tr>\n",
       "      <td>4</td>\n",
       "      <td>endstationlongitude</td>\n",
       "      <td>1125</td>\n",
       "    </tr>\n",
       "    <tr>\n",
       "      <td>8</td>\n",
       "      <td>startstationlatitude</td>\n",
       "      <td>1183</td>\n",
       "    </tr>\n",
       "    <tr>\n",
       "      <td>3</td>\n",
       "      <td>endstationlatitude</td>\n",
       "      <td>1200</td>\n",
       "    </tr>\n",
       "    <tr>\n",
       "      <td>13</td>\n",
       "      <td>tripduration</td>\n",
       "      <td>15875</td>\n",
       "    </tr>\n",
       "    <tr>\n",
       "      <td>0</td>\n",
       "      <td>bikeid</td>\n",
       "      <td>16899</td>\n",
       "    </tr>\n",
       "    <tr>\n",
       "      <td>11</td>\n",
       "      <td>starttime</td>\n",
       "      <td>3931760</td>\n",
       "    </tr>\n",
       "    <tr>\n",
       "      <td>12</td>\n",
       "      <td>stoptime</td>\n",
       "      <td>3932355</td>\n",
       "    </tr>\n",
       "  </tbody>\n",
       "</table>\n",
       "</div>"
      ],
      "text/plain": [
       "                  Feature  Number of Unique Values\n",
       "6                  gender                        3\n",
       "14               usertype                        3\n",
       "1               birthyear                       85\n",
       "7          startstationid                     1050\n",
       "2            endstationid                     1066\n",
       "10       startstationname                     1080\n",
       "5          endstationname                     1098\n",
       "9   startstationlongitude                     1107\n",
       "4     endstationlongitude                     1125\n",
       "8    startstationlatitude                     1183\n",
       "3      endstationlatitude                     1200\n",
       "13           tripduration                    15875\n",
       "0                  bikeid                    16899\n",
       "11              starttime                  3931760\n",
       "12               stoptime                  3932355"
      ]
     },
     "execution_count": 7,
     "metadata": {},
     "output_type": "execute_result"
    }
   ],
   "source": [
    "pd.DataFrame.from_records([(col, cb[col].nunique()) for col in cb.columns],\n",
    "                          columns=['Feature', 'Number of Unique Values']).sort_values(by=['Number of Unique Values'])"
   ]
  },
  {
   "cell_type": "markdown",
   "metadata": {},
   "source": [
    "### Define features"
   ]
  },
  {
   "cell_type": "markdown",
   "metadata": {},
   "source": [
    "Define numerical features:"
   ]
  },
  {
   "cell_type": "code",
   "execution_count": 8,
   "metadata": {},
   "outputs": [],
   "source": [
    "map_feat = ['endstationlatitude','endstationlongitude','startstationlatitude','startstationlongitude']\n",
    "datetime_feat = ['birthyear','starttime', 'stoptime']\n",
    "cont_feat = map_feat + datetime_feat + ['tripduration']"
   ]
  },
  {
   "cell_type": "markdown",
   "metadata": {},
   "source": [
    "Define categorical features:"
   ]
  },
  {
   "cell_type": "code",
   "execution_count": 9,
   "metadata": {},
   "outputs": [],
   "source": [
    "num_nom_feat = ['bikeid','endstationid','startstationid','gender']\n",
    "cat_nom_feat = ['endstationname','startstationname','usertype']\n",
    "nom_feat = num_nom_feat + cat_nom_feat"
   ]
  },
  {
   "cell_type": "markdown",
   "metadata": {},
   "source": [
    "### Perform datatype conversions"
   ]
  },
  {
   "cell_type": "markdown",
   "metadata": {},
   "source": [
    "Convert to datetime format:"
   ]
  },
  {
   "cell_type": "code",
   "execution_count": 10,
   "metadata": {},
   "outputs": [],
   "source": [
    "cb['birthyear'] = pd.to_datetime(cb.birthyear, format='%Y')"
   ]
  },
  {
   "cell_type": "markdown",
   "metadata": {},
   "source": [
    "Convert features to `float16` or `int16` to reduce memory:"
   ]
  },
  {
   "cell_type": "code",
   "execution_count": 11,
   "metadata": {},
   "outputs": [],
   "source": [
    "float_to_int = ['startstationid','endstationid','tripduration','bikeid','gender']\n",
    "\n",
    "cb[float_to_int] = cb[float_to_int].apply(lambda x: x.astype('int16'))"
   ]
  },
  {
   "cell_type": "markdown",
   "metadata": {},
   "source": [
    "Convert untreated nominal features to categorical datatype to reduce memory:"
   ]
  },
  {
   "cell_type": "code",
   "execution_count": 12,
   "metadata": {},
   "outputs": [],
   "source": [
    "cb[cat_nom_feat] = cb[cat_nom_feat].apply(lambda x: x.astype('category'))"
   ]
  },
  {
   "cell_type": "markdown",
   "metadata": {},
   "source": [
    "Check for successful datatype conversion and reduction in memory:"
   ]
  },
  {
   "cell_type": "code",
   "execution_count": 13,
   "metadata": {
    "scrolled": true
   },
   "outputs": [
    {
     "name": "stdout",
     "output_type": "stream",
     "text": [
      "<class 'pandas.core.frame.DataFrame'>\n",
      "RangeIndex: 4015035 entries, 0 to 4015034\n",
      "Data columns (total 15 columns):\n",
      "bikeid                   int16\n",
      "birthyear                datetime64[ns]\n",
      "endstationid             int16\n",
      "endstationlatitude       float64\n",
      "endstationlongitude      float64\n",
      "endstationname           category\n",
      "gender                   int16\n",
      "startstationid           int16\n",
      "startstationlatitude     float64\n",
      "startstationlongitude    float64\n",
      "startstationname         category\n",
      "starttime                datetime64[ns]\n",
      "stoptime                 datetime64[ns]\n",
      "tripduration             int16\n",
      "usertype                 category\n",
      "dtypes: category(3), datetime64[ns](3), float64(4), int16(5)\n",
      "memory usage: 272.0 MB\n"
     ]
    }
   ],
   "source": [
    "cb.info()"
   ]
  },
  {
   "cell_type": "markdown",
   "metadata": {},
   "source": [
    "## Feature engineering"
   ]
  },
  {
   "cell_type": "markdown",
   "metadata": {},
   "source": [
    "### Imputation"
   ]
  },
  {
   "cell_type": "code",
   "execution_count": 14,
   "metadata": {},
   "outputs": [
    {
     "data": {
      "text/plain": [
       "startstationid  startstationname               startstationlatitude  startstationlongitude\n",
       "72              W 52 St & 11 Ave               40.767272             -73.993929               10161\n",
       "79              Franklin St & W Broadway       40.719116             -74.006667                7828\n",
       "82              St James Pl & Pearl St         40.711174             -74.000165                3249\n",
       "83              Atlantic Ave & Fort Greene Pl  40.683826             -73.976323                4079\n",
       "116             W 17 St & 8 Ave                40.741776             -74.001497               12170\n",
       "                                                                                              ...  \n",
       "3910            Greene Ave & Grandview Ave     40.709697             -73.907856                   1\n",
       "3911            Wyckoff St & Nevins St         40.683426             -73.984275                   8\n",
       "3916            Pearl St & Peck Slip           40.708485             -74.002751                   7\n",
       "3917            Willoughby St & Ashland Pl     40.691780             -73.978770                   3\n",
       "3918            Avenue D & E 8 St              40.723870             -73.975767                   2\n",
       "Length: 1227, dtype: int64"
      ]
     },
     "execution_count": 14,
     "metadata": {},
     "output_type": "execute_result"
    }
   ],
   "source": [
    "cb.groupby(['startstationid', 'startstationname', 'startstationlatitude', 'startstationlongitude']).size()"
   ]
  },
  {
   "cell_type": "markdown",
   "metadata": {},
   "source": [
    "Recompute station coordinates to correct inconsistencies:"
   ]
  },
  {
   "cell_type": "code",
   "execution_count": 15,
   "metadata": {},
   "outputs": [],
   "source": [
    "end_coords = ['endstationid','endstationname','endstationlatitude','endstationlongitude']\n",
    "start_coords = ['startstationid','startstationname','startstationlatitude','startstationlongitude']"
   ]
  },
  {
   "cell_type": "code",
   "execution_count": 16,
   "metadata": {},
   "outputs": [],
   "source": [
    "stn3240_lat = cb[end_coords].loc[(cb['endstationid'] == 3240) & (cb['endstationlatitude'] != 40.750)].iloc[0][2]\n",
    "stn3240_lon = cb[end_coords].loc[(cb['endstationid'] == 3240) & (cb['endstationlatitude'] != 74.0)].iloc[0][3]"
   ]
  },
  {
   "cell_type": "code",
   "execution_count": 17,
   "metadata": {},
   "outputs": [],
   "source": [
    "cb.loc[cb['endstationlatitude'] == 40.75000, 'endstationlatitude'] = stn3240_lat\n",
    "cb.loc[cb['endstationlongitude'] == -74.0, 'endstationlongitude'] = stn3240_lon\n",
    "cb.loc[cb['startstationlongitude']== -74.0, 'startstationlongitude'] = stn3240_lon\n",
    "cb.loc[cb['startstationlatitude'] == 40.75000, 'startstationlatitude'] = stn3240_lat"
   ]
  },
  {
   "cell_type": "markdown",
   "metadata": {},
   "source": [
    "### Distance features"
   ]
  },
  {
   "cell_type": "markdown",
   "metadata": {},
   "source": [
    "Define helper function to calculate distance between coordinates:"
   ]
  },
  {
   "cell_type": "code",
   "execution_count": 18,
   "metadata": {},
   "outputs": [],
   "source": [
    "from pyproj import Geod\n",
    "\n",
    "def calc_vincenty_dist(lat1, lon1, lat2, lon2): \n",
    "    az12, az21, dist = Geod(ellps='WGS84').inv(lon1, lat1, lon2, lat2)\n",
    "    return dist"
   ]
  },
  {
   "cell_type": "code",
   "execution_count": 19,
   "metadata": {},
   "outputs": [],
   "source": [
    "# Haversine & inclination 29 degrees to True north\n",
    "# Credits: https://www.movable-type.co.uk/scripts/latlong.html,\n",
    "# https://gist.github.com/jkAtGitHub/8ae7da4d5dacb9969bff43500b5efbc0#file-manhattan_dist-py\n",
    "def calc_haversine_dist(lat1, lon1, lat2, lon2):\n",
    "    lat1, lat2, lon1, lon2 = np.radians(lat1), np.radians(lat2), np.radians(lon1), np.radians(lon2)\n",
    "    dlat, dlon = lat2 - lat1, lon2 - lon1\n",
    "    r = 3963 # Earth's radius in miles\n",
    "    \n",
    "    a = np.sin(dlat/2)**2 + np.cos(lat1) * np.cos(lat2) * np.sin(dlon/2)**2\n",
    "    c = 2 * np.arctan2(np.sqrt(a), np.sqrt(1-a)) \n",
    "    \n",
    "    total_dist = r * c\n",
    "    return total_dist\n",
    "\n",
    "def calc_manh_disth(lat1, lon1, lat2, lon2):\n",
    "    start = np.stack([lat1, lon1], axis=1)\n",
    "    end = np.stack([lat2, lon2], axis=1)\n",
    "    \n",
    "    theta1, theta2 = np.radians(-28.904), np.radians(28.904)\n",
    "    rmat1 = np.array([[np.cos(theta1), np.sin(theta1)], \n",
    "                      [-np.sin(theta1), np.cos(theta1)]])\n",
    "    rmat2 = np.array([[np.cos(theta2), np.sin(theta2)], \n",
    "                      [-np.sin(theta2), np.cos(theta2)]])\n",
    "    \n",
    "    start_rot = rmat1 @ start.T\n",
    "    end_rot = rmat1 @ end.T\n",
    "    \n",
    "    hinge = np.stack((start_rot[0,:], end_rot[1,:]))\n",
    "    hinge_coords = rmat2 @ hinge\n",
    "    \n",
    "    manh_dist = calc_haversine_dist(start.T[0], start.T[1], hinge_coords[0], hinge_coords[1]) + calc_haversine_dist(hinge_coords[0], hinge_coords[1], end.T[0], end.T[1])\n",
    "    return manh_dist\n",
    "\n",
    "# Unused functions -----------------------------------------------\n",
    "# # Cartesian Coordinate system, output in latlong dist\n",
    "# def calc_manh_distc(lat, lon):\n",
    "#     return sum(abs(lat_i-lat_j) for lat_i, lat_j in zip(lat, lon))"
   ]
  },
  {
   "cell_type": "markdown",
   "metadata": {},
   "source": [
    "Create new features, `vicentydistance` and `manhdistance` (both in miles):"
   ]
  },
  {
   "cell_type": "code",
   "execution_count": 20,
   "metadata": {},
   "outputs": [],
   "source": [
    "cb['vicentydistance'] = calc_vincenty_dist(cb.startstationlatitude.tolist(), \n",
    "                                        cb.startstationlongitude.tolist(),\n",
    "                                        cb.endstationlatitude.tolist(),\n",
    "                                        cb.endstationlongitude.tolist())\n",
    "cb['vicentydistance'] = cb['vicentydistance'].apply(lambda x: x*0.000621371) # Convert from meters to miles"
   ]
  },
  {
   "cell_type": "code",
   "execution_count": 21,
   "metadata": {},
   "outputs": [],
   "source": [
    "cb['manhdistance'] = calc_manh_disth(cb.startstationlatitude,\n",
    "                                     cb.startstationlongitude,\n",
    "                                     cb.endstationlatitude,\n",
    "                                     cb.endstationlongitude)"
   ]
  },
  {
   "cell_type": "markdown",
   "metadata": {},
   "source": [
    "### Datetime features"
   ]
  },
  {
   "cell_type": "markdown",
   "metadata": {},
   "source": [
    "Create new features, `startmonth` and `endmonth`:"
   ]
  },
  {
   "cell_type": "code",
   "execution_count": 22,
   "metadata": {},
   "outputs": [],
   "source": [
    "cb['startmonth'] = cb['starttime'].dt.month.astype('int16')\n",
    "cb['stopmonth'] = cb['stoptime'].dt.month.astype('int16')"
   ]
  },
  {
   "cell_type": "markdown",
   "metadata": {},
   "source": [
    "Create new features for days of week, `startdayname` (numerical code: `startday`), `enddayname` (numerical code: `stopday`), `startdaytype`, and `startendtype`:"
   ]
  },
  {
   "cell_type": "code",
   "execution_count": 23,
   "metadata": {},
   "outputs": [],
   "source": [
    "cb['startdayname'] = cb['starttime'].dt.day_name().astype('category')\n",
    "cb['startday'] = cb['starttime'].dt.dayofweek.astype('int16')\n",
    "cb['stopdayname'] = cb['stoptime'].dt.day_name().astype('category')\n",
    "cb['stopday'] = cb['stoptime'].dt.dayofweek.astype('int16')"
   ]
  },
  {
   "cell_type": "code",
   "execution_count": 24,
   "metadata": {},
   "outputs": [],
   "source": [
    "start_weekday_conds = [(cb.startday >= 0) & (cb.startday < 5), (cb.startday >= 5) & (cb.startday < 7)]\n",
    "end_weekday_conds = [(cb.startday >= 0) & (cb.startday < 5), (cb.startday >= 5) & (cb.startday < 7)]\n",
    "day_type_labels = ['Weekday','Weekend']"
   ]
  },
  {
   "cell_type": "code",
   "execution_count": 25,
   "metadata": {},
   "outputs": [],
   "source": [
    "cb['startdaytype'] = np.select(start_weekday_conds, day_type_labels)\n",
    "cb['startdaytype'] = cb['startdaytype'].astype('category')"
   ]
  },
  {
   "cell_type": "code",
   "execution_count": 26,
   "metadata": {},
   "outputs": [],
   "source": [
    "cb['enddaytype'] = np.select(end_weekday_conds, day_type_labels)\n",
    "cb['enddaytype'] = cb['enddaytype'].astype('category')"
   ]
  },
  {
   "cell_type": "markdown",
   "metadata": {},
   "source": [
    "Create new features, `starthour` and `endhour`:"
   ]
  },
  {
   "cell_type": "code",
   "execution_count": 27,
   "metadata": {},
   "outputs": [],
   "source": [
    "cb['starthour'] = cb['starttime'].dt.hour.astype('int16')\n",
    "cb['endhour'] = cb['stoptime'].dt.hour.astype('int16')"
   ]
  },
  {
   "cell_type": "markdown",
   "metadata": {},
   "source": [
    "Create new feature, `rushhour` (as defined by MTA):"
   ]
  },
  {
   "cell_type": "code",
   "execution_count": 28,
   "metadata": {},
   "outputs": [],
   "source": [
    "start_rushhour_conds = [(cb.starthour >= 0) & (cb.starthour < 6), \n",
    "                       (cb.starthour >= 6) & (cb.starthour < 10),\n",
    "                       (cb.starthour >= 10) & (cb.starthour < 15),\n",
    "                       (cb.starthour >= 15) & (cb.starthour < 21),\n",
    "                       (cb.starthour >= 21) & (cb.starthour <= 23)]\n",
    "end_rushhour_conds = [(cb.endhour >= 0) & (cb.endhour < 6), \n",
    "                       (cb.endhour >= 6) & (cb.endhour < 10),\n",
    "                       (cb.endhour >= 10) & (cb.endhour < 15),\n",
    "                       (cb.endhour >= 15) & (cb.endhour < 21),\n",
    "                       (cb.endhour >= 21) & (cb.endhour <= 23)]\n",
    "rushhour_labels = ['Morning Off-Peak', 'Morning Rush', 'Afternoon Off-Peak', 'Afternoon Rush','Evening Off-Peak']"
   ]
  },
  {
   "cell_type": "code",
   "execution_count": 29,
   "metadata": {},
   "outputs": [],
   "source": [
    "cb['startrushhour'] = np.select(start_rushhour_conds, rushhour_labels)\n",
    "cb['startrushhour'] = cb['startrushhour'].astype('category')"
   ]
  },
  {
   "cell_type": "code",
   "execution_count": 30,
   "metadata": {},
   "outputs": [],
   "source": [
    "cb['endrushhour'] = np.select(start_rushhour_conds, rushhour_labels)\n",
    "cb['endrushhour'] = cb['startrushhour'].astype('category')"
   ]
  },
  {
   "cell_type": "markdown",
   "metadata": {},
   "source": [
    "Create new features, `starttimeofday` and `endtimeofday`:"
   ]
  },
  {
   "cell_type": "code",
   "execution_count": 31,
   "metadata": {},
   "outputs": [],
   "source": [
    "start_timeofday_conds = [(cb.starthour >= 6) & (cb.starthour < 12), \n",
    "                         (cb.starthour >= 12) & (cb.starthour < 17),\n",
    "                         (cb.starthour >= 17) & (cb.starthour < 20),\n",
    "                         ((cb.starthour >= 20) & (cb.starthour < 23)) | (cb.starthour == 0)]\n",
    "end_timeofday_conds = [(cb.endhour >= 6) & (cb.endhour < 12), \n",
    "                       (cb.endhour >= 12) & (cb.endhour < 17),\n",
    "                       (cb.endhour >= 17) & (cb.endhour < 20),\n",
    "                       ((cb.endhour >= 20) & (cb.endhour < 23)) | (cb.endhour == 0)]\n",
    "timeofday_labels = ['Morning (6AM-11:59PM)', 'Afternoon (12PM-4:59PM)', 'Evening (5-7:59PM)', 'Night (8PM-5:59AM)']"
   ]
  },
  {
   "cell_type": "code",
   "execution_count": 32,
   "metadata": {},
   "outputs": [],
   "source": [
    "cb['starttimeofday'] = np.select(start_timeofday_conds, timeofday_labels)\n",
    "cb['starttimeofday'] = cb['starttimeofday'].astype('category')"
   ]
  },
  {
   "cell_type": "code",
   "execution_count": 33,
   "metadata": {},
   "outputs": [],
   "source": [
    "cb['endtimeofday'] = np.select(end_timeofday_conds, timeofday_labels)\n",
    "cb['endtimeofday'] = cb['endtimeofday'].astype('category')"
   ]
  },
  {
   "cell_type": "markdown",
   "metadata": {},
   "source": [
    "### Demographic features"
   ]
  },
  {
   "cell_type": "markdown",
   "metadata": {},
   "source": [
    "Create new features, `age_at_ride` and `age_group`:"
   ]
  },
  {
   "cell_type": "code",
   "execution_count": 34,
   "metadata": {},
   "outputs": [],
   "source": [
    "cb['age_at_ride'] = cb['starttime'].dt.year.astype('int16') - cb['birthyear'].dt.year.astype('int16')\n",
    "cb['age_at_ride'] = cb['age_at_ride'].astype('int16')"
   ]
  },
  {
   "cell_type": "code",
   "execution_count": 35,
   "metadata": {},
   "outputs": [
    {
     "data": {
      "text/plain": [
       "count    17339\n",
       "mean        44\n",
       "std         22\n",
       "min         16\n",
       "25%         30\n",
       "50%         37\n",
       "75%         50\n",
       "max        120\n",
       "Name: age_at_ride, dtype: int16"
      ]
     },
     "execution_count": 35,
     "metadata": {},
     "output_type": "execute_result"
    }
   ],
   "source": [
    "cb['age_at_ride'].describe().astype('int16')"
   ]
  },
  {
   "cell_type": "code",
   "execution_count": 36,
   "metadata": {},
   "outputs": [],
   "source": [
    "age_groups_conds = [(cb.age_at_ride >= 16) & (cb.age_at_ride < 20), \n",
    "                    (cb.age_at_ride >= 20) & (cb.age_at_ride < 30),\n",
    "                    (cb.age_at_ride >= 30) & (cb.age_at_ride < 40),\n",
    "                    (cb.age_at_ride >= 40) & (cb.age_at_ride < 50),\n",
    "                    (cb.age_at_ride >= 50) & (cb.age_at_ride < 60),\n",
    "                    (cb.age_at_ride >= 60) & (cb.age_at_ride <= 120)]\n",
    "age_groups_labels = ['Teens (16-19)', '20s', '30s', '40s', '50s', '60s+']"
   ]
  },
  {
   "cell_type": "code",
   "execution_count": 37,
   "metadata": {},
   "outputs": [],
   "source": [
    "cb['age_group'] = np.select(age_groups_conds, age_groups_labels)\n",
    "cb['age_group'] = cb['age_group'].astype('category')"
   ]
  },
  {
   "cell_type": "markdown",
   "metadata": {},
   "source": [
    "### Geographic features"
   ]
  },
  {
   "cell_type": "markdown",
   "metadata": {},
   "source": [
    "Create new features, `startboro`, `endboro`, `startneighborhood`, and `endneighborhood`:"
   ]
  },
  {
   "cell_type": "code",
   "execution_count": 38,
   "metadata": {},
   "outputs": [],
   "source": [
    "from geopy.geocoders import Nominatim\n",
    "from geopy.extra.rate_limiter import RateLimiter\n",
    "from tqdm._tqdm_notebook import tqdm_notebook"
   ]
  },
  {
   "cell_type": "code",
   "execution_count": 39,
   "metadata": {},
   "outputs": [],
   "source": [
    "cb['startcoords'] = list(zip(cb.startstationlatitude, cb.startstationlongitude))\n",
    "cb['endcoords'] = list(zip(cb.endstationlatitude, cb.endstationlongitude))"
   ]
  },
  {
   "cell_type": "code",
   "execution_count": 40,
   "metadata": {},
   "outputs": [
    {
     "name": "stdout",
     "output_type": "stream",
     "text": [
      "1182\n",
      "1199\n"
     ]
    }
   ],
   "source": [
    "print(cb['startcoords'].nunique())\n",
    "print(cb['endcoords'].nunique())"
   ]
  },
  {
   "cell_type": "markdown",
   "metadata": {},
   "source": [
    "Create data frame `unique_coords` consisting of unique coordinates for reverse geocoding processing:"
   ]
  },
  {
   "cell_type": "code",
   "execution_count": 41,
   "metadata": {},
   "outputs": [],
   "source": [
    "end_coords = end_coords + ['endcoords']\n",
    "start_coords = start_coords + ['startcoords']\n",
    "coords_all = end_coords + start_coords"
   ]
  },
  {
   "cell_type": "code",
   "execution_count": 42,
   "metadata": {},
   "outputs": [],
   "source": [
    "unique_startcoords = pd.DataFrame(cb[start_coords].groupby(['startstationid', 'startcoords']).size()).reset_index()\n",
    "unique_startcoords.columns = ['startstationid','startcoords','todrop']\n",
    "unique_startcoords.drop(columns=['todrop'], inplace=True)"
   ]
  },
  {
   "cell_type": "code",
   "execution_count": 43,
   "metadata": {},
   "outputs": [],
   "source": [
    "unique_endcoords = pd.DataFrame(cb[end_coords].groupby(['endstationid', 'endcoords']).size()).reset_index()\n",
    "unique_endcoords.columns = ['endstationid','endcoords','todrop']\n",
    "unique_endcoords.drop(columns=['todrop'], inplace=True)"
   ]
  },
  {
   "cell_type": "code",
   "execution_count": 44,
   "metadata": {},
   "outputs": [],
   "source": [
    "unique_coords = pd.concat([unique_startcoords, unique_endcoords], axis=1)"
   ]
  },
  {
   "cell_type": "markdown",
   "metadata": {},
   "source": [
    "Reverse geocode station coordinates for borough and neighborhood:"
   ]
  },
  {
   "cell_type": "code",
   "execution_count": 45,
   "metadata": {},
   "outputs": [],
   "source": [
    "geolocator = Nominatim(user_agent='myGeocoder', timeout=10)\n",
    "rgeoloc = RateLimiter(geolocator.reverse, min_delay_seconds=5)"
   ]
  },
  {
   "cell_type": "code",
   "execution_count": 46,
   "metadata": {},
   "outputs": [
    {
     "data": {
      "application/vnd.jupyter.widget-view+json": {
       "model_id": "508a1f9d2ca741fe8da39be8ad53521d",
       "version_major": 2,
       "version_minor": 0
      },
      "text/plain": [
       "HBox(children=(IntProgress(value=1, bar_style='info', max=1), HTML(value='')))"
      ]
     },
     "metadata": {},
     "output_type": "display_data"
    },
    {
     "name": "stderr",
     "output_type": "stream",
     "text": [
      "/opt/anaconda3/lib/python3.7/site-packages/tqdm/std.py:648: FutureWarning: The Panel class is removed from pandas. Accessing it from the top-level namespace will also be removed in the next version\n",
      "  from pandas import Panel\n"
     ]
    }
   ],
   "source": [
    "tqdm_notebook().pandas(desc='Progress Bar')"
   ]
  },
  {
   "cell_type": "code",
   "execution_count": 47,
   "metadata": {},
   "outputs": [],
   "source": [
    "# unique_coords['endaddress'] = unique_coords['endcoords'].progress_apply(rgeoloc)"
   ]
  },
  {
   "cell_type": "code",
   "execution_count": 48,
   "metadata": {},
   "outputs": [],
   "source": [
    "# unique_coords['startaddress'] = unique_coords['startcoords'].dropna().progress_apply(rgeoloc)"
   ]
  },
  {
   "cell_type": "markdown",
   "metadata": {},
   "source": [
    "Save as temporary .csv file to avoid running reverse geocoding again:"
   ]
  },
  {
   "cell_type": "code",
   "execution_count": 49,
   "metadata": {},
   "outputs": [],
   "source": [
    "# unique_coords.to_csv('../../data/02_processed/unique_coords.csv')"
   ]
  },
  {
   "cell_type": "markdown",
   "metadata": {},
   "source": [
    "Define helper function:"
   ]
  },
  {
   "cell_type": "code",
   "execution_count": 50,
   "metadata": {},
   "outputs": [],
   "source": [
    "import re"
   ]
  },
  {
   "cell_type": "code",
   "execution_count": 51,
   "metadata": {},
   "outputs": [],
   "source": [
    "def pattern_searcher(search_str:str, search_list:str):\n",
    "    search_obj = re.search(search_list, search_str)\n",
    "    if search_obj :\n",
    "        return_str = search_str[search_obj.start(): search_obj.end()]\n",
    "    else:\n",
    "        return_str = 'NA'\n",
    "    return return_str"
   ]
  },
  {
   "cell_type": "markdown",
   "metadata": {},
   "source": [
    "Extract neighborhood and borough from `startaddress` and `endaddress`:"
   ]
  },
  {
   "cell_type": "code",
   "execution_count": 52,
   "metadata": {},
   "outputs": [],
   "source": [
    "# RUN THIS INSTEAD OF REVERSE GEOCODING\n",
    "unique_coords = pd.read_csv('../../data/02_processed/unique_coords.csv')\n",
    "unique_coords = unique_coords.drop(columns=['Unnamed: 0'])\n",
    "unique_coords['startaddress'] = unique_coords['startaddress'].astype(str)"
   ]
  },
  {
   "cell_type": "code",
   "execution_count": 53,
   "metadata": {},
   "outputs": [],
   "source": [
    "m_hoods = [\"Lower West Side\",\"Financial District\",\"Lower East Side\",\"Tribeca\",\n",
    "           \"East Village\",\"Alphabet City\",\"Stuy Town\",\"Peter Cooper Village\",\n",
    "           \"Hudson Square\",\"SoHo\",\"Nolita\",\"Lower Manhattan\",\"Little Italy\", \"NoHo\",\n",
    "           \"Greenwich Village\",\"West Village\",\"Kips Bay\",\"Murray Hill\",\"Gramercy\",\n",
    "           \"Hell's Kitchen\",\"East Village\",\"Upper East Side\",\"Upper West Side\",\n",
    "           \"NoMad\",\"Chinatown\",\"Korea Town\",\"Midtown\",\"Midtown West\",\"Midtown East\",\n",
    "           \"Midtown South\",\"Lincoln Square\",\"Theater District\",\"Chelsea\",\"Harlem\",\n",
    "           \"East Harlem\",\"Garment District\",\"Meatpacking District\",\"Battery Park City\",\n",
    "           \"Lenox Hill\",\"Tudor City\",\"Five Points\",\"Turtle Bay\",\"Yorkville\",\n",
    "           \"Carnegie Hill\",\"Manhattanville\",\"Manhattan Valley\",\"Columbus Circle\",\n",
    "           \"Two Bridges\",\"Broadway\",\"Morningside Heights\"]\n",
    "\n",
    "bk_hoods = [\"Bay Ridge\", \"Sunset Park\", \"Bensonhurst\", \"Sheepshead Bay\",\n",
    "            \"Borough Park\", \"Midwood\", \"Flatbush\", \"East Flatbush\",\n",
    "            \"Park Slope\", \"East New York\", \"Bedford-Stuyvesant\", \n",
    "            \"Williamsburg\", \"Greenpoint\", \"Red Hook\", \"Downtown Brooklyn\",\n",
    "            \"DUMBO\", \"Brownsville\", \"Prospect Park\", \"Fort Hamilton\", \n",
    "            \"Cypress Hills\", \"Bushwick\", \"Canarsie\", \"Brooklyn Heights\",\n",
    "            \"Cobble Hill\",\"Canarsie\",\"Bergen Beach\",\"Flatlands\",\"Bronwsville\",\n",
    "            \"Crown Heights\",\"Brooklyn Navy Yard\",\"Boerum Hill\",\"Caroll Gardens\",\n",
    "            \"Gowanus\",\"Sunset Park\",\"Coney Island\",\"Gravesend\",\"Fort Hamilton\",\n",
    "            \"Prospect Heights\",\"Fort Greene\",\"Broadway Junction\",\"Clinton Hill\",\n",
    "            \"Ocean Hill\",\"Kings County\",\"Nolan Park\",\"Columbia Street Waterfront District\"]\n",
    "\n",
    "q_hoods = [\"Astoria\", \"Long Island City\", \"Steinway\", \"Ridgewood\", \"Woodside\", \n",
    "           \"Elmhurst\", \"Jackson Heights\", \"Corona\", \"Murray Hill\", \"Flushing\", \n",
    "           \"Kew Gardens\", \"Fresh Meadows\", \"Jamaica\", \"Bayside\", \"Whitestone\",\n",
    "           \"Sunnyside\",\"Rego Park\",\"Bayside\",\"Maspeth\",\"Queens County\"]\n",
    "\n",
    "nj_hoods = [\"Downtown Jersey City\",\"Communipaw\",\"Newark\",\"Bergen\",\"Hoboken\",\n",
    "            \"Newport\",\"Grand Street\",\"Hudson Street\",\"Indian Square\",\"Colgate Center\",\n",
    "           \"Croxton\"]\n",
    "\n",
    "all_hoods = m_hoods + bk_hoods + q_hoods + nj_hoods\n",
    "\n",
    "boros_plus = ['Manhattan','Brooklyn','Bronx','Queens','Staten Island','Jersey City']"
   ]
  },
  {
   "cell_type": "code",
   "execution_count": 54,
   "metadata": {},
   "outputs": [
    {
     "name": "stdout",
     "output_type": "stream",
     "text": [
      "\n"
     ]
    }
   ],
   "source": [
    "all_pattern = '|'.join(all_hoods)\n",
    "boros_pattern = '|'.join(boros_plus)\n",
    "\n",
    "unique_coords['startneighborhood'] = unique_coords['startaddress'].apply(lambda x: pattern_searcher(search_str=x, search_list=all_pattern))\n",
    "unique_coords['endneighborhood'] = unique_coords['endaddress'].apply(lambda x: pattern_searcher(search_str=x, search_list=all_pattern))"
   ]
  },
  {
   "cell_type": "code",
   "execution_count": 55,
   "metadata": {},
   "outputs": [],
   "source": [
    "unique_coords['startboro'] = unique_coords['startaddress'].apply(lambda x: pattern_searcher(search_str=x, search_list=boros_pattern))\n",
    "unique_coords['endboro'] = unique_coords['endaddress'].apply(lambda x: pattern_searcher(search_str=x, search_list=boros_pattern))"
   ]
  },
  {
   "cell_type": "code",
   "execution_count": 56,
   "metadata": {},
   "outputs": [],
   "source": [
    "unique_coords.to_csv('../../data/02_processed/unique_coords_final_v2.csv')"
   ]
  },
  {
   "cell_type": "code",
   "execution_count": 57,
   "metadata": {},
   "outputs": [],
   "source": [
    "unique_coords['startstationid'] = unique_coords['startstationid'].fillna(0).astype('int16')"
   ]
  },
  {
   "cell_type": "markdown",
   "metadata": {},
   "source": [
    "Create dictionaries to conditionally map values of `unique_coords` onto `cb`:"
   ]
  },
  {
   "cell_type": "code",
   "execution_count": 58,
   "metadata": {},
   "outputs": [],
   "source": [
    "cb_master = cb.copy()"
   ]
  },
  {
   "cell_type": "code",
   "execution_count": 59,
   "metadata": {},
   "outputs": [],
   "source": [
    "cb_master['startneighborhood'] = cb_master['startstationid']\n",
    "cb_master['endneighborhood'] = cb_master['endstationid']"
   ]
  },
  {
   "cell_type": "code",
   "execution_count": 60,
   "metadata": {},
   "outputs": [],
   "source": [
    "sstnid_hood_dict = dict(unique_coords[['startstationid','startneighborhood']].values)\n",
    "cb_master['startneighborhood'] = cb_master.startneighborhood.map(sstnid_hood_dict)"
   ]
  },
  {
   "cell_type": "code",
   "execution_count": 61,
   "metadata": {},
   "outputs": [],
   "source": [
    "estnid_hood_dict = dict(unique_coords[['endstationid','endneighborhood']].values)\n",
    "cb_master['endneighborhood'] = cb_master.endneighborhood.map(estnid_hood_dict)"
   ]
  },
  {
   "cell_type": "code",
   "execution_count": 62,
   "metadata": {},
   "outputs": [],
   "source": [
    "cb_master['startboro'] = cb_master['startneighborhood']\n",
    "cb_master['endboro'] = cb_master['startneighborhood']"
   ]
  },
  {
   "cell_type": "code",
   "execution_count": 63,
   "metadata": {},
   "outputs": [],
   "source": [
    "shood_boro_dict = dict(unique_coords[['startneighborhood','startboro']].values)\n",
    "cb_master['startboro'] = cb_master.startboro.map(shood_boro_dict)"
   ]
  },
  {
   "cell_type": "code",
   "execution_count": 64,
   "metadata": {},
   "outputs": [],
   "source": [
    "ehood_boro_dict = dict(unique_coords[['endneighborhood','endboro']].values)\n",
    "cb_master['endboro'] = cb_master.endboro.map(ehood_boro_dict)"
   ]
  },
  {
   "cell_type": "code",
   "execution_count": 65,
   "metadata": {},
   "outputs": [
    {
     "data": {
      "text/plain": [
       "bikeid                   0\n",
       "birthyear                0\n",
       "endstationid             0\n",
       "endstationlatitude       0\n",
       "endstationlongitude      0\n",
       "endstationname           0\n",
       "gender                   0\n",
       "startstationid           0\n",
       "startstationlatitude     0\n",
       "startstationlongitude    0\n",
       "startstationname         0\n",
       "starttime                0\n",
       "stoptime                 0\n",
       "tripduration             0\n",
       "usertype                 0\n",
       "vicentydistance          0\n",
       "manhdistance             0\n",
       "startmonth               0\n",
       "stopmonth                0\n",
       "startdayname             0\n",
       "startday                 0\n",
       "stopdayname              0\n",
       "stopday                  0\n",
       "startdaytype             0\n",
       "enddaytype               0\n",
       "starthour                0\n",
       "endhour                  0\n",
       "startrushhour            0\n",
       "endrushhour              0\n",
       "starttimeofday           0\n",
       "endtimeofday             0\n",
       "age_at_ride              0\n",
       "age_group                0\n",
       "startcoords              0\n",
       "endcoords                0\n",
       "startneighborhood        0\n",
       "endneighborhood          0\n",
       "startboro                0\n",
       "endboro                  0\n",
       "dtype: int64"
      ]
     },
     "execution_count": 65,
     "metadata": {},
     "output_type": "execute_result"
    }
   ],
   "source": [
    "cb_master.isnull().sum()"
   ]
  },
  {
   "cell_type": "markdown",
   "metadata": {},
   "source": [
    "Perform datatype conversion to reduce memory:"
   ]
  },
  {
   "cell_type": "code",
   "execution_count": 66,
   "metadata": {},
   "outputs": [],
   "source": [
    "cb_master.drop(columns=['startcoords','endcoords'], inplace=True)"
   ]
  },
  {
   "cell_type": "code",
   "execution_count": 67,
   "metadata": {},
   "outputs": [],
   "source": [
    "cat_nom_feat = ['endstationname','startstationname','usertype',\n",
    "               'startneighborhood','startboro','endneighborhood','endboro',\n",
    "               'startdayname','stopdayname','startdaytype','enddaytype',\n",
    "               'startrushhour','endrushhour','starttimeofday','endtimeofday',\n",
    "               'age_group']"
   ]
  },
  {
   "cell_type": "code",
   "execution_count": 68,
   "metadata": {},
   "outputs": [],
   "source": [
    "cb_master[cat_nom_feat] = cb_master[cat_nom_feat].apply(lambda x: x.astype('category'))"
   ]
  },
  {
   "cell_type": "code",
   "execution_count": 69,
   "metadata": {},
   "outputs": [],
   "source": [
    "float_to_int = ['startstationid','endstationid','tripduration','bikeid','gender']\n",
    "\n",
    "cb[float_to_int] = cb[float_to_int].apply(lambda x: x.astype('int16'))"
   ]
  },
  {
   "cell_type": "code",
   "execution_count": 70,
   "metadata": {},
   "outputs": [],
   "source": [
    "cb_master['vicentydistance'] = cb_master['vicentydistance'].astype('float16')\n",
    "cb_master['manhdistance'] = cb_master['manhdistance'].astype('float16')"
   ]
  },
  {
   "cell_type": "markdown",
   "metadata": {},
   "source": [
    "### Final check\n",
    "\n",
    "Inspect memory:"
   ]
  },
  {
   "cell_type": "code",
   "execution_count": 71,
   "metadata": {},
   "outputs": [
    {
     "name": "stdout",
     "output_type": "stream",
     "text": [
      "<class 'pandas.core.frame.DataFrame'>\n",
      "RangeIndex: 4015035 entries, 0 to 4015034\n",
      "Data columns (total 37 columns):\n",
      "bikeid                   int16\n",
      "birthyear                datetime64[ns]\n",
      "endstationid             int16\n",
      "endstationlatitude       float64\n",
      "endstationlongitude      float64\n",
      "endstationname           category\n",
      "gender                   int16\n",
      "startstationid           int16\n",
      "startstationlatitude     float64\n",
      "startstationlongitude    float64\n",
      "startstationname         category\n",
      "starttime                datetime64[ns]\n",
      "stoptime                 datetime64[ns]\n",
      "tripduration             int16\n",
      "usertype                 category\n",
      "vicentydistance          float16\n",
      "manhdistance             float16\n",
      "startmonth               int16\n",
      "stopmonth                int16\n",
      "startdayname             category\n",
      "startday                 int16\n",
      "stopdayname              category\n",
      "stopday                  int16\n",
      "startdaytype             category\n",
      "enddaytype               category\n",
      "starthour                int16\n",
      "endhour                  int16\n",
      "startrushhour            category\n",
      "endrushhour              category\n",
      "starttimeofday           category\n",
      "endtimeofday             category\n",
      "age_at_ride              int16\n",
      "age_group                category\n",
      "startneighborhood        category\n",
      "endneighborhood          category\n",
      "startboro                category\n",
      "endboro                  category\n",
      "dtypes: category(16), datetime64[ns](3), float16(2), float64(4), int16(12)\n",
      "memory usage: 390.7 MB\n"
     ]
    }
   ],
   "source": [
    "cb_master.info()"
   ]
  },
  {
   "cell_type": "markdown",
   "metadata": {},
   "source": [
    "Inspect missing values:"
   ]
  },
  {
   "cell_type": "code",
   "execution_count": 72,
   "metadata": {},
   "outputs": [
    {
     "data": {
      "text/plain": [
       "bikeid                   0\n",
       "birthyear                0\n",
       "endstationid             0\n",
       "endstationlatitude       0\n",
       "endstationlongitude      0\n",
       "endstationname           0\n",
       "gender                   0\n",
       "startstationid           0\n",
       "startstationlatitude     0\n",
       "startstationlongitude    0\n",
       "startstationname         0\n",
       "starttime                0\n",
       "stoptime                 0\n",
       "tripduration             0\n",
       "usertype                 0\n",
       "vicentydistance          0\n",
       "manhdistance             0\n",
       "startmonth               0\n",
       "stopmonth                0\n",
       "startdayname             0\n",
       "startday                 0\n",
       "stopdayname              0\n",
       "stopday                  0\n",
       "startdaytype             0\n",
       "enddaytype               0\n",
       "starthour                0\n",
       "endhour                  0\n",
       "startrushhour            0\n",
       "endrushhour              0\n",
       "starttimeofday           0\n",
       "endtimeofday             0\n",
       "age_at_ride              0\n",
       "age_group                0\n",
       "startneighborhood        0\n",
       "endneighborhood          0\n",
       "startboro                0\n",
       "endboro                  0\n",
       "dtype: int64"
      ]
     },
     "execution_count": 72,
     "metadata": {},
     "output_type": "execute_result"
    }
   ],
   "source": [
    "cb_master.isnull().sum()"
   ]
  },
  {
   "cell_type": "markdown",
   "metadata": {},
   "source": [
    "Create csv file of feature engineering citibike dataset:"
   ]
  },
  {
   "cell_type": "code",
   "execution_count": null,
   "metadata": {},
   "outputs": [],
   "source": [
    "cb_master.to_csv('../../data/02_processed/citibike_feature_engineered_final_v2.csv', index=False)"
   ]
  },
  {
   "cell_type": "markdown",
   "metadata": {},
   "source": [
    "## Appendix"
   ]
  },
  {
   "cell_type": "markdown",
   "metadata": {},
   "source": [
    "### Identifying unique trips"
   ]
  },
  {
   "cell_type": "markdown",
   "metadata": {},
   "source": [
    "Create new feature, `uniquetripid`:"
   ]
  },
  {
   "cell_type": "code",
   "execution_count": null,
   "metadata": {},
   "outputs": [],
   "source": [
    "cb_filtered = cb_master[cb_master['birthyear'].dt.year.astype('int16') > 1920]\n",
    "cb_filtered['birthyear'] = cb_filtered['birthyear'].dt.year.astype('int16')"
   ]
  },
  {
   "cell_type": "code",
   "execution_count": null,
   "metadata": {},
   "outputs": [],
   "source": [
    "cb_filtered.groupby(['birthyear','gender','usertype','startstationid','starttime','startneighborhood']).size()"
   ]
  },
  {
   "cell_type": "code",
   "execution_count": null,
   "metadata": {},
   "outputs": [],
   "source": [
    "cb_filtered.groupby(['startneighborhood','startstationid','starttime','usertype','birthyear','gender']).size()"
   ]
  },
  {
   "cell_type": "code",
   "execution_count": null,
   "metadata": {},
   "outputs": [],
   "source": []
  }
 ],
 "metadata": {
  "kernelspec": {
   "display_name": "Python 3",
   "language": "python",
   "name": "python3"
  },
  "language_info": {
   "codemirror_mode": {
    "name": "ipython",
    "version": 3
   },
   "file_extension": ".py",
   "mimetype": "text/x-python",
   "name": "python",
   "nbconvert_exporter": "python",
   "pygments_lexer": "ipython3",
   "version": "3.7.4"
  }
 },
 "nbformat": 4,
 "nbformat_minor": 2
}
