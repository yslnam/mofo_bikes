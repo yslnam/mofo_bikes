{
 "cells": [
  {
   "cell_type": "markdown",
   "metadata": {},
   "source": [
    "# 2014-2018 ACS Data by Neighborhood Tabulation Area (NTA)"
   ]
  },
  {
   "cell_type": "markdown",
   "metadata": {},
   "source": [
    "## Import libraries"
   ]
  },
  {
   "cell_type": "code",
   "execution_count": 1,
   "metadata": {},
   "outputs": [],
   "source": [
    "import numpy as np\n",
    "import pandas as pd\n",
    "import datetime as dt\n",
    "from pandas.api.types import CategoricalDtype\n",
    "\n",
    "from shapely.geometry import Point, Polygon, MultiPolygon\n",
    "import geopandas as gpd"
   ]
  },
  {
   "cell_type": "code",
   "execution_count": 2,
   "metadata": {},
   "outputs": [],
   "source": [
    "def colpercent(df):\n",
    "    print(\"Total NaN in Dataframe: \" , df.isnull().sum().sum())\n",
    "    print(\"Percent Missingness in Dataframe: \", 100*df.isnull().sum().sum()/(len(df.index)*len(df.columns)))\n",
    "    print('-'*55)\n",
    "    percentnulldf = df.isnull().sum()/(df.isnull().sum()+df.notna().sum())\n",
    "    print(\"Percent Missingness by Columns:\")\n",
    "    print(100*percentnulldf[percentnulldf>0].sort_values(ascending=False))\n",
    "    \n",
    "def data_eval(df):\n",
    "    for i in range(len(df.columns)):\n",
    "        print('-'*50)\n",
    "        print('Column Name: ', df.columns[i])\n",
    "        if (df[df.columns[i]].dtypes == 'float64' or df[df.columns[i]].dtypes == 'int64') and df[df.columns[i]][df[df.columns[i]]<0].count()>0:\n",
    "            print('Number of negatives: ', df[df.columns[i]][df[df.columns[i]]<0].count())\n",
    "        if df[df.columns[i]][df[df.columns[i]]=='None'].count() > 0:\n",
    "            print('Number of None strings: ', df[df.columns[i]][df[df.columns[i]]=='None'].count())\n",
    "        if df[df.columns[i]][df[df.columns[i]]==''].count() > 0:\n",
    "            print('Number of empty strings: ', df[df.columns[i]][df[df.columns[i]]==''].count())\n",
    "        else:\n",
    "            print('Column ' + str(i) + ' has no negatives, empty strings or Nones')"
   ]
  },
  {
   "cell_type": "markdown",
   "metadata": {},
   "source": [
    "## Import and load data"
   ]
  },
  {
   "cell_type": "code",
   "execution_count": 3,
   "metadata": {},
   "outputs": [],
   "source": [
    "root_path = '../../data/00_raw/'\n",
    "nta_path = root_path + 'econ_2018_acs5yr_nta.xlsx'\n",
    "ntageo_path = root_path + 'nta_acs_201418.geojson'\n",
    "cb_path = root_path + 'citibike_feature_engineered_final_v2.csv'"
   ]
  },
  {
   "cell_type": "code",
   "execution_count": 4,
   "metadata": {},
   "outputs": [],
   "source": [
    "acsnta_raw = pd.read_excel(nta_path,\n",
    "                          usecols = 'B:D, J, O, T, Y, AD, AI, CL, CQ, CV, DA, DF, DK, DP, DU, DZ, EE, EJ, EO, ET, EY, HV, IA, IF, IK, IP, IU, IZ, IE, JE, JJ, JO, JT, JY, KD, KI, KN, KS, KX, LC, PD, PI, PN, UI, UN, US, UX')"
   ]
  },
  {
   "cell_type": "code",
   "execution_count": 5,
   "metadata": {},
   "outputs": [],
   "source": [
    "acsnta = acsnta_raw.copy()"
   ]
  },
  {
   "cell_type": "code",
   "execution_count": 6,
   "metadata": {},
   "outputs": [],
   "source": [
    "acsnta = acsnta.drop(columns=['PrvWSWrkrZ'])"
   ]
  },
  {
   "cell_type": "markdown",
   "metadata": {},
   "source": [
    "Rename columns:"
   ]
  },
  {
   "cell_type": "code",
   "execution_count": 7,
   "metadata": {},
   "outputs": [],
   "source": [
    "column_rename = {'GeogName': 'nta_name',\n",
    "                 'GeoID': 'nta_code',\n",
    "                 'Borough': 'borough',\n",
    "                 'LFE': 'in_labor_force',\n",
    "                 'CvLF1E': 'civilian_labor_force',\n",
    "                 'CvEm16pl1E': 'employed',\n",
    "                 'CvLFUEm1E': 'unemployed',\n",
    "                 'LFArmdFE': 'armed_forces',\n",
    "                 'NLF1E': 'not_in_labor_force',\n",
    "                 'Wrkr16plE': 'workers_16+',\n",
    "                 'CW_DrvAlnE': 'vehicle',\n",
    "                 'CW_CrpldE': 'carpool',\n",
    "                 'CW_PbTrnsE': 'public_transit',\n",
    "                 'CW_WlkdE': 'walking',\n",
    "                 'CW_OthE': 'other_commuting_means',\n",
    "                 'CW_WrkdHmE': 'work_at_home',\n",
    "                 'MnTrvTmE': 'mean_commuting_time_(min)',\n",
    "                 'CvEm16pl2E': 'occ_civilian_employed_16+',\n",
    "                 'MgBSciArtE': 'mng_biz_sci_arts',\n",
    "                 'SrvcE': 'service',\n",
    "                 'SalesOffE': 'sales_office',\n",
    "                 'NRCnstMntE': 'natres_construct_maint',\n",
    "                 'PrdTrnsMME': 'prod_transport_moving',\n",
    "                 'CvEm16pl4E': 'class_civilian_employed_16+',\n",
    "                 'PrvWSWrkrE': 'salary_workers',\n",
    "                 'GvtWrkrE': 'govt_workers',\n",
    "                 'SlfEmNIncE': 'self-employed',\n",
    "                 'UpdFmWrkrE': 'unpaid_family_workers',\n",
    "                 'HH2E': 'total_households',\n",
    "                 'HHIU10E': 'hincome_10K_under',\n",
    "                 'HHI10t14E': 'hincome_10K_15K',\n",
    "                 'HHI15t24E': 'hincome_15K_25K',\n",
    "                 'HHI25t34E': 'hincome_25K_35K',\n",
    "                 'HHI35t49E': 'hincome_35K_50K',\n",
    "                 'HHI50t74E': 'hincome_50K_75K',\n",
    "                 'HHI75t99E': 'hincome_75K_100K',\n",
    "                 'HI100t149E': 'hincome_100K_150K',\n",
    "                 'HI150t199E': 'hincome_150K_200K',\n",
    "                 'HHI200plE': 'hincome_200K_more',\n",
    "                 'MdHHIncE': 'median_hincome',\n",
    "                 'MnHHIncE': 'mean_hincome',\n",
    "                 'MdEWrkE': 'median_earnings',\n",
    "                 'MdEMFTWrkE': 'median_earnings_male',\n",
    "                 'MdEFFTWrkE': 'median_earnings_female',\n",
    "                 'FamPvUE': 'all_families',\n",
    "                 'FamBwPvE': 'all_families_below_poverty',\n",
    "                 'PopPvU1E': 'pop_poverty_status_determ',\n",
    "                 'PBwPvE': 'pop_below_poverty'}"
   ]
  },
  {
   "cell_type": "code",
   "execution_count": 8,
   "metadata": {},
   "outputs": [],
   "source": [
    "acsnta = acsnta.rename(columns=column_rename)"
   ]
  },
  {
   "cell_type": "markdown",
   "metadata": {},
   "source": [
    "Exclude Staten Island:"
   ]
  },
  {
   "cell_type": "code",
   "execution_count": 9,
   "metadata": {},
   "outputs": [],
   "source": [
    "acsnta = acsnta[acsnta.borough != 'Staten Island']"
   ]
  },
  {
   "cell_type": "markdown",
   "metadata": {},
   "source": [
    "Fill missing values:"
   ]
  },
  {
   "cell_type": "code",
   "execution_count": 10,
   "metadata": {},
   "outputs": [],
   "source": [
    "acsnta = acsnta.fillna(0)"
   ]
  },
  {
   "cell_type": "markdown",
   "metadata": {},
   "source": [
    "Save as csv:"
   ]
  },
  {
   "cell_type": "code",
   "execution_count": 33,
   "metadata": {},
   "outputs": [],
   "source": [
    "acsnta.to_csv('../../data/00_raw/acsnta.csv', index=False)"
   ]
  },
  {
   "cell_type": "code",
   "execution_count": 34,
   "metadata": {},
   "outputs": [
    {
     "data": {
      "text/html": [
       "<div>\n",
       "<style scoped>\n",
       "    .dataframe tbody tr th:only-of-type {\n",
       "        vertical-align: middle;\n",
       "    }\n",
       "\n",
       "    .dataframe tbody tr th {\n",
       "        vertical-align: top;\n",
       "    }\n",
       "\n",
       "    .dataframe thead th {\n",
       "        text-align: right;\n",
       "    }\n",
       "</style>\n",
       "<table border=\"1\" class=\"dataframe\">\n",
       "  <thead>\n",
       "    <tr style=\"text-align: right;\">\n",
       "      <th></th>\n",
       "      <th>nta_name</th>\n",
       "      <th>nta_code</th>\n",
       "      <th>borough</th>\n",
       "      <th>in_labor_force</th>\n",
       "      <th>civilian_labor_force</th>\n",
       "      <th>employed</th>\n",
       "      <th>unemployed</th>\n",
       "      <th>armed_forces</th>\n",
       "      <th>not_in_labor_force</th>\n",
       "      <th>workers_16+</th>\n",
       "      <th>...</th>\n",
       "      <th>hincome_200K_more</th>\n",
       "      <th>median_hincome</th>\n",
       "      <th>mean_hincome</th>\n",
       "      <th>median_earnings</th>\n",
       "      <th>median_earnings_male</th>\n",
       "      <th>median_earnings_female</th>\n",
       "      <th>all_families</th>\n",
       "      <th>all_families_below_poverty</th>\n",
       "      <th>pop_poverty_status_determ</th>\n",
       "      <th>pop_below_poverty</th>\n",
       "    </tr>\n",
       "  </thead>\n",
       "  <tbody>\n",
       "    <tr>\n",
       "      <th>0</th>\n",
       "      <td>Allerton-Pelham Gardens</td>\n",
       "      <td>BX31</td>\n",
       "      <td>Bronx</td>\n",
       "      <td>15835</td>\n",
       "      <td>15835</td>\n",
       "      <td>14887</td>\n",
       "      <td>948</td>\n",
       "      <td>0</td>\n",
       "      <td>10779</td>\n",
       "      <td>14471</td>\n",
       "      <td>...</td>\n",
       "      <td>707</td>\n",
       "      <td>71414.0</td>\n",
       "      <td>88250.0</td>\n",
       "      <td>39182.0</td>\n",
       "      <td>50078.0</td>\n",
       "      <td>49112.0</td>\n",
       "      <td>7344</td>\n",
       "      <td>601</td>\n",
       "      <td>30243</td>\n",
       "      <td>3434</td>\n",
       "    </tr>\n",
       "    <tr>\n",
       "      <th>1</th>\n",
       "      <td>Bedford Park-Fordham North</td>\n",
       "      <td>BX05</td>\n",
       "      <td>Bronx</td>\n",
       "      <td>29295</td>\n",
       "      <td>29269</td>\n",
       "      <td>25755</td>\n",
       "      <td>3514</td>\n",
       "      <td>26</td>\n",
       "      <td>14923</td>\n",
       "      <td>24837</td>\n",
       "      <td>...</td>\n",
       "      <td>353</td>\n",
       "      <td>37282.0</td>\n",
       "      <td>54033.0</td>\n",
       "      <td>25194.0</td>\n",
       "      <td>35131.0</td>\n",
       "      <td>33773.0</td>\n",
       "      <td>13366</td>\n",
       "      <td>3979</td>\n",
       "      <td>57380</td>\n",
       "      <td>18625</td>\n",
       "    </tr>\n",
       "    <tr>\n",
       "      <th>2</th>\n",
       "      <td>Belmont</td>\n",
       "      <td>BX06</td>\n",
       "      <td>Bronx</td>\n",
       "      <td>12206</td>\n",
       "      <td>12191</td>\n",
       "      <td>10284</td>\n",
       "      <td>1907</td>\n",
       "      <td>15</td>\n",
       "      <td>10208</td>\n",
       "      <td>9854</td>\n",
       "      <td>...</td>\n",
       "      <td>42</td>\n",
       "      <td>28484.0</td>\n",
       "      <td>38077.0</td>\n",
       "      <td>16113.0</td>\n",
       "      <td>32700.0</td>\n",
       "      <td>28710.0</td>\n",
       "      <td>5856</td>\n",
       "      <td>1967</td>\n",
       "      <td>26275</td>\n",
       "      <td>10141</td>\n",
       "    </tr>\n",
       "    <tr>\n",
       "      <th>3</th>\n",
       "      <td>Bronxdale</td>\n",
       "      <td>BX07</td>\n",
       "      <td>Bronx</td>\n",
       "      <td>18614</td>\n",
       "      <td>18614</td>\n",
       "      <td>16251</td>\n",
       "      <td>2363</td>\n",
       "      <td>0</td>\n",
       "      <td>12042</td>\n",
       "      <td>15816</td>\n",
       "      <td>...</td>\n",
       "      <td>184</td>\n",
       "      <td>38587.0</td>\n",
       "      <td>50720.0</td>\n",
       "      <td>29471.0</td>\n",
       "      <td>39626.0</td>\n",
       "      <td>39773.0</td>\n",
       "      <td>9260</td>\n",
       "      <td>2372</td>\n",
       "      <td>38787</td>\n",
       "      <td>10503</td>\n",
       "    </tr>\n",
       "    <tr>\n",
       "      <th>4</th>\n",
       "      <td>Claremont-Bathgate</td>\n",
       "      <td>BX01</td>\n",
       "      <td>Bronx</td>\n",
       "      <td>13226</td>\n",
       "      <td>13226</td>\n",
       "      <td>11111</td>\n",
       "      <td>2115</td>\n",
       "      <td>0</td>\n",
       "      <td>11830</td>\n",
       "      <td>10675</td>\n",
       "      <td>...</td>\n",
       "      <td>34</td>\n",
       "      <td>25061.0</td>\n",
       "      <td>37407.0</td>\n",
       "      <td>20295.0</td>\n",
       "      <td>37323.0</td>\n",
       "      <td>33137.0</td>\n",
       "      <td>7621</td>\n",
       "      <td>3307</td>\n",
       "      <td>34558</td>\n",
       "      <td>15763</td>\n",
       "    </tr>\n",
       "    <tr>\n",
       "      <th>...</th>\n",
       "      <td>...</td>\n",
       "      <td>...</td>\n",
       "      <td>...</td>\n",
       "      <td>...</td>\n",
       "      <td>...</td>\n",
       "      <td>...</td>\n",
       "      <td>...</td>\n",
       "      <td>...</td>\n",
       "      <td>...</td>\n",
       "      <td>...</td>\n",
       "      <td>...</td>\n",
       "      <td>...</td>\n",
       "      <td>...</td>\n",
       "      <td>...</td>\n",
       "      <td>...</td>\n",
       "      <td>...</td>\n",
       "      <td>...</td>\n",
       "      <td>...</td>\n",
       "      <td>...</td>\n",
       "      <td>...</td>\n",
       "      <td>...</td>\n",
       "    </tr>\n",
       "    <tr>\n",
       "      <th>171</th>\n",
       "      <td>St. Albans</td>\n",
       "      <td>QN08</td>\n",
       "      <td>Queens</td>\n",
       "      <td>28577</td>\n",
       "      <td>28518</td>\n",
       "      <td>26263</td>\n",
       "      <td>2255</td>\n",
       "      <td>59</td>\n",
       "      <td>14409</td>\n",
       "      <td>25461</td>\n",
       "      <td>...</td>\n",
       "      <td>1106</td>\n",
       "      <td>77454.0</td>\n",
       "      <td>93423.0</td>\n",
       "      <td>39469.0</td>\n",
       "      <td>50791.0</td>\n",
       "      <td>46456.0</td>\n",
       "      <td>11913</td>\n",
       "      <td>820</td>\n",
       "      <td>52509</td>\n",
       "      <td>4316</td>\n",
       "    </tr>\n",
       "    <tr>\n",
       "      <th>172</th>\n",
       "      <td>Steinway</td>\n",
       "      <td>QN72</td>\n",
       "      <td>Queens</td>\n",
       "      <td>29530</td>\n",
       "      <td>29483</td>\n",
       "      <td>28143</td>\n",
       "      <td>1340</td>\n",
       "      <td>47</td>\n",
       "      <td>12467</td>\n",
       "      <td>26865</td>\n",
       "      <td>...</td>\n",
       "      <td>1480</td>\n",
       "      <td>74387.0</td>\n",
       "      <td>96276.0</td>\n",
       "      <td>45980.0</td>\n",
       "      <td>58015.0</td>\n",
       "      <td>55890.0</td>\n",
       "      <td>10514</td>\n",
       "      <td>685</td>\n",
       "      <td>48174</td>\n",
       "      <td>4742</td>\n",
       "    </tr>\n",
       "    <tr>\n",
       "      <th>173</th>\n",
       "      <td>Whitestone</td>\n",
       "      <td>QN49</td>\n",
       "      <td>Queens</td>\n",
       "      <td>15715</td>\n",
       "      <td>15676</td>\n",
       "      <td>14834</td>\n",
       "      <td>842</td>\n",
       "      <td>39</td>\n",
       "      <td>10450</td>\n",
       "      <td>14458</td>\n",
       "      <td>...</td>\n",
       "      <td>1174</td>\n",
       "      <td>86871.0</td>\n",
       "      <td>106229.0</td>\n",
       "      <td>43608.0</td>\n",
       "      <td>70534.0</td>\n",
       "      <td>55484.0</td>\n",
       "      <td>8559</td>\n",
       "      <td>438</td>\n",
       "      <td>31782</td>\n",
       "      <td>1831</td>\n",
       "    </tr>\n",
       "    <tr>\n",
       "      <th>174</th>\n",
       "      <td>Woodhaven</td>\n",
       "      <td>QN53</td>\n",
       "      <td>Queens</td>\n",
       "      <td>31244</td>\n",
       "      <td>31230</td>\n",
       "      <td>29009</td>\n",
       "      <td>2221</td>\n",
       "      <td>14</td>\n",
       "      <td>17285</td>\n",
       "      <td>28126</td>\n",
       "      <td>...</td>\n",
       "      <td>866</td>\n",
       "      <td>71580.0</td>\n",
       "      <td>85858.0</td>\n",
       "      <td>32483.0</td>\n",
       "      <td>43878.0</td>\n",
       "      <td>41348.0</td>\n",
       "      <td>13539</td>\n",
       "      <td>1374</td>\n",
       "      <td>60378</td>\n",
       "      <td>7381</td>\n",
       "    </tr>\n",
       "    <tr>\n",
       "      <th>175</th>\n",
       "      <td>Woodside</td>\n",
       "      <td>QN63</td>\n",
       "      <td>Queens</td>\n",
       "      <td>23599</td>\n",
       "      <td>23599</td>\n",
       "      <td>22594</td>\n",
       "      <td>1005</td>\n",
       "      <td>0</td>\n",
       "      <td>13497</td>\n",
       "      <td>22253</td>\n",
       "      <td>...</td>\n",
       "      <td>601</td>\n",
       "      <td>58729.0</td>\n",
       "      <td>74166.0</td>\n",
       "      <td>34455.0</td>\n",
       "      <td>40977.0</td>\n",
       "      <td>40167.0</td>\n",
       "      <td>9806</td>\n",
       "      <td>751</td>\n",
       "      <td>43552</td>\n",
       "      <td>4499</td>\n",
       "    </tr>\n",
       "  </tbody>\n",
       "</table>\n",
       "<p>176 rows × 48 columns</p>\n",
       "</div>"
      ],
      "text/plain": [
       "                       nta_name nta_code borough  in_labor_force  \\\n",
       "0       Allerton-Pelham Gardens     BX31   Bronx           15835   \n",
       "1    Bedford Park-Fordham North     BX05   Bronx           29295   \n",
       "2                       Belmont     BX06   Bronx           12206   \n",
       "3                     Bronxdale     BX07   Bronx           18614   \n",
       "4            Claremont-Bathgate     BX01   Bronx           13226   \n",
       "..                          ...      ...     ...             ...   \n",
       "171                  St. Albans     QN08  Queens           28577   \n",
       "172                    Steinway     QN72  Queens           29530   \n",
       "173                  Whitestone     QN49  Queens           15715   \n",
       "174                   Woodhaven     QN53  Queens           31244   \n",
       "175                    Woodside     QN63  Queens           23599   \n",
       "\n",
       "     civilian_labor_force  employed  unemployed  armed_forces  \\\n",
       "0                   15835     14887         948             0   \n",
       "1                   29269     25755        3514            26   \n",
       "2                   12191     10284        1907            15   \n",
       "3                   18614     16251        2363             0   \n",
       "4                   13226     11111        2115             0   \n",
       "..                    ...       ...         ...           ...   \n",
       "171                 28518     26263        2255            59   \n",
       "172                 29483     28143        1340            47   \n",
       "173                 15676     14834         842            39   \n",
       "174                 31230     29009        2221            14   \n",
       "175                 23599     22594        1005             0   \n",
       "\n",
       "     not_in_labor_force  workers_16+  ...  hincome_200K_more  median_hincome  \\\n",
       "0                 10779        14471  ...                707         71414.0   \n",
       "1                 14923        24837  ...                353         37282.0   \n",
       "2                 10208         9854  ...                 42         28484.0   \n",
       "3                 12042        15816  ...                184         38587.0   \n",
       "4                 11830        10675  ...                 34         25061.0   \n",
       "..                  ...          ...  ...                ...             ...   \n",
       "171               14409        25461  ...               1106         77454.0   \n",
       "172               12467        26865  ...               1480         74387.0   \n",
       "173               10450        14458  ...               1174         86871.0   \n",
       "174               17285        28126  ...                866         71580.0   \n",
       "175               13497        22253  ...                601         58729.0   \n",
       "\n",
       "     mean_hincome  median_earnings  median_earnings_male  \\\n",
       "0         88250.0          39182.0               50078.0   \n",
       "1         54033.0          25194.0               35131.0   \n",
       "2         38077.0          16113.0               32700.0   \n",
       "3         50720.0          29471.0               39626.0   \n",
       "4         37407.0          20295.0               37323.0   \n",
       "..            ...              ...                   ...   \n",
       "171       93423.0          39469.0               50791.0   \n",
       "172       96276.0          45980.0               58015.0   \n",
       "173      106229.0          43608.0               70534.0   \n",
       "174       85858.0          32483.0               43878.0   \n",
       "175       74166.0          34455.0               40977.0   \n",
       "\n",
       "     median_earnings_female  all_families  all_families_below_poverty  \\\n",
       "0                   49112.0          7344                         601   \n",
       "1                   33773.0         13366                        3979   \n",
       "2                   28710.0          5856                        1967   \n",
       "3                   39773.0          9260                        2372   \n",
       "4                   33137.0          7621                        3307   \n",
       "..                      ...           ...                         ...   \n",
       "171                 46456.0         11913                         820   \n",
       "172                 55890.0         10514                         685   \n",
       "173                 55484.0          8559                         438   \n",
       "174                 41348.0         13539                        1374   \n",
       "175                 40167.0          9806                         751   \n",
       "\n",
       "     pop_poverty_status_determ  pop_below_poverty  \n",
       "0                        30243               3434  \n",
       "1                        57380              18625  \n",
       "2                        26275              10141  \n",
       "3                        38787              10503  \n",
       "4                        34558              15763  \n",
       "..                         ...                ...  \n",
       "171                      52509               4316  \n",
       "172                      48174               4742  \n",
       "173                      31782               1831  \n",
       "174                      60378               7381  \n",
       "175                      43552               4499  \n",
       "\n",
       "[176 rows x 48 columns]"
      ]
     },
     "execution_count": 34,
     "metadata": {},
     "output_type": "execute_result"
    }
   ],
   "source": [
    "acsnta"
   ]
  },
  {
   "cell_type": "code",
   "execution_count": 11,
   "metadata": {},
   "outputs": [],
   "source": [
    "ntageo_path = '../../data/00_raw/nta_acs_201418.geojson'\n",
    "nta_geo = gpd.read_file(ntageo_path)"
   ]
  },
  {
   "cell_type": "markdown",
   "metadata": {},
   "source": [
    "# Citibike dataset"
   ]
  },
  {
   "cell_type": "markdown",
   "metadata": {},
   "source": [
    "Import and load data:"
   ]
  },
  {
   "cell_type": "code",
   "execution_count": 12,
   "metadata": {},
   "outputs": [],
   "source": [
    "cb = pd.read_csv(cb_path, parse_dates=['starttime', 'stoptime'])"
   ]
  },
  {
   "cell_type": "markdown",
   "metadata": {},
   "source": [
    "Check for missing values:"
   ]
  },
  {
   "cell_type": "code",
   "execution_count": 13,
   "metadata": {},
   "outputs": [
    {
     "data": {
      "text/plain": [
       "startneighborhood    275380\n",
       "endneighborhood      277796\n",
       "startboro            275380\n",
       "dtype: int64"
      ]
     },
     "execution_count": 13,
     "metadata": {},
     "output_type": "execute_result"
    }
   ],
   "source": [
    "cb.isnull().sum()[cb_raw.isnull().sum() > 0]"
   ]
  },
  {
   "cell_type": "markdown",
   "metadata": {},
   "source": [
    "Drop duplicates:"
   ]
  },
  {
   "cell_type": "code",
   "execution_count": 14,
   "metadata": {},
   "outputs": [],
   "source": [
    "start_stations = cb[['startstationid','startstationlatitude', 'startstationlongitude']].drop_duplicates('startstationid')\n",
    "end_stations = cb_raw[['endstationid','endstationlatitude', 'endstationlongitude']].drop_duplicates('endstationid')\n",
    "start_stations.columns = ['station_id', 'latitude', 'longitude']\n",
    "end_stations.columns = ['station_id', 'latitude', 'longitude']\n",
    "stations = pd.concat([start_stations, end_stations]).drop_duplicates('station_id')"
   ]
  },
  {
   "cell_type": "markdown",
   "metadata": {},
   "source": [
    "Checking if stations are inside Neighborhood Tabulation Area:"
   ]
  },
  {
   "cell_type": "code",
   "execution_count": 15,
   "metadata": {},
   "outputs": [],
   "source": [
    "stations['point'] = [Point(stations.iloc[i, 2], stations.iloc[i, 1]) for i in range(len(stations))]"
   ]
  },
  {
   "cell_type": "code",
   "execution_count": 16,
   "metadata": {},
   "outputs": [],
   "source": [
    "stations = stations.drop(columns=['latitude', 'longitude'])"
   ]
  },
  {
   "cell_type": "code",
   "execution_count": 17,
   "metadata": {},
   "outputs": [],
   "source": [
    "nta_code_geometry = nta_geo[['NTACode', 'geometry']]"
   ]
  },
  {
   "cell_type": "code",
   "execution_count": 18,
   "metadata": {},
   "outputs": [],
   "source": [
    "temp = pd.DataFrame(columns = ['station_id', 'nta_code'])\n",
    "\n",
    "for station in range(len(stations)):\n",
    "    for nta_block in range(len(nta_code_geometry)):\n",
    "        if stations.iloc[station,1].within(nta_code_geometry.iloc[nta_block, 1]):\n",
    "            temp = temp.append({'station_id':stations.iloc[station,0], 'nta_code':nta_code_geometry.iloc[nta_block, 0]}, ignore_index=True)"
   ]
  },
  {
   "cell_type": "markdown",
   "metadata": {},
   "source": [
    "Merge CitiBike data with NTA data:"
   ]
  },
  {
   "cell_type": "code",
   "execution_count": 19,
   "metadata": {},
   "outputs": [],
   "source": [
    "acsnta2 = acsnta.merge(temp, how='right', on='nta_code')"
   ]
  },
  {
   "cell_type": "code",
   "execution_count": 20,
   "metadata": {},
   "outputs": [
    {
     "data": {
      "text/plain": [
       "Index(['nta_name', 'nta_code', 'borough', 'in_labor_force',\n",
       "       'civilian_labor_force', 'employed', 'unemployed', 'armed_forces',\n",
       "       'not_in_labor_force', 'workers_16+', 'vehicle', 'carpool',\n",
       "       'public_transit', 'walking', 'other_commuting_means', 'work_at_home',\n",
       "       'mean_commuting_time_(min)', 'occ_civilian_employed_16+',\n",
       "       'mng_biz_sci_arts', 'service', 'sales_office', 'natres_construct_maint',\n",
       "       'prod_transport_moving', 'class_civilian_employed_16+',\n",
       "       'salary_workers', 'govt_workers', 'self-employed',\n",
       "       'unpaid_family_workers', 'total_households', 'hincome_10K_under',\n",
       "       'hincome_10K_15K', 'hincome_15K_25K', 'hincome_25K_35K',\n",
       "       'hincome_35K_50K', 'hincome_50K_75K', 'hincome_75K_100K',\n",
       "       'hincome_100K_150K', 'hincome_150K_200K', 'hincome_200K_more',\n",
       "       'median_hincome', 'mean_hincome', 'median_earnings',\n",
       "       'median_earnings_male', 'median_earnings_female', 'all_families',\n",
       "       'all_families_below_poverty', 'pop_poverty_status_determ',\n",
       "       'pop_below_poverty', 'station_id'],\n",
       "      dtype='object')"
      ]
     },
     "execution_count": 20,
     "metadata": {},
     "output_type": "execute_result"
    }
   ],
   "source": [
    "acsnta2.columns"
   ]
  },
  {
   "cell_type": "markdown",
   "metadata": {},
   "source": [
    "Save as csv:"
   ]
  },
  {
   "cell_type": "code",
   "execution_count": 21,
   "metadata": {},
   "outputs": [],
   "source": [
    "acsnta2.to_csv('acsnta_with_station_id.csv', index=False)"
   ]
  },
  {
   "cell_type": "markdown",
   "metadata": {},
   "source": [
    "Sampling the downsampled file for more efficient processing analysis:"
   ]
  },
  {
   "cell_type": "code",
   "execution_count": 22,
   "metadata": {},
   "outputs": [],
   "source": [
    "cb = cb_raw.copy()"
   ]
  },
  {
   "cell_type": "code",
   "execution_count": 24,
   "metadata": {},
   "outputs": [],
   "source": [
    "# citidb2 = citidb[citidb['starttime'].dt.year <= 2018]"
   ]
  },
  {
   "cell_type": "code",
   "execution_count": 25,
   "metadata": {},
   "outputs": [],
   "source": [
    "# citidb2 = citidb2[citidb2['starttime'].dt.year >= 2014]"
   ]
  },
  {
   "cell_type": "code",
   "execution_count": 23,
   "metadata": {},
   "outputs": [],
   "source": [
    "acsnta2_start = acsnta2.copy()\n",
    "acsnta2_end = acsnta2.copy()"
   ]
  },
  {
   "cell_type": "code",
   "execution_count": 24,
   "metadata": {},
   "outputs": [],
   "source": [
    "acsnta2_start.columns = ['start_' + column for column in acsnta2.columns if column != 'station_id'] + ['station_id']\n",
    "acsnta2_end.columns = ['end_' + column for column in acsnta2.columns if column != 'station_id'] + ['station_id']"
   ]
  },
  {
   "cell_type": "markdown",
   "metadata": {},
   "source": [
    "Merge files:"
   ]
  },
  {
   "cell_type": "code",
   "execution_count": 25,
   "metadata": {},
   "outputs": [],
   "source": [
    "citidb2 = citidb2.merge(acsnta2_start, left_on='startstationid', right_on='station_id')"
   ]
  },
  {
   "cell_type": "code",
   "execution_count": 26,
   "metadata": {},
   "outputs": [],
   "source": [
    "citidb2 = citidb2.merge(acsnta2_end, left_on='endstationid', right_on='station_id')"
   ]
  },
  {
   "cell_type": "markdown",
   "metadata": {},
   "source": [
    "Cleaning:"
   ]
  },
  {
   "cell_type": "code",
   "execution_count": 27,
   "metadata": {},
   "outputs": [],
   "source": [
    "citidb2 = citidb2.drop(columns = ['station_id_x', 'station_id_y'])"
   ]
  },
  {
   "cell_type": "code",
   "execution_count": 28,
   "metadata": {},
   "outputs": [],
   "source": [
    "sample = citidb2.sample(n=int(len(citidb)*0.08))"
   ]
  },
  {
   "cell_type": "markdown",
   "metadata": {},
   "source": [
    "Save as csv:"
   ]
  },
  {
   "cell_type": "code",
   "execution_count": 29,
   "metadata": {},
   "outputs": [],
   "source": [
    "sample.to_csv('sample_citibike_with_acsnta.csv', index=False)"
   ]
  },
  {
   "cell_type": "code",
   "execution_count": 30,
   "metadata": {},
   "outputs": [],
   "source": [
    "citidb2.to_csv('citibike_with_acsnta.csv', index=False)"
   ]
  }
 ],
 "metadata": {
  "kernelspec": {
   "display_name": "Python 3",
   "language": "python",
   "name": "python3"
  },
  "language_info": {
   "codemirror_mode": {
    "name": "ipython",
    "version": 3
   },
   "file_extension": ".py",
   "mimetype": "text/x-python",
   "name": "python",
   "nbconvert_exporter": "python",
   "pygments_lexer": "ipython3",
   "version": "3.7.4"
  }
 },
 "nbformat": 4,
 "nbformat_minor": 2
}
